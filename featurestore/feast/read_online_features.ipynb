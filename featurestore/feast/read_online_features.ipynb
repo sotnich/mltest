{
 "cells": [
  {
   "cell_type": "code",
   "execution_count": 2,
   "metadata": {
    "collapsed": true
   },
   "outputs": [],
   "source": [
    "from pprint import pprint\n",
    "from feast import FeatureStore"
   ]
  },
  {
   "cell_type": "code",
   "execution_count": 31,
   "outputs": [],
   "source": [
    "store = FeatureStore(repo_path=\"./my_feature_repo/feature_repo\")"
   ],
   "metadata": {
    "collapsed": false
   }
  },
  {
   "cell_type": "code",
   "execution_count": 32,
   "outputs": [],
   "source": [
    "feature_vector = store.get_online_features(\n",
    "    features=[\n",
    "        \"driver_hourly_stats:conv_rate\",\n",
    "        \"driver_hourly_stats:acc_rate\",\n",
    "        \"driver_hourly_stats:avg_daily_trips\",\n",
    "    ],\n",
    "    entity_rows=[\n",
    "        # {join_key: entity_value}\n",
    "        {\"driver_id\": 1004},\n",
    "        {\"driver_id\": 1005},\n",
    "    ],\n",
    ").to_dict()"
   ],
   "metadata": {
    "collapsed": false
   }
  },
  {
   "cell_type": "code",
   "execution_count": 33,
   "outputs": [
    {
     "name": "stdout",
     "output_type": "stream",
     "text": [
      "{'acc_rate': [0.9785541892051697, 0.9838274717330933],\n",
      " 'avg_daily_trips': [440, 399],\n",
      " 'conv_rate': [0.2107851207256317, 0.8361712098121643],\n",
      " 'driver_id': [1004, 1005]}\n"
     ]
    }
   ],
   "source": [
    "pprint(feature_vector)"
   ],
   "metadata": {
    "collapsed": false
   }
  },
  {
   "cell_type": "code",
   "execution_count": 20,
   "outputs": [],
   "source": [
    "import pandas as pd\n",
    "from datetime import datetime"
   ],
   "metadata": {
    "collapsed": false
   }
  },
  {
   "cell_type": "code",
   "execution_count": 24,
   "outputs": [
    {
     "name": "stdout",
     "output_type": "stream",
     "text": [
      "acc_rate  :  [None, None]\n",
      "conv_rate_plus_val1  :  [None, None]\n",
      "conv_rate_plus_val2  :  [None, None]\n",
      "driver_id  :  [1001, 1002]\n"
     ]
    }
   ],
   "source": [
    "source = \"pushasdf\"\n",
    "\n",
    "entity_rows = [\n",
    "    # {join_key: entity_value}\n",
    "    {\n",
    "        \"driver_id\": 1001,\n",
    "        \"val_to_add\": 1000,\n",
    "        \"val_to_add_2\": 2000,\n",
    "    },\n",
    "    {\n",
    "        \"driver_id\": 1002,\n",
    "        \"val_to_add\": 1001,\n",
    "        \"val_to_add_2\": 2002,\n",
    "    },\n",
    "]\n",
    "if source == \"feature_service\":\n",
    "    features_to_fetch = store.get_feature_service(\"driver_activity_v1\")\n",
    "elif source == \"push\":\n",
    "    features_to_fetch = store.get_feature_service(\"driver_activity_v3\")\n",
    "else:\n",
    "    features_to_fetch = [\n",
    "        \"driver_hourly_stats:acc_rate\",\n",
    "        \"transformed_conv_rate:conv_rate_plus_val1\",\n",
    "        \"transformed_conv_rate:conv_rate_plus_val2\",\n",
    "    ]\n",
    "returned_features = store.get_online_features(\n",
    "    features=features_to_fetch,\n",
    "    entity_rows=entity_rows,\n",
    ").to_dict()\n",
    "for key, value in sorted(returned_features.items()):\n",
    "    print(key, \" : \", value)"
   ],
   "metadata": {
    "collapsed": false
   }
  },
  {
   "cell_type": "code",
   "execution_count": null,
   "outputs": [],
   "source": [],
   "metadata": {
    "collapsed": false
   }
  }
 ],
 "metadata": {
  "kernelspec": {
   "display_name": "Python 3",
   "language": "python",
   "name": "python3"
  },
  "language_info": {
   "codemirror_mode": {
    "name": "ipython",
    "version": 2
   },
   "file_extension": ".py",
   "mimetype": "text/x-python",
   "name": "python",
   "nbconvert_exporter": "python",
   "pygments_lexer": "ipython2",
   "version": "2.7.6"
  }
 },
 "nbformat": 4,
 "nbformat_minor": 0
}
