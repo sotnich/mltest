{
 "cells": [
  {
   "cell_type": "code",
   "execution_count": 1,
   "outputs": [],
   "source": [
    "import pandas as pd\n",
    "import feast\n",
    "import joblib\n",
    "import pandas as pd\n",
    "from feast import FeatureStore\n",
    "from datetime import datetime\n",
    "from pathlib import Path\n",
    "from sklearn import tree\n",
    "from sklearn.exceptions import NotFittedError\n",
    "from sklearn.preprocessing import OrdinalEncoder\n",
    "from sklearn.utils.validation import check_is_fitted"
   ],
   "metadata": {
    "collapsed": false
   }
  },
  {
   "cell_type": "code",
   "execution_count": 2,
   "outputs": [],
   "source": [
    "home_dir = str(Path.home())\n",
    "\n",
    "repo_path = home_dir\n",
    "model_filename = f\"{home_dir}/model.bin\"\n",
    "encoder_filename = f\"{home_dir}/encoder.bin\"\n",
    "\n",
    "target = \"loan_status\""
   ],
   "metadata": {
    "collapsed": false
   }
  },
  {
   "cell_type": "code",
   "execution_count": 3,
   "outputs": [],
   "source": [
    "# load model\n",
    "\n",
    "if not Path(model_filename).exists() or not Path(encoder_filename).exists():\n",
    "    print(\"You need to train the model first!\")\n",
    "\n",
    "classifier = joblib.load(model_filename)"
   ],
   "metadata": {
    "collapsed": false
   }
  },
  {
   "cell_type": "code",
   "execution_count": 4,
   "outputs": [
    {
     "name": "stderr",
     "output_type": "stream",
     "text": [
      "/opt/homebrew/Caskroom/miniconda/base/envs/mltest/lib/python3.9/site-packages/botocore/httpsession.py:28: DeprecationWarning: 'urllib3.contrib.pyopenssl' module is deprecated and will be removed in a future release of urllib3 2.x. Read more in this issue: https://github.com/urllib3/urllib3/issues/2680\n",
      "  from urllib3.contrib.pyopenssl import orig_util_SSLContext as SSLContext\n"
     ]
    }
   ],
   "source": [
    "fs = FeatureStore(repo_path=repo_path)   # create Feast object"
   ],
   "metadata": {
    "collapsed": false
   }
  },
  {
   "cell_type": "code",
   "execution_count": 5,
   "outputs": [],
   "source": [
    "# Make online prediction (using DynamoDB for retrieving online features)\n",
    "request = {\n",
    "    \"zipcode\": [76104],\n",
    "    \"dob_ssn\": [\"19630621_4278\"],\n",
    "    \"person_age\": [133],\n",
    "    \"person_income\": [59000],\n",
    "    \"person_home_ownership\": [\"RENT\"],\n",
    "    \"person_emp_length\": [123.0],\n",
    "    \"loan_intent\": [\"PERSONAL\"],\n",
    "    \"loan_amnt\": [35000],\n",
    "    \"loan_int_rate\": [16.02],\n",
    "}"
   ],
   "metadata": {
    "collapsed": false
   }
  },
  {
   "cell_type": "code",
   "execution_count": 6,
   "outputs": [],
   "source": [
    "# Get online features from Feast\n",
    "\n",
    "zipcode = request[\"zipcode\"][0]\n",
    "dob_ssn = request[\"dob_ssn\"][0]\n",
    "\n",
    "feature_vector = fs.get_online_features(\n",
    "    entity_rows=[{\"zipcode\": zipcode, \"dob_ssn\": dob_ssn}],\n",
    "    features=[\n",
    "        \"zipcode_features:city\",\n",
    "        \"zipcode_features:state\",\n",
    "        \"zipcode_features:location_type\",\n",
    "        \"zipcode_features:tax_returns_filed\",\n",
    "        \"zipcode_features:population\",\n",
    "        \"zipcode_features:total_wages\",\n",
    "        \"credit_history:credit_card_due\",\n",
    "        \"credit_history:mortgage_due\",\n",
    "        \"credit_history:student_loan_due\",\n",
    "        \"credit_history:vehicle_loan_due\",\n",
    "        \"credit_history:hard_pulls\",\n",
    "        \"credit_history:missed_payments_2y\",\n",
    "        \"credit_history:missed_payments_1y\",\n",
    "        \"credit_history:missed_payments_6m\",\n",
    "        \"credit_history:bankruptcies\",\n",
    "    ],\n",
    ").to_dict()"
   ],
   "metadata": {
    "collapsed": false
   }
  },
  {
   "cell_type": "code",
   "execution_count": 27,
   "outputs": [
    {
     "ename": "KeyboardInterrupt",
     "evalue": "",
     "output_type": "error",
     "traceback": [
      "\u001B[0;31m---------------------------------------------------------------------------\u001B[0m",
      "\u001B[0;31mKeyboardInterrupt\u001B[0m                         Traceback (most recent call last)",
      "Cell \u001B[0;32mIn[27], line 2\u001B[0m\n\u001B[1;32m      1\u001B[0m \u001B[38;5;66;03m# pydev_debug_cell\u001B[39;00m\n\u001B[0;32m----> 2\u001B[0m \u001B[43mfs\u001B[49m\u001B[38;5;241;43m.\u001B[39;49m\u001B[43mget_online_features\u001B[49m\u001B[43m(\u001B[49m\n\u001B[1;32m      3\u001B[0m \u001B[43m    \u001B[49m\u001B[43mentity_rows\u001B[49m\u001B[38;5;241;43m=\u001B[39;49m\u001B[43m[\u001B[49m\u001B[43m{\u001B[49m\u001B[38;5;124;43m\"\u001B[39;49m\u001B[38;5;124;43mzipcode\u001B[39;49m\u001B[38;5;124;43m\"\u001B[39;49m\u001B[43m:\u001B[49m\u001B[43m \u001B[49m\u001B[38;5;241;43m76104\u001B[39;49m\u001B[43m}\u001B[49m\u001B[43m,\u001B[49m\u001B[43m \u001B[49m\u001B[43m{\u001B[49m\u001B[38;5;124;43m\"\u001B[39;49m\u001B[38;5;124;43mzipcode\u001B[39;49m\u001B[38;5;124;43m\"\u001B[39;49m\u001B[43m:\u001B[49m\u001B[43m \u001B[49m\u001B[38;5;241;43m7675\u001B[39;49m\u001B[43m}\u001B[49m\u001B[43m]\u001B[49m\u001B[43m,\u001B[49m\n\u001B[1;32m      4\u001B[0m \u001B[43m    \u001B[49m\u001B[43mfeatures\u001B[49m\u001B[38;5;241;43m=\u001B[39;49m\u001B[43m[\u001B[49m\n\u001B[1;32m      5\u001B[0m \u001B[43m        \u001B[49m\u001B[38;5;124;43m\"\u001B[39;49m\u001B[38;5;124;43mzipcode_features:city\u001B[39;49m\u001B[38;5;124;43m\"\u001B[39;49m\u001B[43m,\u001B[49m\n\u001B[1;32m      6\u001B[0m \u001B[43m        \u001B[49m\u001B[38;5;124;43m\"\u001B[39;49m\u001B[38;5;124;43mzipcode_features:state\u001B[39;49m\u001B[38;5;124;43m\"\u001B[39;49m\u001B[43m,\u001B[49m\n\u001B[1;32m      7\u001B[0m \u001B[43m    \u001B[49m\u001B[43m]\u001B[49m\u001B[43m,\u001B[49m\n\u001B[1;32m      8\u001B[0m \u001B[43m)\u001B[49m\u001B[38;5;241m.\u001B[39mto_dict()\n",
      "File \u001B[0;32m/opt/homebrew/Caskroom/miniconda/base/envs/mltest/lib/python3.9/site-packages/feast/usage.py:288\u001B[0m, in \u001B[0;36mlog_exceptions_and_usage.<locals>.decorator.<locals>.wrapper\u001B[0;34m(*args, **kwargs)\u001B[0m\n\u001B[1;32m    285\u001B[0m ctx\u001B[38;5;241m.\u001B[39mattributes\u001B[38;5;241m.\u001B[39mupdate(attrs)\n\u001B[1;32m    287\u001B[0m \u001B[38;5;28;01mtry\u001B[39;00m:\n\u001B[0;32m--> 288\u001B[0m     \u001B[38;5;28;01mreturn\u001B[39;00m \u001B[43mfunc\u001B[49m\u001B[43m(\u001B[49m\u001B[38;5;241;43m*\u001B[39;49m\u001B[43margs\u001B[49m\u001B[43m,\u001B[49m\u001B[43m \u001B[49m\u001B[38;5;241;43m*\u001B[39;49m\u001B[38;5;241;43m*\u001B[39;49m\u001B[43mkwargs\u001B[49m\u001B[43m)\u001B[49m\n\u001B[1;32m    289\u001B[0m \u001B[38;5;28;01mexcept\u001B[39;00m \u001B[38;5;167;01mException\u001B[39;00m:\n\u001B[1;32m    290\u001B[0m     \u001B[38;5;28;01mif\u001B[39;00m ctx\u001B[38;5;241m.\u001B[39mexception:\n\u001B[1;32m    291\u001B[0m         \u001B[38;5;66;03m# exception was already recorded\u001B[39;00m\n",
      "File \u001B[0;32m/opt/homebrew/Caskroom/miniconda/base/envs/mltest/lib/python3.9/site-packages/feast/feature_store.py:1588\u001B[0m, in \u001B[0;36mFeatureStore.get_online_features\u001B[0;34m(self, features, entity_rows, full_feature_names)\u001B[0m\n\u001B[1;32m   1585\u001B[0m         \u001B[38;5;28;01mexcept\u001B[39;00m \u001B[38;5;167;01mKeyError\u001B[39;00m \u001B[38;5;28;01mas\u001B[39;00m e:\n\u001B[1;32m   1586\u001B[0m             \u001B[38;5;28;01mraise\u001B[39;00m \u001B[38;5;167;01mValueError\u001B[39;00m(\u001B[38;5;124m\"\u001B[39m\u001B[38;5;124mAll entity_rows must have the same keys.\u001B[39m\u001B[38;5;124m\"\u001B[39m) \u001B[38;5;28;01mfrom\u001B[39;00m \u001B[38;5;21;01me\u001B[39;00m\n\u001B[0;32m-> 1588\u001B[0m \u001B[38;5;28;01mreturn\u001B[39;00m \u001B[38;5;28;43mself\u001B[39;49m\u001B[38;5;241;43m.\u001B[39;49m\u001B[43m_get_online_features\u001B[49m\u001B[43m(\u001B[49m\n\u001B[1;32m   1589\u001B[0m \u001B[43m    \u001B[49m\u001B[43mfeatures\u001B[49m\u001B[38;5;241;43m=\u001B[39;49m\u001B[43mfeatures\u001B[49m\u001B[43m,\u001B[49m\n\u001B[1;32m   1590\u001B[0m \u001B[43m    \u001B[49m\u001B[43mentity_values\u001B[49m\u001B[38;5;241;43m=\u001B[39;49m\u001B[43mcolumnar\u001B[49m\u001B[43m,\u001B[49m\n\u001B[1;32m   1591\u001B[0m \u001B[43m    \u001B[49m\u001B[43mfull_feature_names\u001B[49m\u001B[38;5;241;43m=\u001B[39;49m\u001B[43mfull_feature_names\u001B[49m\u001B[43m,\u001B[49m\n\u001B[1;32m   1592\u001B[0m \u001B[43m    \u001B[49m\u001B[43mnative_entity_values\u001B[49m\u001B[38;5;241;43m=\u001B[39;49m\u001B[38;5;28;43;01mTrue\u001B[39;49;00m\u001B[43m,\u001B[49m\n\u001B[1;32m   1593\u001B[0m \u001B[43m\u001B[49m\u001B[43m)\u001B[49m\n",
      "File \u001B[0;32m/opt/homebrew/Caskroom/miniconda/base/envs/mltest/lib/python3.9/site-packages/feast/feature_store.py:1782\u001B[0m, in \u001B[0;36mFeatureStore._get_online_features\u001B[0;34m(self, features, entity_values, full_feature_names, native_entity_values)\u001B[0m\n\u001B[1;32m   1775\u001B[0m table_entity_values, idxs \u001B[38;5;241m=\u001B[39m \u001B[38;5;28mself\u001B[39m\u001B[38;5;241m.\u001B[39m_get_unique_entities(\n\u001B[1;32m   1776\u001B[0m     table,\n\u001B[1;32m   1777\u001B[0m     join_key_values,\n\u001B[1;32m   1778\u001B[0m     entity_name_to_join_key_map,\n\u001B[1;32m   1779\u001B[0m )\n\u001B[1;32m   1781\u001B[0m \u001B[38;5;66;03m# Fetch feature data for the minimum set of Entities.\u001B[39;00m\n\u001B[0;32m-> 1782\u001B[0m feature_data \u001B[38;5;241m=\u001B[39m \u001B[38;5;28;43mself\u001B[39;49m\u001B[38;5;241;43m.\u001B[39;49m\u001B[43m_read_from_online_store\u001B[49m\u001B[43m(\u001B[49m\n\u001B[1;32m   1783\u001B[0m \u001B[43m    \u001B[49m\u001B[43mtable_entity_values\u001B[49m\u001B[43m,\u001B[49m\n\u001B[1;32m   1784\u001B[0m \u001B[43m    \u001B[49m\u001B[43mprovider\u001B[49m\u001B[43m,\u001B[49m\n\u001B[1;32m   1785\u001B[0m \u001B[43m    \u001B[49m\u001B[43mrequested_features\u001B[49m\u001B[43m,\u001B[49m\n\u001B[1;32m   1786\u001B[0m \u001B[43m    \u001B[49m\u001B[43mtable\u001B[49m\u001B[43m,\u001B[49m\n\u001B[1;32m   1787\u001B[0m \u001B[43m\u001B[49m\u001B[43m)\u001B[49m\n\u001B[1;32m   1789\u001B[0m \u001B[38;5;66;03m# Populate the result_rows with the Features from the OnlineStore inplace.\u001B[39;00m\n\u001B[1;32m   1790\u001B[0m \u001B[38;5;28mself\u001B[39m\u001B[38;5;241m.\u001B[39m_populate_response_from_feature_data(\n\u001B[1;32m   1791\u001B[0m     feature_data,\n\u001B[1;32m   1792\u001B[0m     idxs,\n\u001B[0;32m   (...)\u001B[0m\n\u001B[1;32m   1796\u001B[0m     table,\n\u001B[1;32m   1797\u001B[0m )\n",
      "File \u001B[0;32m/opt/homebrew/Caskroom/miniconda/base/envs/mltest/lib/python3.9/site-packages/feast/feature_store.py:2005\u001B[0m, in \u001B[0;36mFeatureStore._read_from_online_store\u001B[0;34m(self, entity_rows, provider, requested_features, table)\u001B[0m\n\u001B[1;32m   1999\u001B[0m entity_key_protos \u001B[38;5;241m=\u001B[39m [\n\u001B[1;32m   2000\u001B[0m     EntityKeyProto(join_keys\u001B[38;5;241m=\u001B[39mrow\u001B[38;5;241m.\u001B[39mkeys(), entity_values\u001B[38;5;241m=\u001B[39mrow\u001B[38;5;241m.\u001B[39mvalues())\n\u001B[1;32m   2001\u001B[0m     \u001B[38;5;28;01mfor\u001B[39;00m row \u001B[38;5;129;01min\u001B[39;00m entity_rows\n\u001B[1;32m   2002\u001B[0m ]\n\u001B[1;32m   2004\u001B[0m \u001B[38;5;66;03m# Fetch data for Entities.\u001B[39;00m\n\u001B[0;32m-> 2005\u001B[0m read_rows \u001B[38;5;241m=\u001B[39m \u001B[43mprovider\u001B[49m\u001B[38;5;241;43m.\u001B[39;49m\u001B[43monline_read\u001B[49m\u001B[43m(\u001B[49m\n\u001B[1;32m   2006\u001B[0m \u001B[43m    \u001B[49m\u001B[43mconfig\u001B[49m\u001B[38;5;241;43m=\u001B[39;49m\u001B[38;5;28;43mself\u001B[39;49m\u001B[38;5;241;43m.\u001B[39;49m\u001B[43mconfig\u001B[49m\u001B[43m,\u001B[49m\n\u001B[1;32m   2007\u001B[0m \u001B[43m    \u001B[49m\u001B[43mtable\u001B[49m\u001B[38;5;241;43m=\u001B[39;49m\u001B[43mtable\u001B[49m\u001B[43m,\u001B[49m\n\u001B[1;32m   2008\u001B[0m \u001B[43m    \u001B[49m\u001B[43mentity_keys\u001B[49m\u001B[38;5;241;43m=\u001B[39;49m\u001B[43mentity_key_protos\u001B[49m\u001B[43m,\u001B[49m\n\u001B[1;32m   2009\u001B[0m \u001B[43m    \u001B[49m\u001B[43mrequested_features\u001B[49m\u001B[38;5;241;43m=\u001B[39;49m\u001B[43mrequested_features\u001B[49m\u001B[43m,\u001B[49m\n\u001B[1;32m   2010\u001B[0m \u001B[43m\u001B[49m\u001B[43m)\u001B[49m\n\u001B[1;32m   2012\u001B[0m \u001B[38;5;66;03m# Each row is a set of features for a given entity key. We only need to convert\u001B[39;00m\n\u001B[1;32m   2013\u001B[0m \u001B[38;5;66;03m# the data to Protobuf once.\u001B[39;00m\n\u001B[1;32m   2014\u001B[0m null_value \u001B[38;5;241m=\u001B[39m Value()\n",
      "File \u001B[0;32m/opt/homebrew/Caskroom/miniconda/base/envs/mltest/lib/python3.9/site-packages/feast/usage.py:288\u001B[0m, in \u001B[0;36mlog_exceptions_and_usage.<locals>.decorator.<locals>.wrapper\u001B[0;34m(*args, **kwargs)\u001B[0m\n\u001B[1;32m    285\u001B[0m ctx\u001B[38;5;241m.\u001B[39mattributes\u001B[38;5;241m.\u001B[39mupdate(attrs)\n\u001B[1;32m    287\u001B[0m \u001B[38;5;28;01mtry\u001B[39;00m:\n\u001B[0;32m--> 288\u001B[0m     \u001B[38;5;28;01mreturn\u001B[39;00m \u001B[43mfunc\u001B[49m\u001B[43m(\u001B[49m\u001B[38;5;241;43m*\u001B[39;49m\u001B[43margs\u001B[49m\u001B[43m,\u001B[49m\u001B[43m \u001B[49m\u001B[38;5;241;43m*\u001B[39;49m\u001B[38;5;241;43m*\u001B[39;49m\u001B[43mkwargs\u001B[49m\u001B[43m)\u001B[49m\n\u001B[1;32m    289\u001B[0m \u001B[38;5;28;01mexcept\u001B[39;00m \u001B[38;5;167;01mException\u001B[39;00m:\n\u001B[1;32m    290\u001B[0m     \u001B[38;5;28;01mif\u001B[39;00m ctx\u001B[38;5;241m.\u001B[39mexception:\n\u001B[1;32m    291\u001B[0m         \u001B[38;5;66;03m# exception was already recorded\u001B[39;00m\n",
      "File \u001B[0;32m/opt/homebrew/Caskroom/miniconda/base/envs/mltest/lib/python3.9/site-packages/feast/infra/passthrough_provider.py:188\u001B[0m, in \u001B[0;36mPassthroughProvider.online_read\u001B[0;34m(self, config, table, entity_keys, requested_features)\u001B[0m\n\u001B[1;32m    186\u001B[0m result \u001B[38;5;241m=\u001B[39m []\n\u001B[1;32m    187\u001B[0m \u001B[38;5;28;01mif\u001B[39;00m \u001B[38;5;28mself\u001B[39m\u001B[38;5;241m.\u001B[39monline_store:\n\u001B[0;32m--> 188\u001B[0m     result \u001B[38;5;241m=\u001B[39m \u001B[38;5;28;43mself\u001B[39;49m\u001B[38;5;241;43m.\u001B[39;49m\u001B[43monline_store\u001B[49m\u001B[38;5;241;43m.\u001B[39;49m\u001B[43monline_read\u001B[49m\u001B[43m(\u001B[49m\n\u001B[1;32m    189\u001B[0m \u001B[43m        \u001B[49m\u001B[43mconfig\u001B[49m\u001B[43m,\u001B[49m\u001B[43m \u001B[49m\u001B[43mtable\u001B[49m\u001B[43m,\u001B[49m\u001B[43m \u001B[49m\u001B[43mentity_keys\u001B[49m\u001B[43m,\u001B[49m\u001B[43m \u001B[49m\u001B[43mrequested_features\u001B[49m\n\u001B[1;32m    190\u001B[0m \u001B[43m    \u001B[49m\u001B[43m)\u001B[49m\n\u001B[1;32m    191\u001B[0m \u001B[38;5;28;01mreturn\u001B[39;00m result\n",
      "File \u001B[0;32m/opt/homebrew/Caskroom/miniconda/base/envs/mltest/lib/python3.9/site-packages/feast/usage.py:288\u001B[0m, in \u001B[0;36mlog_exceptions_and_usage.<locals>.decorator.<locals>.wrapper\u001B[0;34m(*args, **kwargs)\u001B[0m\n\u001B[1;32m    285\u001B[0m ctx\u001B[38;5;241m.\u001B[39mattributes\u001B[38;5;241m.\u001B[39mupdate(attrs)\n\u001B[1;32m    287\u001B[0m \u001B[38;5;28;01mtry\u001B[39;00m:\n\u001B[0;32m--> 288\u001B[0m     \u001B[38;5;28;01mreturn\u001B[39;00m \u001B[43mfunc\u001B[49m\u001B[43m(\u001B[49m\u001B[38;5;241;43m*\u001B[39;49m\u001B[43margs\u001B[49m\u001B[43m,\u001B[49m\u001B[43m \u001B[49m\u001B[38;5;241;43m*\u001B[39;49m\u001B[38;5;241;43m*\u001B[39;49m\u001B[43mkwargs\u001B[49m\u001B[43m)\u001B[49m\n\u001B[1;32m    289\u001B[0m \u001B[38;5;28;01mexcept\u001B[39;00m \u001B[38;5;167;01mException\u001B[39;00m:\n\u001B[1;32m    290\u001B[0m     \u001B[38;5;28;01mif\u001B[39;00m ctx\u001B[38;5;241m.\u001B[39mexception:\n\u001B[1;32m    291\u001B[0m         \u001B[38;5;66;03m# exception was already recorded\u001B[39;00m\n",
      "File \u001B[0;32m/opt/homebrew/Caskroom/miniconda/base/envs/mltest/lib/python3.9/site-packages/feast/infra/online_stores/dynamodb.py:223\u001B[0m, in \u001B[0;36mDynamoDBOnlineStore.online_read\u001B[0;34m(self, config, table, entity_keys, requested_features)\u001B[0m\n\u001B[1;32m    218\u001B[0m table_instance \u001B[38;5;241m=\u001B[39m dynamodb_resource\u001B[38;5;241m.\u001B[39mTable(\n\u001B[1;32m    219\u001B[0m     _get_table_name(online_config, config, table)\n\u001B[1;32m    220\u001B[0m )\n\u001B[1;32m    222\u001B[0m result: List[Tuple[Optional[datetime], Optional[Dict[\u001B[38;5;28mstr\u001B[39m, ValueProto]]]] \u001B[38;5;241m=\u001B[39m []\n\u001B[0;32m--> 223\u001B[0m entity_ids \u001B[38;5;241m=\u001B[39m [\n\u001B[1;32m    224\u001B[0m     compute_entity_id(\n\u001B[1;32m    225\u001B[0m         entity_key,\n\u001B[1;32m    226\u001B[0m         entity_key_serialization_version\u001B[38;5;241m=\u001B[39mconfig\u001B[38;5;241m.\u001B[39mentity_key_serialization_version,\n\u001B[1;32m    227\u001B[0m     )\n\u001B[1;32m    228\u001B[0m     \u001B[38;5;28;01mfor\u001B[39;00m entity_key \u001B[38;5;129;01min\u001B[39;00m entity_keys\n\u001B[1;32m    229\u001B[0m ]\n\u001B[1;32m    230\u001B[0m batch_size \u001B[38;5;241m=\u001B[39m online_config\u001B[38;5;241m.\u001B[39mbatch_size\n\u001B[1;32m    231\u001B[0m entity_ids_iter \u001B[38;5;241m=\u001B[39m \u001B[38;5;28miter\u001B[39m(entity_ids)\n",
      "File \u001B[0;32m/opt/homebrew/Caskroom/miniconda/base/envs/mltest/lib/python3.9/site-packages/feast/infra/online_stores/dynamodb.py:224\u001B[0m, in \u001B[0;36m<listcomp>\u001B[0;34m(.0)\u001B[0m\n\u001B[1;32m    218\u001B[0m table_instance \u001B[38;5;241m=\u001B[39m dynamodb_resource\u001B[38;5;241m.\u001B[39mTable(\n\u001B[1;32m    219\u001B[0m     _get_table_name(online_config, config, table)\n\u001B[1;32m    220\u001B[0m )\n\u001B[1;32m    222\u001B[0m result: List[Tuple[Optional[datetime], Optional[Dict[\u001B[38;5;28mstr\u001B[39m, ValueProto]]]] \u001B[38;5;241m=\u001B[39m []\n\u001B[1;32m    223\u001B[0m entity_ids \u001B[38;5;241m=\u001B[39m [\n\u001B[0;32m--> 224\u001B[0m     \u001B[43mcompute_entity_id\u001B[49m\u001B[43m(\u001B[49m\n\u001B[1;32m    225\u001B[0m \u001B[43m        \u001B[49m\u001B[43mentity_key\u001B[49m\u001B[43m,\u001B[49m\n\u001B[1;32m    226\u001B[0m \u001B[43m        \u001B[49m\u001B[43mentity_key_serialization_version\u001B[49m\u001B[38;5;241;43m=\u001B[39;49m\u001B[43mconfig\u001B[49m\u001B[38;5;241;43m.\u001B[39;49m\u001B[43mentity_key_serialization_version\u001B[49m\u001B[43m,\u001B[49m\n\u001B[1;32m    227\u001B[0m \u001B[43m    \u001B[49m\u001B[43m)\u001B[49m\n\u001B[1;32m    228\u001B[0m     \u001B[38;5;28;01mfor\u001B[39;00m entity_key \u001B[38;5;129;01min\u001B[39;00m entity_keys\n\u001B[1;32m    229\u001B[0m ]\n\u001B[1;32m    230\u001B[0m batch_size \u001B[38;5;241m=\u001B[39m online_config\u001B[38;5;241m.\u001B[39mbatch_size\n\u001B[1;32m    231\u001B[0m entity_ids_iter \u001B[38;5;241m=\u001B[39m \u001B[38;5;28miter\u001B[39m(entity_ids)\n",
      "File \u001B[0;32m/opt/homebrew/Caskroom/miniconda/base/envs/mltest/lib/python3.9/site-packages/feast/infra/online_stores/helpers.py:59\u001B[0m, in \u001B[0;36mcompute_entity_id\u001B[0;34m(entity_key, entity_key_serialization_version)\u001B[0m\n\u001B[1;32m     51\u001B[0m \u001B[38;5;28;01mdef\u001B[39;00m \u001B[38;5;21mcompute_entity_id\u001B[39m(\n\u001B[1;32m     52\u001B[0m     entity_key: EntityKeyProto, entity_key_serialization_version\u001B[38;5;241m=\u001B[39m\u001B[38;5;241m1\u001B[39m\n\u001B[1;32m     53\u001B[0m ) \u001B[38;5;241m-\u001B[39m\u001B[38;5;241m>\u001B[39m \u001B[38;5;28mstr\u001B[39m:\n\u001B[1;32m     54\u001B[0m     \u001B[38;5;124;03m\"\"\"\u001B[39;00m\n\u001B[1;32m     55\u001B[0m \u001B[38;5;124;03m    Compute Entity id given Feast Entity Key for online stores.\u001B[39;00m\n\u001B[1;32m     56\u001B[0m \u001B[38;5;124;03m    Remember that Entity here refers to `EntityKeyProto` which is used in some online stores to encode the keys.\u001B[39;00m\n\u001B[1;32m     57\u001B[0m \u001B[38;5;124;03m    It has nothing to do with the Entity concept we have in Feast.\u001B[39;00m\n\u001B[1;32m     58\u001B[0m \u001B[38;5;124;03m    \"\"\"\u001B[39;00m\n\u001B[0;32m---> 59\u001B[0m     \u001B[38;5;28;01mreturn\u001B[39;00m mmh3\u001B[38;5;241m.\u001B[39mhash_bytes(\n\u001B[1;32m     60\u001B[0m         serialize_entity_key(\n\u001B[1;32m     61\u001B[0m             entity_key,\n\u001B[1;32m     62\u001B[0m             entity_key_serialization_version\u001B[38;5;241m=\u001B[39mentity_key_serialization_version,\n\u001B[1;32m     63\u001B[0m         )\n\u001B[1;32m     64\u001B[0m     )\u001B[38;5;241m.\u001B[39mhex()\n",
      "File \u001B[0;32m_pydevd_bundle/pydevd_cython_darwin_39_64.pyx:1179\u001B[0m, in \u001B[0;36m_pydevd_bundle.pydevd_cython_darwin_39_64.SafeCallWrapper.__call__\u001B[0;34m()\u001B[0m\n",
      "File \u001B[0;32m_pydevd_bundle/pydevd_cython_darwin_39_64.pyx:620\u001B[0m, in \u001B[0;36m_pydevd_bundle.pydevd_cython_darwin_39_64.PyDBFrame.trace_dispatch\u001B[0;34m()\u001B[0m\n",
      "File \u001B[0;32m_pydevd_bundle/pydevd_cython_darwin_39_64.pyx:1095\u001B[0m, in \u001B[0;36m_pydevd_bundle.pydevd_cython_darwin_39_64.PyDBFrame.trace_dispatch\u001B[0;34m()\u001B[0m\n",
      "File \u001B[0;32m_pydevd_bundle/pydevd_cython_darwin_39_64.pyx:1088\u001B[0m, in \u001B[0;36m_pydevd_bundle.pydevd_cython_darwin_39_64.PyDBFrame.trace_dispatch\u001B[0;34m()\u001B[0m\n",
      "File \u001B[0;32m_pydevd_bundle/pydevd_cython_darwin_39_64.pyx:317\u001B[0m, in \u001B[0;36m_pydevd_bundle.pydevd_cython_darwin_39_64.PyDBFrame.do_wait_suspend\u001B[0;34m()\u001B[0m\n",
      "File \u001B[0;32m/Applications/PyCharm.app/Contents/plugins/python/helpers/pydev/pydevd.py:1160\u001B[0m, in \u001B[0;36mPyDB.do_wait_suspend\u001B[0;34m(self, thread, frame, event, arg, send_suspend_message, is_unhandled_exception)\u001B[0m\n\u001B[1;32m   1157\u001B[0m         from_this_thread\u001B[38;5;241m.\u001B[39mappend(frame_id)\n\u001B[1;32m   1159\u001B[0m \u001B[38;5;28;01mwith\u001B[39;00m \u001B[38;5;28mself\u001B[39m\u001B[38;5;241m.\u001B[39m_threads_suspended_single_notification\u001B[38;5;241m.\u001B[39mnotify_thread_suspended(thread_id, stop_reason):\n\u001B[0;32m-> 1160\u001B[0m     \u001B[38;5;28;43mself\u001B[39;49m\u001B[38;5;241;43m.\u001B[39;49m\u001B[43m_do_wait_suspend\u001B[49m\u001B[43m(\u001B[49m\u001B[43mthread\u001B[49m\u001B[43m,\u001B[49m\u001B[43m \u001B[49m\u001B[43mframe\u001B[49m\u001B[43m,\u001B[49m\u001B[43m \u001B[49m\u001B[43mevent\u001B[49m\u001B[43m,\u001B[49m\u001B[43m \u001B[49m\u001B[43marg\u001B[49m\u001B[43m,\u001B[49m\u001B[43m \u001B[49m\u001B[43msuspend_type\u001B[49m\u001B[43m,\u001B[49m\u001B[43m \u001B[49m\u001B[43mfrom_this_thread\u001B[49m\u001B[43m)\u001B[49m\n",
      "File \u001B[0;32m/Applications/PyCharm.app/Contents/plugins/python/helpers/pydev/pydevd.py:1175\u001B[0m, in \u001B[0;36mPyDB._do_wait_suspend\u001B[0;34m(self, thread, frame, event, arg, suspend_type, from_this_thread)\u001B[0m\n\u001B[1;32m   1172\u001B[0m             \u001B[38;5;28mself\u001B[39m\u001B[38;5;241m.\u001B[39m_call_mpl_hook()\n\u001B[1;32m   1174\u001B[0m         \u001B[38;5;28mself\u001B[39m\u001B[38;5;241m.\u001B[39mprocess_internal_commands()\n\u001B[0;32m-> 1175\u001B[0m         \u001B[43mtime\u001B[49m\u001B[38;5;241;43m.\u001B[39;49m\u001B[43msleep\u001B[49m\u001B[43m(\u001B[49m\u001B[38;5;241;43m0.01\u001B[39;49m\u001B[43m)\u001B[49m\n\u001B[1;32m   1177\u001B[0m \u001B[38;5;28mself\u001B[39m\u001B[38;5;241m.\u001B[39mcancel_async_evaluation(get_current_thread_id(thread), \u001B[38;5;28mstr\u001B[39m(\u001B[38;5;28mid\u001B[39m(frame)))\n\u001B[1;32m   1179\u001B[0m \u001B[38;5;66;03m# process any stepping instructions\u001B[39;00m\n",
      "\u001B[0;31mKeyboardInterrupt\u001B[0m: "
     ]
    }
   ],
   "source": [
    "fs.list_feature_views()"
   ],
   "metadata": {
    "collapsed": false
   }
  },
  {
   "cell_type": "code",
   "execution_count": 19,
   "outputs": [
    {
     "name": "stdout",
     "output_type": "stream",
     "text": [
      "{'zipcode': [76104], 'dob_ssn': ['19630621_4278'], 'tax_returns_filed': [None], 'state': [None], 'location_type': [None], 'city': [None], 'total_wages': [None], 'population': [None], 'missed_payments_6m': [0], 'bankruptcies': [0], 'hard_pulls': [1], 'credit_card_due': [3343], 'student_loan_due': [44375], 'mortgage_due': [378847], 'missed_payments_2y': [0], 'vehicle_loan_due': [11506], 'missed_payments_1y': [0]}\n"
     ]
    }
   ],
   "source": [
    "\n",
    "fs.get_online_features(\n",
    "    entity_rows=[{\"zipcode\": 76104}, {\"zipcode\": 7675}],\n",
    "    features=[\n",
    "        \"zipcode_features:city\",\n",
    "        \"zipcode_features:state\",\n",
    "    ],\n",
    ").to_dict()\n",
    "\n",
    "\n"
   ],
   "metadata": {
    "collapsed": false
   }
  },
  {
   "cell_type": "code",
   "execution_count": 10,
   "outputs": [],
   "source": [
    "print(feature_vector)"
   ],
   "metadata": {
    "collapsed": false
   }
  },
  {
   "cell_type": "code",
   "execution_count": 11,
   "outputs": [
    {
     "data": {
      "text/plain": "   zipcode        dob_ssn  person_age  person_income person_home_ownership  \\\n0    76104  19630621_4278         133          59000                  RENT   \n\n   person_emp_length loan_intent  loan_amnt  loan_int_rate tax_returns_filed  \\\n0              123.0    PERSONAL      35000          16.02              None   \n\n   ... population missed_payments_6m bankruptcies hard_pulls credit_card_due  \\\n0  ...       None                  0            0          1            3343   \n\n   student_loan_due  mortgage_due  missed_payments_2y  vehicle_loan_due  \\\n0             44375        378847                   0             11506   \n\n   missed_payments_1y  \n0                   0  \n\n[1 rows x 24 columns]",
      "text/html": "<div>\n<style scoped>\n    .dataframe tbody tr th:only-of-type {\n        vertical-align: middle;\n    }\n\n    .dataframe tbody tr th {\n        vertical-align: top;\n    }\n\n    .dataframe thead th {\n        text-align: right;\n    }\n</style>\n<table border=\"1\" class=\"dataframe\">\n  <thead>\n    <tr style=\"text-align: right;\">\n      <th></th>\n      <th>zipcode</th>\n      <th>dob_ssn</th>\n      <th>person_age</th>\n      <th>person_income</th>\n      <th>person_home_ownership</th>\n      <th>person_emp_length</th>\n      <th>loan_intent</th>\n      <th>loan_amnt</th>\n      <th>loan_int_rate</th>\n      <th>tax_returns_filed</th>\n      <th>...</th>\n      <th>population</th>\n      <th>missed_payments_6m</th>\n      <th>bankruptcies</th>\n      <th>hard_pulls</th>\n      <th>credit_card_due</th>\n      <th>student_loan_due</th>\n      <th>mortgage_due</th>\n      <th>missed_payments_2y</th>\n      <th>vehicle_loan_due</th>\n      <th>missed_payments_1y</th>\n    </tr>\n  </thead>\n  <tbody>\n    <tr>\n      <th>0</th>\n      <td>76104</td>\n      <td>19630621_4278</td>\n      <td>133</td>\n      <td>59000</td>\n      <td>RENT</td>\n      <td>123.0</td>\n      <td>PERSONAL</td>\n      <td>35000</td>\n      <td>16.02</td>\n      <td>None</td>\n      <td>...</td>\n      <td>None</td>\n      <td>0</td>\n      <td>0</td>\n      <td>1</td>\n      <td>3343</td>\n      <td>44375</td>\n      <td>378847</td>\n      <td>0</td>\n      <td>11506</td>\n      <td>0</td>\n    </tr>\n  </tbody>\n</table>\n<p>1 rows × 24 columns</p>\n</div>"
     },
     "execution_count": 11,
     "metadata": {},
     "output_type": "execute_result"
    }
   ],
   "source": [
    "# Join features to request features\n",
    "\n",
    "features = request.copy()\n",
    "features.update(feature_vector)\n",
    "features_df = pd.DataFrame.from_dict(features)"
   ],
   "metadata": {
    "collapsed": false
   }
  },
  {
   "cell_type": "code",
   "execution_count": 12,
   "outputs": [],
   "source": [
    "features_df.head()"
   ],
   "metadata": {
    "collapsed": false
   }
  },
  {
   "cell_type": "code",
   "execution_count": 13,
   "outputs": [
    {
     "data": {
      "text/plain": "   zipcode        dob_ssn  person_age  person_income  person_home_ownership  \\\n0    76104  19630621_4278         133          59000                   -1.0   \n\n   person_emp_length  loan_intent  loan_amnt  loan_int_rate tax_returns_filed  \\\n0              123.0         -1.0      35000          16.02              None   \n\n   ...  population  missed_payments_6m  bankruptcies hard_pulls  \\\n0  ...        None                   0             0          1   \n\n  credit_card_due  student_loan_due  mortgage_due  missed_payments_2y  \\\n0            3343             44375        378847                   0   \n\n   vehicle_loan_due  missed_payments_1y  \n0             11506                   0  \n\n[1 rows x 24 columns]",
      "text/html": "<div>\n<style scoped>\n    .dataframe tbody tr th:only-of-type {\n        vertical-align: middle;\n    }\n\n    .dataframe tbody tr th {\n        vertical-align: top;\n    }\n\n    .dataframe thead th {\n        text-align: right;\n    }\n</style>\n<table border=\"1\" class=\"dataframe\">\n  <thead>\n    <tr style=\"text-align: right;\">\n      <th></th>\n      <th>zipcode</th>\n      <th>dob_ssn</th>\n      <th>person_age</th>\n      <th>person_income</th>\n      <th>person_home_ownership</th>\n      <th>person_emp_length</th>\n      <th>loan_intent</th>\n      <th>loan_amnt</th>\n      <th>loan_int_rate</th>\n      <th>tax_returns_filed</th>\n      <th>...</th>\n      <th>population</th>\n      <th>missed_payments_6m</th>\n      <th>bankruptcies</th>\n      <th>hard_pulls</th>\n      <th>credit_card_due</th>\n      <th>student_loan_due</th>\n      <th>mortgage_due</th>\n      <th>missed_payments_2y</th>\n      <th>vehicle_loan_due</th>\n      <th>missed_payments_1y</th>\n    </tr>\n  </thead>\n  <tbody>\n    <tr>\n      <th>0</th>\n      <td>76104</td>\n      <td>19630621_4278</td>\n      <td>133</td>\n      <td>59000</td>\n      <td>-1.0</td>\n      <td>123.0</td>\n      <td>-1.0</td>\n      <td>35000</td>\n      <td>16.02</td>\n      <td>None</td>\n      <td>...</td>\n      <td>None</td>\n      <td>0</td>\n      <td>0</td>\n      <td>1</td>\n      <td>3343</td>\n      <td>44375</td>\n      <td>378847</td>\n      <td>0</td>\n      <td>11506</td>\n      <td>0</td>\n    </tr>\n  </tbody>\n</table>\n<p>1 rows × 24 columns</p>\n</div>"
     },
     "execution_count": 13,
     "metadata": {},
     "output_type": "execute_result"
    }
   ],
   "source": [
    "# Apply ordinal encoding to categorical features\n",
    "\n",
    "categorical_features = [\n",
    "    \"person_home_ownership\",\n",
    "    \"loan_intent\",\n",
    "    \"city\",\n",
    "    \"state\",\n",
    "    \"location_type\",\n",
    "]\n",
    "\n",
    "# load encoder\n",
    "encoder = joblib.load(encoder_filename)\n",
    "\n",
    "# apply encoding\n",
    "features_df[categorical_features] = encoder.transform(\n",
    "    features_df[categorical_features]\n",
    ")"
   ],
   "metadata": {
    "collapsed": false
   }
  },
  {
   "cell_type": "code",
   "execution_count": 14,
   "outputs": [],
   "source": [
    "features_df.head()"
   ],
   "metadata": {
    "collapsed": false
   }
  },
  {
   "cell_type": "code",
   "execution_count": 15,
   "outputs": [
    {
     "ename": "ValueError",
     "evalue": "Input X contains NaN.\nDecisionTreeClassifier does not accept missing values encoded as NaN natively. For supervised learning, you might want to consider sklearn.ensemble.HistGradientBoostingClassifier and Regressor which accept missing values encoded as NaNs natively. Alternatively, it is possible to preprocess the data, for instance by using an imputer transformer in a pipeline or drop samples with missing values. See https://scikit-learn.org/stable/modules/impute.html You can find a list of all estimators that handle NaN values at the following page: https://scikit-learn.org/stable/modules/impute.html#estimators-that-handle-nan-values",
     "output_type": "error",
     "traceback": [
      "\u001B[0;31m---------------------------------------------------------------------------\u001B[0m",
      "\u001B[0;31mValueError\u001B[0m                                Traceback (most recent call last)",
      "Cell \u001B[0;32mIn[15], line 8\u001B[0m\n\u001B[1;32m      5\u001B[0m features_df \u001B[38;5;241m=\u001B[39m features_df[features_df\u001B[38;5;241m.\u001B[39mcolumns\u001B[38;5;241m.\u001B[39mdrop(\u001B[38;5;124m\"\u001B[39m\u001B[38;5;124mzipcode\u001B[39m\u001B[38;5;124m\"\u001B[39m)\u001B[38;5;241m.\u001B[39mdrop(\u001B[38;5;124m\"\u001B[39m\u001B[38;5;124mdob_ssn\u001B[39m\u001B[38;5;124m\"\u001B[39m)]\n\u001B[1;32m      7\u001B[0m \u001B[38;5;66;03m# Make prediction\u001B[39;00m\n\u001B[0;32m----> 8\u001B[0m features_df[\u001B[38;5;124m\"\u001B[39m\u001B[38;5;124mprediction\u001B[39m\u001B[38;5;124m\"\u001B[39m] \u001B[38;5;241m=\u001B[39m \u001B[43mclassifier\u001B[49m\u001B[38;5;241;43m.\u001B[39;49m\u001B[43mpredict\u001B[49m\u001B[43m(\u001B[49m\u001B[43mfeatures_df\u001B[49m\u001B[43m)\u001B[49m\n\u001B[1;32m     10\u001B[0m result \u001B[38;5;241m=\u001B[39m features_df[\u001B[38;5;124m\"\u001B[39m\u001B[38;5;124mprediction\u001B[39m\u001B[38;5;124m\"\u001B[39m]\u001B[38;5;241m.\u001B[39miloc[\u001B[38;5;241m0\u001B[39m]\n",
      "File \u001B[0;32m/opt/homebrew/Caskroom/miniconda/base/envs/mltest/lib/python3.9/site-packages/sklearn/tree/_classes.py:505\u001B[0m, in \u001B[0;36mBaseDecisionTree.predict\u001B[0;34m(self, X, check_input)\u001B[0m\n\u001B[1;32m    482\u001B[0m \u001B[38;5;124;03m\"\"\"Predict class or regression value for X.\u001B[39;00m\n\u001B[1;32m    483\u001B[0m \n\u001B[1;32m    484\u001B[0m \u001B[38;5;124;03mFor a classification model, the predicted class for each sample in X is\u001B[39;00m\n\u001B[0;32m   (...)\u001B[0m\n\u001B[1;32m    502\u001B[0m \u001B[38;5;124;03m    The predicted classes, or the predict values.\u001B[39;00m\n\u001B[1;32m    503\u001B[0m \u001B[38;5;124;03m\"\"\"\u001B[39;00m\n\u001B[1;32m    504\u001B[0m check_is_fitted(\u001B[38;5;28mself\u001B[39m)\n\u001B[0;32m--> 505\u001B[0m X \u001B[38;5;241m=\u001B[39m \u001B[38;5;28;43mself\u001B[39;49m\u001B[38;5;241;43m.\u001B[39;49m\u001B[43m_validate_X_predict\u001B[49m\u001B[43m(\u001B[49m\u001B[43mX\u001B[49m\u001B[43m,\u001B[49m\u001B[43m \u001B[49m\u001B[43mcheck_input\u001B[49m\u001B[43m)\u001B[49m\n\u001B[1;32m    506\u001B[0m proba \u001B[38;5;241m=\u001B[39m \u001B[38;5;28mself\u001B[39m\u001B[38;5;241m.\u001B[39mtree_\u001B[38;5;241m.\u001B[39mpredict(X)\n\u001B[1;32m    507\u001B[0m n_samples \u001B[38;5;241m=\u001B[39m X\u001B[38;5;241m.\u001B[39mshape[\u001B[38;5;241m0\u001B[39m]\n",
      "File \u001B[0;32m/opt/homebrew/Caskroom/miniconda/base/envs/mltest/lib/python3.9/site-packages/sklearn/tree/_classes.py:471\u001B[0m, in \u001B[0;36mBaseDecisionTree._validate_X_predict\u001B[0;34m(self, X, check_input)\u001B[0m\n\u001B[1;32m    469\u001B[0m \u001B[38;5;124;03m\"\"\"Validate the training data on predict (probabilities).\"\"\"\u001B[39;00m\n\u001B[1;32m    470\u001B[0m \u001B[38;5;28;01mif\u001B[39;00m check_input:\n\u001B[0;32m--> 471\u001B[0m     X \u001B[38;5;241m=\u001B[39m \u001B[38;5;28;43mself\u001B[39;49m\u001B[38;5;241;43m.\u001B[39;49m\u001B[43m_validate_data\u001B[49m\u001B[43m(\u001B[49m\u001B[43mX\u001B[49m\u001B[43m,\u001B[49m\u001B[43m \u001B[49m\u001B[43mdtype\u001B[49m\u001B[38;5;241;43m=\u001B[39;49m\u001B[43mDTYPE\u001B[49m\u001B[43m,\u001B[49m\u001B[43m \u001B[49m\u001B[43maccept_sparse\u001B[49m\u001B[38;5;241;43m=\u001B[39;49m\u001B[38;5;124;43m\"\u001B[39;49m\u001B[38;5;124;43mcsr\u001B[39;49m\u001B[38;5;124;43m\"\u001B[39;49m\u001B[43m,\u001B[49m\u001B[43m \u001B[49m\u001B[43mreset\u001B[49m\u001B[38;5;241;43m=\u001B[39;49m\u001B[38;5;28;43;01mFalse\u001B[39;49;00m\u001B[43m)\u001B[49m\n\u001B[1;32m    472\u001B[0m     \u001B[38;5;28;01mif\u001B[39;00m issparse(X) \u001B[38;5;129;01mand\u001B[39;00m (\n\u001B[1;32m    473\u001B[0m         X\u001B[38;5;241m.\u001B[39mindices\u001B[38;5;241m.\u001B[39mdtype \u001B[38;5;241m!=\u001B[39m np\u001B[38;5;241m.\u001B[39mintc \u001B[38;5;129;01mor\u001B[39;00m X\u001B[38;5;241m.\u001B[39mindptr\u001B[38;5;241m.\u001B[39mdtype \u001B[38;5;241m!=\u001B[39m np\u001B[38;5;241m.\u001B[39mintc\n\u001B[1;32m    474\u001B[0m     ):\n\u001B[1;32m    475\u001B[0m         \u001B[38;5;28;01mraise\u001B[39;00m \u001B[38;5;167;01mValueError\u001B[39;00m(\u001B[38;5;124m\"\u001B[39m\u001B[38;5;124mNo support for np.int64 index based sparse matrices\u001B[39m\u001B[38;5;124m\"\u001B[39m)\n",
      "File \u001B[0;32m/opt/homebrew/Caskroom/miniconda/base/envs/mltest/lib/python3.9/site-packages/sklearn/base.py:577\u001B[0m, in \u001B[0;36mBaseEstimator._validate_data\u001B[0;34m(self, X, y, reset, validate_separately, **check_params)\u001B[0m\n\u001B[1;32m    575\u001B[0m     \u001B[38;5;28;01mraise\u001B[39;00m \u001B[38;5;167;01mValueError\u001B[39;00m(\u001B[38;5;124m\"\u001B[39m\u001B[38;5;124mValidation should be done on X, y or both.\u001B[39m\u001B[38;5;124m\"\u001B[39m)\n\u001B[1;32m    576\u001B[0m \u001B[38;5;28;01melif\u001B[39;00m \u001B[38;5;129;01mnot\u001B[39;00m no_val_X \u001B[38;5;129;01mand\u001B[39;00m no_val_y:\n\u001B[0;32m--> 577\u001B[0m     X \u001B[38;5;241m=\u001B[39m \u001B[43mcheck_array\u001B[49m\u001B[43m(\u001B[49m\u001B[43mX\u001B[49m\u001B[43m,\u001B[49m\u001B[43m \u001B[49m\u001B[43minput_name\u001B[49m\u001B[38;5;241;43m=\u001B[39;49m\u001B[38;5;124;43m\"\u001B[39;49m\u001B[38;5;124;43mX\u001B[39;49m\u001B[38;5;124;43m\"\u001B[39;49m\u001B[43m,\u001B[49m\u001B[43m \u001B[49m\u001B[38;5;241;43m*\u001B[39;49m\u001B[38;5;241;43m*\u001B[39;49m\u001B[43mcheck_params\u001B[49m\u001B[43m)\u001B[49m\n\u001B[1;32m    578\u001B[0m     out \u001B[38;5;241m=\u001B[39m X\n\u001B[1;32m    579\u001B[0m \u001B[38;5;28;01melif\u001B[39;00m no_val_X \u001B[38;5;129;01mand\u001B[39;00m \u001B[38;5;129;01mnot\u001B[39;00m no_val_y:\n",
      "File \u001B[0;32m/opt/homebrew/Caskroom/miniconda/base/envs/mltest/lib/python3.9/site-packages/sklearn/utils/validation.py:899\u001B[0m, in \u001B[0;36mcheck_array\u001B[0;34m(array, accept_sparse, accept_large_sparse, dtype, order, copy, force_all_finite, ensure_2d, allow_nd, ensure_min_samples, ensure_min_features, estimator, input_name)\u001B[0m\n\u001B[1;32m    893\u001B[0m         \u001B[38;5;28;01mraise\u001B[39;00m \u001B[38;5;167;01mValueError\u001B[39;00m(\n\u001B[1;32m    894\u001B[0m             \u001B[38;5;124m\"\u001B[39m\u001B[38;5;124mFound array with dim \u001B[39m\u001B[38;5;132;01m%d\u001B[39;00m\u001B[38;5;124m. \u001B[39m\u001B[38;5;132;01m%s\u001B[39;00m\u001B[38;5;124m expected <= 2.\u001B[39m\u001B[38;5;124m\"\u001B[39m\n\u001B[1;32m    895\u001B[0m             \u001B[38;5;241m%\u001B[39m (array\u001B[38;5;241m.\u001B[39mndim, estimator_name)\n\u001B[1;32m    896\u001B[0m         )\n\u001B[1;32m    898\u001B[0m     \u001B[38;5;28;01mif\u001B[39;00m force_all_finite:\n\u001B[0;32m--> 899\u001B[0m         \u001B[43m_assert_all_finite\u001B[49m\u001B[43m(\u001B[49m\n\u001B[1;32m    900\u001B[0m \u001B[43m            \u001B[49m\u001B[43marray\u001B[49m\u001B[43m,\u001B[49m\n\u001B[1;32m    901\u001B[0m \u001B[43m            \u001B[49m\u001B[43minput_name\u001B[49m\u001B[38;5;241;43m=\u001B[39;49m\u001B[43minput_name\u001B[49m\u001B[43m,\u001B[49m\n\u001B[1;32m    902\u001B[0m \u001B[43m            \u001B[49m\u001B[43mestimator_name\u001B[49m\u001B[38;5;241;43m=\u001B[39;49m\u001B[43mestimator_name\u001B[49m\u001B[43m,\u001B[49m\n\u001B[1;32m    903\u001B[0m \u001B[43m            \u001B[49m\u001B[43mallow_nan\u001B[49m\u001B[38;5;241;43m=\u001B[39;49m\u001B[43mforce_all_finite\u001B[49m\u001B[43m \u001B[49m\u001B[38;5;241;43m==\u001B[39;49m\u001B[43m \u001B[49m\u001B[38;5;124;43m\"\u001B[39;49m\u001B[38;5;124;43mallow-nan\u001B[39;49m\u001B[38;5;124;43m\"\u001B[39;49m\u001B[43m,\u001B[49m\n\u001B[1;32m    904\u001B[0m \u001B[43m        \u001B[49m\u001B[43m)\u001B[49m\n\u001B[1;32m    906\u001B[0m \u001B[38;5;28;01mif\u001B[39;00m ensure_min_samples \u001B[38;5;241m>\u001B[39m \u001B[38;5;241m0\u001B[39m:\n\u001B[1;32m    907\u001B[0m     n_samples \u001B[38;5;241m=\u001B[39m _num_samples(array)\n",
      "File \u001B[0;32m/opt/homebrew/Caskroom/miniconda/base/envs/mltest/lib/python3.9/site-packages/sklearn/utils/validation.py:146\u001B[0m, in \u001B[0;36m_assert_all_finite\u001B[0;34m(X, allow_nan, msg_dtype, estimator_name, input_name)\u001B[0m\n\u001B[1;32m    124\u001B[0m         \u001B[38;5;28;01mif\u001B[39;00m (\n\u001B[1;32m    125\u001B[0m             \u001B[38;5;129;01mnot\u001B[39;00m allow_nan\n\u001B[1;32m    126\u001B[0m             \u001B[38;5;129;01mand\u001B[39;00m estimator_name\n\u001B[0;32m   (...)\u001B[0m\n\u001B[1;32m    130\u001B[0m             \u001B[38;5;66;03m# Improve the error message on how to handle missing values in\u001B[39;00m\n\u001B[1;32m    131\u001B[0m             \u001B[38;5;66;03m# scikit-learn.\u001B[39;00m\n\u001B[1;32m    132\u001B[0m             msg_err \u001B[38;5;241m+\u001B[39m\u001B[38;5;241m=\u001B[39m (\n\u001B[1;32m    133\u001B[0m                 \u001B[38;5;124mf\u001B[39m\u001B[38;5;124m\"\u001B[39m\u001B[38;5;130;01m\\n\u001B[39;00m\u001B[38;5;132;01m{\u001B[39;00mestimator_name\u001B[38;5;132;01m}\u001B[39;00m\u001B[38;5;124m does not accept missing values\u001B[39m\u001B[38;5;124m\"\u001B[39m\n\u001B[1;32m    134\u001B[0m                 \u001B[38;5;124m\"\u001B[39m\u001B[38;5;124m encoded as NaN natively. For supervised learning, you might want\u001B[39m\u001B[38;5;124m\"\u001B[39m\n\u001B[0;32m   (...)\u001B[0m\n\u001B[1;32m    144\u001B[0m                 \u001B[38;5;124m\"\u001B[39m\u001B[38;5;124m#estimators-that-handle-nan-values\u001B[39m\u001B[38;5;124m\"\u001B[39m\n\u001B[1;32m    145\u001B[0m             )\n\u001B[0;32m--> 146\u001B[0m         \u001B[38;5;28;01mraise\u001B[39;00m \u001B[38;5;167;01mValueError\u001B[39;00m(msg_err)\n\u001B[1;32m    148\u001B[0m \u001B[38;5;66;03m# for object dtype data, we only check for NaNs (GH-13254)\u001B[39;00m\n\u001B[1;32m    149\u001B[0m \u001B[38;5;28;01melif\u001B[39;00m X\u001B[38;5;241m.\u001B[39mdtype \u001B[38;5;241m==\u001B[39m np\u001B[38;5;241m.\u001B[39mdtype(\u001B[38;5;124m\"\u001B[39m\u001B[38;5;124mobject\u001B[39m\u001B[38;5;124m\"\u001B[39m) \u001B[38;5;129;01mand\u001B[39;00m \u001B[38;5;129;01mnot\u001B[39;00m allow_nan:\n",
      "\u001B[0;31mValueError\u001B[0m: Input X contains NaN.\nDecisionTreeClassifier does not accept missing values encoded as NaN natively. For supervised learning, you might want to consider sklearn.ensemble.HistGradientBoostingClassifier and Regressor which accept missing values encoded as NaNs natively. Alternatively, it is possible to preprocess the data, for instance by using an imputer transformer in a pipeline or drop samples with missing values. See https://scikit-learn.org/stable/modules/impute.html You can find a list of all estimators that handle NaN values at the following page: https://scikit-learn.org/stable/modules/impute.html#estimators-that-handle-nan-values"
     ]
    }
   ],
   "source": [
    "from sklearn.impute import SimpleImputer\n",
    "import numpy as np\n",
    "imputer = SimpleImputer(strategy=\"most_frequent\")"
   ],
   "metadata": {
    "collapsed": false
   }
  },
  {
   "cell_type": "code",
   "execution_count": null,
   "outputs": [],
   "source": [
    "# Sort columns\n",
    "features_df = features_df.reindex(sorted(features_df.columns), axis=1)\n",
    "\n",
    "# Drop unnecessary columns\n",
    "features_df = features_df[features_df.columns.drop(\"zipcode\").drop(\"dob_ssn\")]\n",
    "\n",
    "# Make prediction\n",
    "features_df[\"prediction\"] = classifier.predict(features_df)\n",
    "\n",
    "result = features_df[\"prediction\"].iloc[0]"
   ],
   "metadata": {
    "collapsed": false
   }
  },
  {
   "cell_type": "code",
   "execution_count": null,
   "outputs": [],
   "source": [
    "if result == 0:\n",
    "    print(\"Loan approved!\")\n",
    "elif result == 1:\n",
    "    print(\"Loan rejected!\")"
   ],
   "metadata": {
    "collapsed": false
   }
  }
 ],
 "metadata": {
  "kernelspec": {
   "display_name": "Python 3",
   "language": "python",
   "name": "python3"
  },
  "language_info": {
   "codemirror_mode": {
    "name": "ipython",
    "version": 2
   },
   "file_extension": ".py",
   "mimetype": "text/x-python",
   "name": "python",
   "nbconvert_exporter": "python",
   "pygments_lexer": "ipython2",
   "version": "2.7.6"
  }
 },
 "nbformat": 4,
 "nbformat_minor": 0
}
