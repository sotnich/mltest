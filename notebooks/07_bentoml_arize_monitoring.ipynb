{
 "cells": [
  {
   "cell_type": "code",
   "execution_count": 71,
   "outputs": [],
   "source": [
    "import requests\n",
    "from sklearn.model_selection import train_test_split\n",
    "import pandas as pd\n",
    "from random import randint\n",
    "import time\n",
    "from arize.api import Client\n",
    "from arize.utils.types import ModelTypes, Environments\n",
    "from getpass import getpass"
   ],
   "metadata": {
    "collapsed": false
   }
  },
  {
   "cell_type": "code",
   "execution_count": 73,
   "outputs": [],
   "source": [
    "# replace host address with an actual one\n",
    "URL = \"http://test2-yatai.13.39.60.211.sslip.io/classify\""
   ],
   "metadata": {
    "collapsed": false
   }
  },
  {
   "cell_type": "code",
   "execution_count": 74,
   "outputs": [],
   "source": [
    "SPACE_KEY = \"fa2cbad\"\n",
    "if 'API_KEY' not in locals():\n",
    "    API_KEY = getpass(\"Enter your Arize Api Key: \")\n",
    "\n",
    "arize_client = Client(space_key=SPACE_KEY, api_key=API_KEY)"
   ],
   "metadata": {
    "collapsed": false
   }
  },
  {
   "cell_type": "code",
   "execution_count": 75,
   "outputs": [],
   "source": [
    "# building train dataset for prediction simulation\n",
    "\n",
    "training_df = pd.read_parquet(f\"../data/loan_table_training.parquet\")  # load train dataset\n",
    "target = \"loan_status\"\n",
    "x = training_df[\n",
    "    training_df.columns.drop(target)\n",
    "    .drop(\"event_timestamp\")\n",
    "    .drop(\"created_timestamp\")\n",
    "    .drop(\"loan_id\")\n",
    "    .drop(\"zipcode\")\n",
    "    .drop(\"dob_ssn\")\n",
    "]\n",
    "X = x.reindex(sorted(x.columns), axis=1)\n",
    "y = training_df.loc[:, target]\n",
    "X_train, X_test, y_train, y_test = train_test_split(\n",
    "    X, y, test_size=0.4, random_state=1234\n",
    ")"
   ],
   "metadata": {
    "collapsed": false
   }
  },
  {
   "cell_type": "code",
   "execution_count": null,
   "outputs": [],
   "source": [
    "while True:\n",
    "\n",
    "    n = randint(0, X_test.shape[0] - 1)\n",
    "    line = X_test.iloc[[n]]\n",
    "\n",
    "    request = requests.post(\n",
    "        url=URL,\n",
    "        headers={\"content-type\": \"application/json\"},\n",
    "        data=line.to_json(orient='records')\n",
    "    )\n",
    "    j = request.json()\n",
    "    result, prediction_id, model_version = str(j['prediction']), str(j['prediction_id']), str(j['model_version'])\n",
    "\n",
    "    # In reality we must wait for 6-9 months in case of credit scoring model\n",
    "    actual_result = str(y_test[line.index].iloc[0])\n",
    "\n",
    "    future = arize_client.log(\n",
    "        prediction_id=prediction_id,\n",
    "        actual_label=actual_result,\n",
    "        model_id=\"credit_score:credit_score_prediction\",\n",
    "        model_version=model_version,\n",
    "        model_type=ModelTypes.SCORE_CATEGORICAL,\n",
    "        environment=Environments.PRODUCTION,\n",
    "        prediction_label=result,\n",
    "        features=line.to_dict('records')[0] # hack: in real case we must not log features second time\n",
    "    )\n",
    "\n",
    "    if future.result().status_code != 200:\n",
    "        print(f'Logging failed with status code {result.status_code} and message \"{result.text}\"')\n",
    "\n",
    "    time.sleep(1)"
   ],
   "metadata": {
    "collapsed": false,
    "pycharm": {
     "is_executing": true
    }
   }
  },
  {
   "cell_type": "code",
   "execution_count": null,
   "outputs": [],
   "source": [],
   "metadata": {
    "collapsed": false
   }
  }
 ],
 "metadata": {
  "kernelspec": {
   "display_name": "Python 3",
   "language": "python",
   "name": "python3"
  },
  "language_info": {
   "codemirror_mode": {
    "name": "ipython",
    "version": 2
   },
   "file_extension": ".py",
   "mimetype": "text/x-python",
   "name": "python",
   "nbconvert_exporter": "python",
   "pygments_lexer": "ipython2",
   "version": "2.7.6"
  }
 },
 "nbformat": 4,
 "nbformat_minor": 0
}
