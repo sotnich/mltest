{
 "cells": [
  {
   "cell_type": "code",
   "execution_count": 17,
   "metadata": {
    "collapsed": true
   },
   "outputs": [],
   "source": [
    "import joblib\n",
    "import pandas as pd\n",
    "from datetime import datetime\n",
    "from feast import FeatureStore\n",
    "from pathlib import Path\n",
    "from sklearn import tree\n",
    "from sklearn.preprocessing import OrdinalEncoder"
   ]
  },
  {
   "cell_type": "code",
   "execution_count": 18,
   "outputs": [],
   "source": [
    "home_dir = str(Path.home())\n",
    "\n",
    "repo_path = home_dir\n",
    "model_filename = f\"{home_dir}/model.bin\"\n",
    "encoder_filename = f\"{home_dir}/encoder.bin\""
   ],
   "metadata": {
    "collapsed": false
   }
  },
  {
   "cell_type": "code",
   "execution_count": 19,
   "outputs": [],
   "source": [
    "# Set up model building\n",
    "classifier = tree.DecisionTreeClassifier()"
   ],
   "metadata": {
    "collapsed": false
   }
  },
  {
   "cell_type": "code",
   "execution_count": 20,
   "outputs": [],
   "source": [
    "# Set up feature store\n",
    "fs = FeatureStore(repo_path=repo_path)"
   ],
   "metadata": {
    "collapsed": false
   }
  },
  {
   "cell_type": "code",
   "execution_count": 28,
   "outputs": [],
   "source": [
    "loans = pd.read_parquet(f\"{home_dir}/loan_table.parquet\") # load base for the train dataset"
   ],
   "metadata": {
    "collapsed": false
   }
  },
  {
   "cell_type": "code",
   "execution_count": 29,
   "outputs": [
    {
     "data": {
      "text/plain": "   loan_id        dob_ssn  zipcode  person_age  person_income  \\\n0    10000  19530219_5179    76104          22          59000   \n1    10001  19520816_8737    70380          21           9600   \n2    10002  19860413_2537    97039          25           9600   \n3    10003  19760701_8090    63785          23          65500   \n4    10004  19830125_8297    82223          24          54400   \n\n  person_home_ownership  person_emp_length loan_intent  loan_amnt  \\\n0                  RENT              123.0    PERSONAL      35000   \n1                   OWN                5.0   EDUCATION       1000   \n2              MORTGAGE                1.0     MEDICAL       5500   \n3                  RENT                4.0     MEDICAL      35000   \n4                  RENT                8.0     MEDICAL      35000   \n\n   loan_int_rate  loan_status                  event_timestamp  \\\n0          16.02            1 2021-08-25 20:34:41.361000+00:00   \n1          11.14            0 2021-08-25 20:16:20.128000+00:00   \n2          12.87            1 2021-08-25 19:57:58.896000+00:00   \n3          15.23            1 2021-08-25 19:39:37.663000+00:00   \n4          14.27            1 2021-08-25 19:21:16.430000+00:00   \n\n                 created_timestamp  \n0 2021-08-25 20:34:41.361000+00:00  \n1 2021-08-25 20:16:20.128000+00:00  \n2 2021-08-25 19:57:58.896000+00:00  \n3 2021-08-25 19:39:37.663000+00:00  \n4 2021-08-25 19:21:16.430000+00:00  ",
      "text/html": "<div>\n<style scoped>\n    .dataframe tbody tr th:only-of-type {\n        vertical-align: middle;\n    }\n\n    .dataframe tbody tr th {\n        vertical-align: top;\n    }\n\n    .dataframe thead th {\n        text-align: right;\n    }\n</style>\n<table border=\"1\" class=\"dataframe\">\n  <thead>\n    <tr style=\"text-align: right;\">\n      <th></th>\n      <th>loan_id</th>\n      <th>dob_ssn</th>\n      <th>zipcode</th>\n      <th>person_age</th>\n      <th>person_income</th>\n      <th>person_home_ownership</th>\n      <th>person_emp_length</th>\n      <th>loan_intent</th>\n      <th>loan_amnt</th>\n      <th>loan_int_rate</th>\n      <th>loan_status</th>\n      <th>event_timestamp</th>\n      <th>created_timestamp</th>\n    </tr>\n  </thead>\n  <tbody>\n    <tr>\n      <th>0</th>\n      <td>10000</td>\n      <td>19530219_5179</td>\n      <td>76104</td>\n      <td>22</td>\n      <td>59000</td>\n      <td>RENT</td>\n      <td>123.0</td>\n      <td>PERSONAL</td>\n      <td>35000</td>\n      <td>16.02</td>\n      <td>1</td>\n      <td>2021-08-25 20:34:41.361000+00:00</td>\n      <td>2021-08-25 20:34:41.361000+00:00</td>\n    </tr>\n    <tr>\n      <th>1</th>\n      <td>10001</td>\n      <td>19520816_8737</td>\n      <td>70380</td>\n      <td>21</td>\n      <td>9600</td>\n      <td>OWN</td>\n      <td>5.0</td>\n      <td>EDUCATION</td>\n      <td>1000</td>\n      <td>11.14</td>\n      <td>0</td>\n      <td>2021-08-25 20:16:20.128000+00:00</td>\n      <td>2021-08-25 20:16:20.128000+00:00</td>\n    </tr>\n    <tr>\n      <th>2</th>\n      <td>10002</td>\n      <td>19860413_2537</td>\n      <td>97039</td>\n      <td>25</td>\n      <td>9600</td>\n      <td>MORTGAGE</td>\n      <td>1.0</td>\n      <td>MEDICAL</td>\n      <td>5500</td>\n      <td>12.87</td>\n      <td>1</td>\n      <td>2021-08-25 19:57:58.896000+00:00</td>\n      <td>2021-08-25 19:57:58.896000+00:00</td>\n    </tr>\n    <tr>\n      <th>3</th>\n      <td>10003</td>\n      <td>19760701_8090</td>\n      <td>63785</td>\n      <td>23</td>\n      <td>65500</td>\n      <td>RENT</td>\n      <td>4.0</td>\n      <td>MEDICAL</td>\n      <td>35000</td>\n      <td>15.23</td>\n      <td>1</td>\n      <td>2021-08-25 19:39:37.663000+00:00</td>\n      <td>2021-08-25 19:39:37.663000+00:00</td>\n    </tr>\n    <tr>\n      <th>4</th>\n      <td>10004</td>\n      <td>19830125_8297</td>\n      <td>82223</td>\n      <td>24</td>\n      <td>54400</td>\n      <td>RENT</td>\n      <td>8.0</td>\n      <td>MEDICAL</td>\n      <td>35000</td>\n      <td>14.27</td>\n      <td>1</td>\n      <td>2021-08-25 19:21:16.430000+00:00</td>\n      <td>2021-08-25 19:21:16.430000+00:00</td>\n    </tr>\n  </tbody>\n</table>\n</div>"
     },
     "execution_count": 29,
     "metadata": {},
     "output_type": "execute_result"
    }
   ],
   "source": [
    "loans.head()"
   ],
   "metadata": {
    "collapsed": false
   }
  },
  {
   "cell_type": "code",
   "execution_count": 30,
   "outputs": [],
   "source": [
    "training_df = fs.get_historical_features(\n",
    "    entity_df=loans, features=[\n",
    "        \"zipcode_features:city\",\n",
    "        \"zipcode_features:state\",\n",
    "        \"zipcode_features:location_type\",\n",
    "        \"zipcode_features:tax_returns_filed\",\n",
    "        \"zipcode_features:population\",\n",
    "        \"zipcode_features:total_wages\",\n",
    "        \"credit_history:credit_card_due\",\n",
    "        \"credit_history:mortgage_due\",\n",
    "        \"credit_history:student_loan_due\",\n",
    "        \"credit_history:vehicle_loan_due\",\n",
    "        \"credit_history:hard_pulls\",\n",
    "        \"credit_history:missed_payments_2y\",\n",
    "        \"credit_history:missed_payments_1y\",\n",
    "        \"credit_history:missed_payments_6m\",\n",
    "        \"credit_history:bankruptcies\",\n",
    "        \"person_home_ownership:person_home_ownership_enc\",\n",
    "        \"loan_intent:loan_intent_enc\",\n",
    "    ]\n",
    ").to_df().drop(['person_home_ownership', 'loan_intent'])"
   ],
   "metadata": {
    "collapsed": false
   }
  },
  {
   "cell_type": "code",
   "execution_count": 31,
   "outputs": [
    {
     "data": {
      "text/plain": "       loan_id        dob_ssn  zipcode  person_age  person_income  \\\n0        10005  19620424_2674    49861          21           9900   \n1        10011  19880808_5747    55307          21          10000   \n2        10019  19710322_7014    48827          24          10800   \n3        10023  19980613_9023    17508          24          10980   \n4        10029  19771012_6788    16932          21          11389   \n...        ...            ...      ...         ...            ...   \n28643    38599  19711108_2410    74425          60         150000   \n28644    38605  19721210_7011    46561          67         200000   \n28645    38623  19730204_2528    76426          53          45000   \n28646    38627  19520922_3945    29030          60          49008   \n28647    38633  19491126_1487    43205          57          53000   \n\n      person_home_ownership  person_emp_length      loan_intent  loan_amnt  \\\n0                       OWN                2.0          VENTURE       2500   \n1                       OWN                2.0  HOMEIMPROVEMENT       4500   \n2                  MORTGAGE                8.0        EDUCATION       1750   \n3                       OWN                0.0         PERSONAL       1500   \n4                     OTHER                5.0        EDUCATION       4000   \n...                     ...                ...              ...        ...   \n28643              MORTGAGE                1.0         PERSONAL      10000   \n28644              MORTGAGE                2.0         PERSONAL       3000   \n28645                  RENT                0.0         PERSONAL       5600   \n28646                   OWN                5.0         PERSONAL      12000   \n28647              MORTGAGE                1.0         PERSONAL       5800   \n\n       loan_int_rate  ...  credit_card_due mortgage_due student_loan_due  \\\n0               7.14  ...             2257       709259            28836   \n1               8.63  ...             5478      1389857            35196   \n2              10.99  ...             2742      1035854            27263   \n3               7.29  ...             2309       337244            36531   \n4              12.84  ...             4444      1940769            24301   \n...              ...  ...              ...          ...              ...   \n28643           5.79  ...             2479      1434875            17265   \n28644          10.28  ...             8186      1453177             4142   \n28645          13.79  ...              635       875506            19376   \n28646          13.79  ...             8412      1063064            24504   \n28647          13.16  ...              388       438726            41429   \n\n      vehicle_loan_due hard_pulls missed_payments_2y  missed_payments_1y  \\\n0                17248         10                  4                   2   \n1                 8926          9                  1                   1   \n2                29469          9                  1                   1   \n3                 4103          6                  4                   0   \n4                18906          7                  3                   2   \n...                ...        ...                ...                 ...   \n28643            29811         10                  3                   0   \n28644             5907          1                  0                   0   \n28645            18862          3                  7                   3   \n28646            11188          0                  1                   0   \n28647            12736          6                  4                   0   \n\n       missed_payments_6m  bankruptcies  person_home_ownership_enc  \n0                       0             1                          1  \n1                       1             1                          1  \n2                       1             0                          3  \n3                       0             0                          1  \n4                       0             1                          3  \n...                   ...           ...                        ...  \n28643                   1             0                          3  \n28644                   0             0                          3  \n28645                   1             1                          0  \n28646                   0             0                          1  \n28647                   1             0                          3  \n\n[28648 rows x 29 columns]",
      "text/html": "<div>\n<style scoped>\n    .dataframe tbody tr th:only-of-type {\n        vertical-align: middle;\n    }\n\n    .dataframe tbody tr th {\n        vertical-align: top;\n    }\n\n    .dataframe thead th {\n        text-align: right;\n    }\n</style>\n<table border=\"1\" class=\"dataframe\">\n  <thead>\n    <tr style=\"text-align: right;\">\n      <th></th>\n      <th>loan_id</th>\n      <th>dob_ssn</th>\n      <th>zipcode</th>\n      <th>person_age</th>\n      <th>person_income</th>\n      <th>person_home_ownership</th>\n      <th>person_emp_length</th>\n      <th>loan_intent</th>\n      <th>loan_amnt</th>\n      <th>loan_int_rate</th>\n      <th>...</th>\n      <th>credit_card_due</th>\n      <th>mortgage_due</th>\n      <th>student_loan_due</th>\n      <th>vehicle_loan_due</th>\n      <th>hard_pulls</th>\n      <th>missed_payments_2y</th>\n      <th>missed_payments_1y</th>\n      <th>missed_payments_6m</th>\n      <th>bankruptcies</th>\n      <th>person_home_ownership_enc</th>\n    </tr>\n  </thead>\n  <tbody>\n    <tr>\n      <th>0</th>\n      <td>10005</td>\n      <td>19620424_2674</td>\n      <td>49861</td>\n      <td>21</td>\n      <td>9900</td>\n      <td>OWN</td>\n      <td>2.0</td>\n      <td>VENTURE</td>\n      <td>2500</td>\n      <td>7.14</td>\n      <td>...</td>\n      <td>2257</td>\n      <td>709259</td>\n      <td>28836</td>\n      <td>17248</td>\n      <td>10</td>\n      <td>4</td>\n      <td>2</td>\n      <td>0</td>\n      <td>1</td>\n      <td>1</td>\n    </tr>\n    <tr>\n      <th>1</th>\n      <td>10011</td>\n      <td>19880808_5747</td>\n      <td>55307</td>\n      <td>21</td>\n      <td>10000</td>\n      <td>OWN</td>\n      <td>2.0</td>\n      <td>HOMEIMPROVEMENT</td>\n      <td>4500</td>\n      <td>8.63</td>\n      <td>...</td>\n      <td>5478</td>\n      <td>1389857</td>\n      <td>35196</td>\n      <td>8926</td>\n      <td>9</td>\n      <td>1</td>\n      <td>1</td>\n      <td>1</td>\n      <td>1</td>\n      <td>1</td>\n    </tr>\n    <tr>\n      <th>2</th>\n      <td>10019</td>\n      <td>19710322_7014</td>\n      <td>48827</td>\n      <td>24</td>\n      <td>10800</td>\n      <td>MORTGAGE</td>\n      <td>8.0</td>\n      <td>EDUCATION</td>\n      <td>1750</td>\n      <td>10.99</td>\n      <td>...</td>\n      <td>2742</td>\n      <td>1035854</td>\n      <td>27263</td>\n      <td>29469</td>\n      <td>9</td>\n      <td>1</td>\n      <td>1</td>\n      <td>1</td>\n      <td>0</td>\n      <td>3</td>\n    </tr>\n    <tr>\n      <th>3</th>\n      <td>10023</td>\n      <td>19980613_9023</td>\n      <td>17508</td>\n      <td>24</td>\n      <td>10980</td>\n      <td>OWN</td>\n      <td>0.0</td>\n      <td>PERSONAL</td>\n      <td>1500</td>\n      <td>7.29</td>\n      <td>...</td>\n      <td>2309</td>\n      <td>337244</td>\n      <td>36531</td>\n      <td>4103</td>\n      <td>6</td>\n      <td>4</td>\n      <td>0</td>\n      <td>0</td>\n      <td>0</td>\n      <td>1</td>\n    </tr>\n    <tr>\n      <th>4</th>\n      <td>10029</td>\n      <td>19771012_6788</td>\n      <td>16932</td>\n      <td>21</td>\n      <td>11389</td>\n      <td>OTHER</td>\n      <td>5.0</td>\n      <td>EDUCATION</td>\n      <td>4000</td>\n      <td>12.84</td>\n      <td>...</td>\n      <td>4444</td>\n      <td>1940769</td>\n      <td>24301</td>\n      <td>18906</td>\n      <td>7</td>\n      <td>3</td>\n      <td>2</td>\n      <td>0</td>\n      <td>1</td>\n      <td>3</td>\n    </tr>\n    <tr>\n      <th>...</th>\n      <td>...</td>\n      <td>...</td>\n      <td>...</td>\n      <td>...</td>\n      <td>...</td>\n      <td>...</td>\n      <td>...</td>\n      <td>...</td>\n      <td>...</td>\n      <td>...</td>\n      <td>...</td>\n      <td>...</td>\n      <td>...</td>\n      <td>...</td>\n      <td>...</td>\n      <td>...</td>\n      <td>...</td>\n      <td>...</td>\n      <td>...</td>\n      <td>...</td>\n      <td>...</td>\n    </tr>\n    <tr>\n      <th>28643</th>\n      <td>38599</td>\n      <td>19711108_2410</td>\n      <td>74425</td>\n      <td>60</td>\n      <td>150000</td>\n      <td>MORTGAGE</td>\n      <td>1.0</td>\n      <td>PERSONAL</td>\n      <td>10000</td>\n      <td>5.79</td>\n      <td>...</td>\n      <td>2479</td>\n      <td>1434875</td>\n      <td>17265</td>\n      <td>29811</td>\n      <td>10</td>\n      <td>3</td>\n      <td>0</td>\n      <td>1</td>\n      <td>0</td>\n      <td>3</td>\n    </tr>\n    <tr>\n      <th>28644</th>\n      <td>38605</td>\n      <td>19721210_7011</td>\n      <td>46561</td>\n      <td>67</td>\n      <td>200000</td>\n      <td>MORTGAGE</td>\n      <td>2.0</td>\n      <td>PERSONAL</td>\n      <td>3000</td>\n      <td>10.28</td>\n      <td>...</td>\n      <td>8186</td>\n      <td>1453177</td>\n      <td>4142</td>\n      <td>5907</td>\n      <td>1</td>\n      <td>0</td>\n      <td>0</td>\n      <td>0</td>\n      <td>0</td>\n      <td>3</td>\n    </tr>\n    <tr>\n      <th>28645</th>\n      <td>38623</td>\n      <td>19730204_2528</td>\n      <td>76426</td>\n      <td>53</td>\n      <td>45000</td>\n      <td>RENT</td>\n      <td>0.0</td>\n      <td>PERSONAL</td>\n      <td>5600</td>\n      <td>13.79</td>\n      <td>...</td>\n      <td>635</td>\n      <td>875506</td>\n      <td>19376</td>\n      <td>18862</td>\n      <td>3</td>\n      <td>7</td>\n      <td>3</td>\n      <td>1</td>\n      <td>1</td>\n      <td>0</td>\n    </tr>\n    <tr>\n      <th>28646</th>\n      <td>38627</td>\n      <td>19520922_3945</td>\n      <td>29030</td>\n      <td>60</td>\n      <td>49008</td>\n      <td>OWN</td>\n      <td>5.0</td>\n      <td>PERSONAL</td>\n      <td>12000</td>\n      <td>13.79</td>\n      <td>...</td>\n      <td>8412</td>\n      <td>1063064</td>\n      <td>24504</td>\n      <td>11188</td>\n      <td>0</td>\n      <td>1</td>\n      <td>0</td>\n      <td>0</td>\n      <td>0</td>\n      <td>1</td>\n    </tr>\n    <tr>\n      <th>28647</th>\n      <td>38633</td>\n      <td>19491126_1487</td>\n      <td>43205</td>\n      <td>57</td>\n      <td>53000</td>\n      <td>MORTGAGE</td>\n      <td>1.0</td>\n      <td>PERSONAL</td>\n      <td>5800</td>\n      <td>13.16</td>\n      <td>...</td>\n      <td>388</td>\n      <td>438726</td>\n      <td>41429</td>\n      <td>12736</td>\n      <td>6</td>\n      <td>4</td>\n      <td>0</td>\n      <td>1</td>\n      <td>0</td>\n      <td>3</td>\n    </tr>\n  </tbody>\n</table>\n<p>28648 rows × 29 columns</p>\n</div>"
     },
     "execution_count": 31,
     "metadata": {},
     "output_type": "execute_result"
    }
   ],
   "source": [
    "training_df"
   ],
   "metadata": {
    "collapsed": false
   }
  },
  {
   "cell_type": "code",
   "execution_count": 81,
   "outputs": [
    {
     "data": {
      "text/plain": "['/Users/sotnich/encoder.bin']"
     },
     "execution_count": 81,
     "metadata": {},
     "output_type": "execute_result"
    }
   ],
   "source": [
    "# Transform some categorical features from the original dataset to numerical ones\n",
    "# It is necessary for the correct model training (some models do not understand categorical features)\n",
    "# TODO: It is better to make such transformations through Feature Store!!!\n",
    "# TODO: city, state, location_type are already in FS, just need to encode them before writing to FS\n",
    "\n",
    "\n",
    "categorical_features = [\n",
    "    \"city\",\n",
    "    \"state\",\n",
    "    \"location_type\",\n",
    "]\n",
    "encoder = OrdinalEncoder(handle_unknown='use_encoded_value', unknown_value=-1)\n",
    "\n",
    "# fit encoder\n",
    "encoder.fit(training_df[categorical_features])\n",
    "\n",
    "# apply encoding\n",
    "training_df[categorical_features] = encoder.transform(training_df[categorical_features])\n",
    "\n",
    "# save encoder\n",
    "joblib.dump(encoder, encoder_filename)"
   ],
   "metadata": {
    "collapsed": false
   }
  },
  {
   "cell_type": "code",
   "execution_count": 78,
   "outputs": [
    {
     "data": {
      "text/plain": "   loan_id        dob_ssn  zipcode  person_age  person_income  \\\n0    10001  19520816_8737    70380          21           9600   \n1    10013  19561221_5856     1867          26         108160   \n2    10025  19641023_7448    26155          24          67746   \n3    10035  19810418_9269     6450          21          12000   \n4    10043  19500128_8421    14878          26         300000   \n\n   person_home_ownership  person_emp_length  loan_intent  loan_amnt  \\\n0                    2.0                5.0          1.0       1000   \n1                    3.0                4.0          1.0      35000   \n2                    3.0                8.0          2.0      33000   \n3                    2.0                5.0          1.0       2500   \n4                    2.0                9.0          2.0      10000   \n\n   loan_int_rate  ...  total_wages credit_card_due mortgage_due  \\\n0          11.14  ...    295677025            3308      1181555   \n1          18.39  ...    808066167             286       680710   \n2          12.68  ...    113574080            2738       461567   \n3           7.51  ...    718014481            4270       197495   \n4          10.38  ...      8882208            5564      1263354   \n\n   student_loan_due  vehicle_loan_due  hard_pulls  missed_payments_2y  \\\n0             39015             19073           6                   5   \n1              3495              4760           5                   6   \n2             27164             14933          10                   4   \n3              8370             25828           8                   7   \n4              5304             25239           0                   0   \n\n   missed_payments_1y  missed_payments_6m  bankruptcies  \n0                   1                   1             0  \n1                   1                   0             0  \n2                   1                   0             0  \n3                   0                   0             0  \n4                   0                   0             0  \n\n[5 rows x 28 columns]",
      "text/html": "<div>\n<style scoped>\n    .dataframe tbody tr th:only-of-type {\n        vertical-align: middle;\n    }\n\n    .dataframe tbody tr th {\n        vertical-align: top;\n    }\n\n    .dataframe thead th {\n        text-align: right;\n    }\n</style>\n<table border=\"1\" class=\"dataframe\">\n  <thead>\n    <tr style=\"text-align: right;\">\n      <th></th>\n      <th>loan_id</th>\n      <th>dob_ssn</th>\n      <th>zipcode</th>\n      <th>person_age</th>\n      <th>person_income</th>\n      <th>person_home_ownership</th>\n      <th>person_emp_length</th>\n      <th>loan_intent</th>\n      <th>loan_amnt</th>\n      <th>loan_int_rate</th>\n      <th>...</th>\n      <th>total_wages</th>\n      <th>credit_card_due</th>\n      <th>mortgage_due</th>\n      <th>student_loan_due</th>\n      <th>vehicle_loan_due</th>\n      <th>hard_pulls</th>\n      <th>missed_payments_2y</th>\n      <th>missed_payments_1y</th>\n      <th>missed_payments_6m</th>\n      <th>bankruptcies</th>\n    </tr>\n  </thead>\n  <tbody>\n    <tr>\n      <th>0</th>\n      <td>10001</td>\n      <td>19520816_8737</td>\n      <td>70380</td>\n      <td>21</td>\n      <td>9600</td>\n      <td>2.0</td>\n      <td>5.0</td>\n      <td>1.0</td>\n      <td>1000</td>\n      <td>11.14</td>\n      <td>...</td>\n      <td>295677025</td>\n      <td>3308</td>\n      <td>1181555</td>\n      <td>39015</td>\n      <td>19073</td>\n      <td>6</td>\n      <td>5</td>\n      <td>1</td>\n      <td>1</td>\n      <td>0</td>\n    </tr>\n    <tr>\n      <th>1</th>\n      <td>10013</td>\n      <td>19561221_5856</td>\n      <td>1867</td>\n      <td>26</td>\n      <td>108160</td>\n      <td>3.0</td>\n      <td>4.0</td>\n      <td>1.0</td>\n      <td>35000</td>\n      <td>18.39</td>\n      <td>...</td>\n      <td>808066167</td>\n      <td>286</td>\n      <td>680710</td>\n      <td>3495</td>\n      <td>4760</td>\n      <td>5</td>\n      <td>6</td>\n      <td>1</td>\n      <td>0</td>\n      <td>0</td>\n    </tr>\n    <tr>\n      <th>2</th>\n      <td>10025</td>\n      <td>19641023_7448</td>\n      <td>26155</td>\n      <td>24</td>\n      <td>67746</td>\n      <td>3.0</td>\n      <td>8.0</td>\n      <td>2.0</td>\n      <td>33000</td>\n      <td>12.68</td>\n      <td>...</td>\n      <td>113574080</td>\n      <td>2738</td>\n      <td>461567</td>\n      <td>27164</td>\n      <td>14933</td>\n      <td>10</td>\n      <td>4</td>\n      <td>1</td>\n      <td>0</td>\n      <td>0</td>\n    </tr>\n    <tr>\n      <th>3</th>\n      <td>10035</td>\n      <td>19810418_9269</td>\n      <td>6450</td>\n      <td>21</td>\n      <td>12000</td>\n      <td>2.0</td>\n      <td>5.0</td>\n      <td>1.0</td>\n      <td>2500</td>\n      <td>7.51</td>\n      <td>...</td>\n      <td>718014481</td>\n      <td>4270</td>\n      <td>197495</td>\n      <td>8370</td>\n      <td>25828</td>\n      <td>8</td>\n      <td>7</td>\n      <td>0</td>\n      <td>0</td>\n      <td>0</td>\n    </tr>\n    <tr>\n      <th>4</th>\n      <td>10043</td>\n      <td>19500128_8421</td>\n      <td>14878</td>\n      <td>26</td>\n      <td>300000</td>\n      <td>2.0</td>\n      <td>9.0</td>\n      <td>2.0</td>\n      <td>10000</td>\n      <td>10.38</td>\n      <td>...</td>\n      <td>8882208</td>\n      <td>5564</td>\n      <td>1263354</td>\n      <td>5304</td>\n      <td>25239</td>\n      <td>0</td>\n      <td>0</td>\n      <td>0</td>\n      <td>0</td>\n      <td>0</td>\n    </tr>\n  </tbody>\n</table>\n<p>5 rows × 28 columns</p>\n</div>"
     },
     "execution_count": 78,
     "metadata": {},
     "output_type": "execute_result"
    }
   ],
   "source": [
    "training_df.head()"
   ],
   "metadata": {
    "collapsed": false
   }
  },
  {
   "cell_type": "code",
   "execution_count": 79,
   "outputs": [
    {
     "data": {
      "text/plain": "['/Users/sotnich/model.bin']"
     },
     "execution_count": 79,
     "metadata": {},
     "output_type": "execute_result"
    }
   ],
   "source": [
    "# Train and save model\n",
    "\n",
    "target = \"loan_status\"\n",
    "\n",
    "train_x = training_df[\n",
    "    training_df.columns.drop(target)\n",
    "    .drop(\"event_timestamp\")\n",
    "    .drop(\"created_timestamp\")\n",
    "    .drop(\"loan_id\")\n",
    "    .drop(\"zipcode\")\n",
    "    .drop(\"dob_ssn\")\n",
    "]\n",
    "train_x = train_x.reindex(sorted(train_x.columns), axis=1)\n",
    "train_y = training_df.loc[:, target]\n",
    "\n",
    "classifier.fit(train_x[sorted(train_x)], train_y)\n",
    "joblib.dump(classifier, model_filename)"
   ],
   "metadata": {
    "collapsed": false
   }
  },
  {
   "cell_type": "code",
   "execution_count": 6,
   "outputs": [
    {
     "name": "stdout",
     "output_type": "stream",
     "text": [
      "Materializing \u001B[1m\u001B[32m2\u001B[0m feature views from \u001B[1m\u001B[32m2013-01-01 00:00:00+00:00\u001B[0m to \u001B[1m\u001B[32m2023-01-09 16:39:35+00:00\u001B[0m into the \u001B[1m\u001B[32mdynamodb\u001B[0m online store.\n",
      "\n",
      "\u001B[1m\u001B[32mcredit_history\u001B[0m:\n"
     ]
    },
    {
     "name": "stderr",
     "output_type": "stream",
     "text": [
      "100%|████████████████████████████████████████████████████████| 28633/28633 [00:49<00:00, 581.46it/s]\n"
     ]
    },
    {
     "name": "stdout",
     "output_type": "stream",
     "text": [
      "\u001B[1m\u001B[32mzipcode_features\u001B[0m:\n"
     ]
    },
    {
     "name": "stderr",
     "output_type": "stream",
     "text": [
      "100%|████████████████████████████████████████████████████████| 28844/28844 [00:48<00:00, 589.25it/s]\n"
     ]
    }
   ],
   "source": [
    "# This is not the part of the model training!\n",
    "# But this step is necessary for online prediction\n",
    "# This is moving features from batch to online store\n",
    "\n",
    "fs.materialize(start_date=datetime(year=2013, month=1, day=1), end_date=datetime.now())"
   ],
   "metadata": {
    "collapsed": false
   }
  },
  {
   "cell_type": "code",
   "execution_count": null,
   "outputs": [],
   "source": [],
   "metadata": {
    "collapsed": false
   }
  }
 ],
 "metadata": {
  "kernelspec": {
   "display_name": "Python 3",
   "language": "python",
   "name": "python3"
  },
  "language_info": {
   "codemirror_mode": {
    "name": "ipython",
    "version": 2
   },
   "file_extension": ".py",
   "mimetype": "text/x-python",
   "name": "python",
   "nbconvert_exporter": "python",
   "pygments_lexer": "ipython2",
   "version": "2.7.6"
  }
 },
 "nbformat": 4,
 "nbformat_minor": 0
}
