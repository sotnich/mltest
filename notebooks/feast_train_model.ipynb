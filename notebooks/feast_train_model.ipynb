{
 "cells": [
  {
   "cell_type": "code",
   "execution_count": 69,
   "metadata": {
    "collapsed": true
   },
   "outputs": [],
   "source": [
    "import joblib\n",
    "import pandas as pd\n",
    "from feast import FeatureStore\n",
    "from pathlib import Path\n",
    "from sklearn import tree\n",
    "from sklearn.preprocessing import OrdinalEncoder"
   ]
  },
  {
   "cell_type": "code",
   "execution_count": 70,
   "outputs": [],
   "source": [
    "home_dir = str(Path.home())\n",
    "\n",
    "repo_path = home_dir\n",
    "model_filename = f\"{home_dir}/model.bin\"\n",
    "encoder_filename = f\"{home_dir}/encoder.bin\""
   ],
   "metadata": {
    "collapsed": false
   }
  },
  {
   "cell_type": "code",
   "execution_count": 71,
   "outputs": [],
   "source": [
    "# Set up model building\n",
    "classifier = tree.DecisionTreeClassifier()\n"
   ],
   "metadata": {
    "collapsed": false
   }
  },
  {
   "cell_type": "code",
   "execution_count": 72,
   "outputs": [],
   "source": [
    "# Set up feature store\n",
    "fs = FeatureStore(repo_path=repo_path)"
   ],
   "metadata": {
    "collapsed": false
   }
  },
  {
   "cell_type": "code",
   "execution_count": 73,
   "outputs": [],
   "source": [
    "loans = pd.read_parquet(f\"{home_dir}/loan_table.parquet\") # load base for the train dataset"
   ],
   "metadata": {
    "collapsed": false
   }
  },
  {
   "cell_type": "code",
   "execution_count": 74,
   "outputs": [
    {
     "data": {
      "text/plain": "   loan_id        dob_ssn  zipcode  person_age  person_income  \\\n0    10000  19530219_5179    76104          22          59000   \n1    10001  19520816_8737    70380          21           9600   \n2    10002  19860413_2537    97039          25           9600   \n3    10003  19760701_8090    63785          23          65500   \n4    10004  19830125_8297    82223          24          54400   \n\n  person_home_ownership  person_emp_length loan_intent  loan_amnt  \\\n0                  RENT              123.0    PERSONAL      35000   \n1                   OWN                5.0   EDUCATION       1000   \n2              MORTGAGE                1.0     MEDICAL       5500   \n3                  RENT                4.0     MEDICAL      35000   \n4                  RENT                8.0     MEDICAL      35000   \n\n   loan_int_rate  loan_status                  event_timestamp  \\\n0          16.02            1 2021-08-25 20:34:41.361000+00:00   \n1          11.14            0 2021-08-25 20:16:20.128000+00:00   \n2          12.87            1 2021-08-25 19:57:58.896000+00:00   \n3          15.23            1 2021-08-25 19:39:37.663000+00:00   \n4          14.27            1 2021-08-25 19:21:16.430000+00:00   \n\n                 created_timestamp  \n0 2021-08-25 20:34:41.361000+00:00  \n1 2021-08-25 20:16:20.128000+00:00  \n2 2021-08-25 19:57:58.896000+00:00  \n3 2021-08-25 19:39:37.663000+00:00  \n4 2021-08-25 19:21:16.430000+00:00  ",
      "text/html": "<div>\n<style scoped>\n    .dataframe tbody tr th:only-of-type {\n        vertical-align: middle;\n    }\n\n    .dataframe tbody tr th {\n        vertical-align: top;\n    }\n\n    .dataframe thead th {\n        text-align: right;\n    }\n</style>\n<table border=\"1\" class=\"dataframe\">\n  <thead>\n    <tr style=\"text-align: right;\">\n      <th></th>\n      <th>loan_id</th>\n      <th>dob_ssn</th>\n      <th>zipcode</th>\n      <th>person_age</th>\n      <th>person_income</th>\n      <th>person_home_ownership</th>\n      <th>person_emp_length</th>\n      <th>loan_intent</th>\n      <th>loan_amnt</th>\n      <th>loan_int_rate</th>\n      <th>loan_status</th>\n      <th>event_timestamp</th>\n      <th>created_timestamp</th>\n    </tr>\n  </thead>\n  <tbody>\n    <tr>\n      <th>0</th>\n      <td>10000</td>\n      <td>19530219_5179</td>\n      <td>76104</td>\n      <td>22</td>\n      <td>59000</td>\n      <td>RENT</td>\n      <td>123.0</td>\n      <td>PERSONAL</td>\n      <td>35000</td>\n      <td>16.02</td>\n      <td>1</td>\n      <td>2021-08-25 20:34:41.361000+00:00</td>\n      <td>2021-08-25 20:34:41.361000+00:00</td>\n    </tr>\n    <tr>\n      <th>1</th>\n      <td>10001</td>\n      <td>19520816_8737</td>\n      <td>70380</td>\n      <td>21</td>\n      <td>9600</td>\n      <td>OWN</td>\n      <td>5.0</td>\n      <td>EDUCATION</td>\n      <td>1000</td>\n      <td>11.14</td>\n      <td>0</td>\n      <td>2021-08-25 20:16:20.128000+00:00</td>\n      <td>2021-08-25 20:16:20.128000+00:00</td>\n    </tr>\n    <tr>\n      <th>2</th>\n      <td>10002</td>\n      <td>19860413_2537</td>\n      <td>97039</td>\n      <td>25</td>\n      <td>9600</td>\n      <td>MORTGAGE</td>\n      <td>1.0</td>\n      <td>MEDICAL</td>\n      <td>5500</td>\n      <td>12.87</td>\n      <td>1</td>\n      <td>2021-08-25 19:57:58.896000+00:00</td>\n      <td>2021-08-25 19:57:58.896000+00:00</td>\n    </tr>\n    <tr>\n      <th>3</th>\n      <td>10003</td>\n      <td>19760701_8090</td>\n      <td>63785</td>\n      <td>23</td>\n      <td>65500</td>\n      <td>RENT</td>\n      <td>4.0</td>\n      <td>MEDICAL</td>\n      <td>35000</td>\n      <td>15.23</td>\n      <td>1</td>\n      <td>2021-08-25 19:39:37.663000+00:00</td>\n      <td>2021-08-25 19:39:37.663000+00:00</td>\n    </tr>\n    <tr>\n      <th>4</th>\n      <td>10004</td>\n      <td>19830125_8297</td>\n      <td>82223</td>\n      <td>24</td>\n      <td>54400</td>\n      <td>RENT</td>\n      <td>8.0</td>\n      <td>MEDICAL</td>\n      <td>35000</td>\n      <td>14.27</td>\n      <td>1</td>\n      <td>2021-08-25 19:21:16.430000+00:00</td>\n      <td>2021-08-25 19:21:16.430000+00:00</td>\n    </tr>\n  </tbody>\n</table>\n</div>"
     },
     "execution_count": 74,
     "metadata": {},
     "output_type": "execute_result"
    }
   ],
   "source": [
    "loans.head()"
   ],
   "metadata": {
    "collapsed": false
   }
  },
  {
   "cell_type": "code",
   "execution_count": 75,
   "outputs": [],
   "source": [
    "training_df = fs.get_historical_features(\n",
    "    entity_df=loans, features=[\n",
    "        \"zipcode_features:city\",\n",
    "        \"zipcode_features:state\",\n",
    "        \"zipcode_features:location_type\",\n",
    "        \"zipcode_features:tax_returns_filed\",\n",
    "        \"zipcode_features:population\",\n",
    "        \"zipcode_features:total_wages\",\n",
    "        \"credit_history:credit_card_due\",\n",
    "        \"credit_history:mortgage_due\",\n",
    "        \"credit_history:student_loan_due\",\n",
    "        \"credit_history:vehicle_loan_due\",\n",
    "        \"credit_history:hard_pulls\",\n",
    "        \"credit_history:missed_payments_2y\",\n",
    "        \"credit_history:missed_payments_1y\",\n",
    "        \"credit_history:missed_payments_6m\",\n",
    "        \"credit_history:bankruptcies\",\n",
    "    ]\n",
    ").to_df()"
   ],
   "metadata": {
    "collapsed": false
   }
  },
  {
   "cell_type": "code",
   "execution_count": 76,
   "outputs": [
    {
     "data": {
      "text/plain": "   loan_id        dob_ssn  zipcode  person_age  person_income  \\\n0    10001  19520816_8737    70380          21           9600   \n1    10013  19561221_5856     1867          26         108160   \n2    10025  19641023_7448    26155          24          67746   \n3    10035  19810418_9269     6450          21          12000   \n4    10043  19500128_8421    14878          26         300000   \n\n  person_home_ownership  person_emp_length      loan_intent  loan_amnt  \\\n0                   OWN                5.0        EDUCATION       1000   \n1                  RENT                4.0        EDUCATION      35000   \n2                  RENT                8.0  HOMEIMPROVEMENT      33000   \n3                   OWN                5.0        EDUCATION       2500   \n4                   OWN                9.0  HOMEIMPROVEMENT      10000   \n\n   loan_int_rate  ...  total_wages credit_card_due mortgage_due  \\\n0          11.14  ...    295677025            3308      1181555   \n1          18.39  ...    808066167             286       680710   \n2          12.68  ...    113574080            2738       461567   \n3           7.51  ...    718014481            4270       197495   \n4          10.38  ...      8882208            5564      1263354   \n\n  student_loan_due vehicle_loan_due hard_pulls  missed_payments_2y  \\\n0            39015            19073          6                   5   \n1             3495             4760          5                   6   \n2            27164            14933         10                   4   \n3             8370            25828          8                   7   \n4             5304            25239          0                   0   \n\n   missed_payments_1y  missed_payments_6m  bankruptcies  \n0                   1                   1             0  \n1                   1                   0             0  \n2                   1                   0             0  \n3                   0                   0             0  \n4                   0                   0             0  \n\n[5 rows x 28 columns]",
      "text/html": "<div>\n<style scoped>\n    .dataframe tbody tr th:only-of-type {\n        vertical-align: middle;\n    }\n\n    .dataframe tbody tr th {\n        vertical-align: top;\n    }\n\n    .dataframe thead th {\n        text-align: right;\n    }\n</style>\n<table border=\"1\" class=\"dataframe\">\n  <thead>\n    <tr style=\"text-align: right;\">\n      <th></th>\n      <th>loan_id</th>\n      <th>dob_ssn</th>\n      <th>zipcode</th>\n      <th>person_age</th>\n      <th>person_income</th>\n      <th>person_home_ownership</th>\n      <th>person_emp_length</th>\n      <th>loan_intent</th>\n      <th>loan_amnt</th>\n      <th>loan_int_rate</th>\n      <th>...</th>\n      <th>total_wages</th>\n      <th>credit_card_due</th>\n      <th>mortgage_due</th>\n      <th>student_loan_due</th>\n      <th>vehicle_loan_due</th>\n      <th>hard_pulls</th>\n      <th>missed_payments_2y</th>\n      <th>missed_payments_1y</th>\n      <th>missed_payments_6m</th>\n      <th>bankruptcies</th>\n    </tr>\n  </thead>\n  <tbody>\n    <tr>\n      <th>0</th>\n      <td>10001</td>\n      <td>19520816_8737</td>\n      <td>70380</td>\n      <td>21</td>\n      <td>9600</td>\n      <td>OWN</td>\n      <td>5.0</td>\n      <td>EDUCATION</td>\n      <td>1000</td>\n      <td>11.14</td>\n      <td>...</td>\n      <td>295677025</td>\n      <td>3308</td>\n      <td>1181555</td>\n      <td>39015</td>\n      <td>19073</td>\n      <td>6</td>\n      <td>5</td>\n      <td>1</td>\n      <td>1</td>\n      <td>0</td>\n    </tr>\n    <tr>\n      <th>1</th>\n      <td>10013</td>\n      <td>19561221_5856</td>\n      <td>1867</td>\n      <td>26</td>\n      <td>108160</td>\n      <td>RENT</td>\n      <td>4.0</td>\n      <td>EDUCATION</td>\n      <td>35000</td>\n      <td>18.39</td>\n      <td>...</td>\n      <td>808066167</td>\n      <td>286</td>\n      <td>680710</td>\n      <td>3495</td>\n      <td>4760</td>\n      <td>5</td>\n      <td>6</td>\n      <td>1</td>\n      <td>0</td>\n      <td>0</td>\n    </tr>\n    <tr>\n      <th>2</th>\n      <td>10025</td>\n      <td>19641023_7448</td>\n      <td>26155</td>\n      <td>24</td>\n      <td>67746</td>\n      <td>RENT</td>\n      <td>8.0</td>\n      <td>HOMEIMPROVEMENT</td>\n      <td>33000</td>\n      <td>12.68</td>\n      <td>...</td>\n      <td>113574080</td>\n      <td>2738</td>\n      <td>461567</td>\n      <td>27164</td>\n      <td>14933</td>\n      <td>10</td>\n      <td>4</td>\n      <td>1</td>\n      <td>0</td>\n      <td>0</td>\n    </tr>\n    <tr>\n      <th>3</th>\n      <td>10035</td>\n      <td>19810418_9269</td>\n      <td>6450</td>\n      <td>21</td>\n      <td>12000</td>\n      <td>OWN</td>\n      <td>5.0</td>\n      <td>EDUCATION</td>\n      <td>2500</td>\n      <td>7.51</td>\n      <td>...</td>\n      <td>718014481</td>\n      <td>4270</td>\n      <td>197495</td>\n      <td>8370</td>\n      <td>25828</td>\n      <td>8</td>\n      <td>7</td>\n      <td>0</td>\n      <td>0</td>\n      <td>0</td>\n    </tr>\n    <tr>\n      <th>4</th>\n      <td>10043</td>\n      <td>19500128_8421</td>\n      <td>14878</td>\n      <td>26</td>\n      <td>300000</td>\n      <td>OWN</td>\n      <td>9.0</td>\n      <td>HOMEIMPROVEMENT</td>\n      <td>10000</td>\n      <td>10.38</td>\n      <td>...</td>\n      <td>8882208</td>\n      <td>5564</td>\n      <td>1263354</td>\n      <td>5304</td>\n      <td>25239</td>\n      <td>0</td>\n      <td>0</td>\n      <td>0</td>\n      <td>0</td>\n      <td>0</td>\n    </tr>\n  </tbody>\n</table>\n<p>5 rows × 28 columns</p>\n</div>"
     },
     "execution_count": 76,
     "metadata": {},
     "output_type": "execute_result"
    }
   ],
   "source": [
    "training_df.head()"
   ],
   "metadata": {
    "collapsed": false
   }
  },
  {
   "cell_type": "code",
   "execution_count": 81,
   "outputs": [
    {
     "data": {
      "text/plain": "['/Users/sotnich/encoder.bin']"
     },
     "execution_count": 81,
     "metadata": {},
     "output_type": "execute_result"
    }
   ],
   "source": [
    "# Transform some categorical features from the original dataset to numerical ones\n",
    "# It is necessary for the correct model training (some models do not understand categorical features)\n",
    "# TODO: It is better to make such transformations through Feature Store!!!\n",
    "# TODO: city, state, location_type are already in FS, just need to encode them before writing to FS\n",
    "# TODO: person_home_ownership, loan_intent are NOT in FS, need to add transformation to FS?\n",
    "\n",
    "categorical_features = [\n",
    "    \"person_home_ownership\",\n",
    "    \"loan_intent\",\n",
    "    \"city\",\n",
    "    \"state\",\n",
    "    \"location_type\",\n",
    "]\n",
    "encoder = OrdinalEncoder(handle_unknown='use_encoded_value', unknown_value=-1)\n",
    "\n",
    "# fit encoder\n",
    "encoder.fit(training_df[categorical_features])\n",
    "\n",
    "# apply encoding\n",
    "training_df[categorical_features] = encoder.transform(training_df[categorical_features])\n",
    "\n",
    "# save encoder\n",
    "joblib.dump(encoder, encoder_filename)"
   ],
   "metadata": {
    "collapsed": false
   }
  },
  {
   "cell_type": "code",
   "execution_count": 78,
   "outputs": [
    {
     "data": {
      "text/plain": "   loan_id        dob_ssn  zipcode  person_age  person_income  \\\n0    10001  19520816_8737    70380          21           9600   \n1    10013  19561221_5856     1867          26         108160   \n2    10025  19641023_7448    26155          24          67746   \n3    10035  19810418_9269     6450          21          12000   \n4    10043  19500128_8421    14878          26         300000   \n\n   person_home_ownership  person_emp_length  loan_intent  loan_amnt  \\\n0                    2.0                5.0          1.0       1000   \n1                    3.0                4.0          1.0      35000   \n2                    3.0                8.0          2.0      33000   \n3                    2.0                5.0          1.0       2500   \n4                    2.0                9.0          2.0      10000   \n\n   loan_int_rate  ...  total_wages credit_card_due mortgage_due  \\\n0          11.14  ...    295677025            3308      1181555   \n1          18.39  ...    808066167             286       680710   \n2          12.68  ...    113574080            2738       461567   \n3           7.51  ...    718014481            4270       197495   \n4          10.38  ...      8882208            5564      1263354   \n\n   student_loan_due  vehicle_loan_due  hard_pulls  missed_payments_2y  \\\n0             39015             19073           6                   5   \n1              3495              4760           5                   6   \n2             27164             14933          10                   4   \n3              8370             25828           8                   7   \n4              5304             25239           0                   0   \n\n   missed_payments_1y  missed_payments_6m  bankruptcies  \n0                   1                   1             0  \n1                   1                   0             0  \n2                   1                   0             0  \n3                   0                   0             0  \n4                   0                   0             0  \n\n[5 rows x 28 columns]",
      "text/html": "<div>\n<style scoped>\n    .dataframe tbody tr th:only-of-type {\n        vertical-align: middle;\n    }\n\n    .dataframe tbody tr th {\n        vertical-align: top;\n    }\n\n    .dataframe thead th {\n        text-align: right;\n    }\n</style>\n<table border=\"1\" class=\"dataframe\">\n  <thead>\n    <tr style=\"text-align: right;\">\n      <th></th>\n      <th>loan_id</th>\n      <th>dob_ssn</th>\n      <th>zipcode</th>\n      <th>person_age</th>\n      <th>person_income</th>\n      <th>person_home_ownership</th>\n      <th>person_emp_length</th>\n      <th>loan_intent</th>\n      <th>loan_amnt</th>\n      <th>loan_int_rate</th>\n      <th>...</th>\n      <th>total_wages</th>\n      <th>credit_card_due</th>\n      <th>mortgage_due</th>\n      <th>student_loan_due</th>\n      <th>vehicle_loan_due</th>\n      <th>hard_pulls</th>\n      <th>missed_payments_2y</th>\n      <th>missed_payments_1y</th>\n      <th>missed_payments_6m</th>\n      <th>bankruptcies</th>\n    </tr>\n  </thead>\n  <tbody>\n    <tr>\n      <th>0</th>\n      <td>10001</td>\n      <td>19520816_8737</td>\n      <td>70380</td>\n      <td>21</td>\n      <td>9600</td>\n      <td>2.0</td>\n      <td>5.0</td>\n      <td>1.0</td>\n      <td>1000</td>\n      <td>11.14</td>\n      <td>...</td>\n      <td>295677025</td>\n      <td>3308</td>\n      <td>1181555</td>\n      <td>39015</td>\n      <td>19073</td>\n      <td>6</td>\n      <td>5</td>\n      <td>1</td>\n      <td>1</td>\n      <td>0</td>\n    </tr>\n    <tr>\n      <th>1</th>\n      <td>10013</td>\n      <td>19561221_5856</td>\n      <td>1867</td>\n      <td>26</td>\n      <td>108160</td>\n      <td>3.0</td>\n      <td>4.0</td>\n      <td>1.0</td>\n      <td>35000</td>\n      <td>18.39</td>\n      <td>...</td>\n      <td>808066167</td>\n      <td>286</td>\n      <td>680710</td>\n      <td>3495</td>\n      <td>4760</td>\n      <td>5</td>\n      <td>6</td>\n      <td>1</td>\n      <td>0</td>\n      <td>0</td>\n    </tr>\n    <tr>\n      <th>2</th>\n      <td>10025</td>\n      <td>19641023_7448</td>\n      <td>26155</td>\n      <td>24</td>\n      <td>67746</td>\n      <td>3.0</td>\n      <td>8.0</td>\n      <td>2.0</td>\n      <td>33000</td>\n      <td>12.68</td>\n      <td>...</td>\n      <td>113574080</td>\n      <td>2738</td>\n      <td>461567</td>\n      <td>27164</td>\n      <td>14933</td>\n      <td>10</td>\n      <td>4</td>\n      <td>1</td>\n      <td>0</td>\n      <td>0</td>\n    </tr>\n    <tr>\n      <th>3</th>\n      <td>10035</td>\n      <td>19810418_9269</td>\n      <td>6450</td>\n      <td>21</td>\n      <td>12000</td>\n      <td>2.0</td>\n      <td>5.0</td>\n      <td>1.0</td>\n      <td>2500</td>\n      <td>7.51</td>\n      <td>...</td>\n      <td>718014481</td>\n      <td>4270</td>\n      <td>197495</td>\n      <td>8370</td>\n      <td>25828</td>\n      <td>8</td>\n      <td>7</td>\n      <td>0</td>\n      <td>0</td>\n      <td>0</td>\n    </tr>\n    <tr>\n      <th>4</th>\n      <td>10043</td>\n      <td>19500128_8421</td>\n      <td>14878</td>\n      <td>26</td>\n      <td>300000</td>\n      <td>2.0</td>\n      <td>9.0</td>\n      <td>2.0</td>\n      <td>10000</td>\n      <td>10.38</td>\n      <td>...</td>\n      <td>8882208</td>\n      <td>5564</td>\n      <td>1263354</td>\n      <td>5304</td>\n      <td>25239</td>\n      <td>0</td>\n      <td>0</td>\n      <td>0</td>\n      <td>0</td>\n      <td>0</td>\n    </tr>\n  </tbody>\n</table>\n<p>5 rows × 28 columns</p>\n</div>"
     },
     "execution_count": 78,
     "metadata": {},
     "output_type": "execute_result"
    }
   ],
   "source": [
    "training_df.head()"
   ],
   "metadata": {
    "collapsed": false
   }
  },
  {
   "cell_type": "code",
   "execution_count": 79,
   "outputs": [
    {
     "data": {
      "text/plain": "['/Users/sotnich/model.bin']"
     },
     "execution_count": 79,
     "metadata": {},
     "output_type": "execute_result"
    }
   ],
   "source": [
    "# Train and save model\n",
    "\n",
    "target = \"loan_status\"\n",
    "\n",
    "train_x = training_df[\n",
    "    training_df.columns.drop(target)\n",
    "    .drop(\"event_timestamp\")\n",
    "    .drop(\"created_timestamp\")\n",
    "    .drop(\"loan_id\")\n",
    "    .drop(\"zipcode\")\n",
    "    .drop(\"dob_ssn\")\n",
    "]\n",
    "train_x = train_x.reindex(sorted(train_x.columns), axis=1)\n",
    "train_y = training_df.loc[:, target]\n",
    "\n",
    "classifier.fit(train_x[sorted(train_x)], train_y)\n",
    "joblib.dump(classifier, model_filename)"
   ],
   "metadata": {
    "collapsed": false
   }
  }
 ],
 "metadata": {
  "kernelspec": {
   "display_name": "Python 3",
   "language": "python",
   "name": "python3"
  },
  "language_info": {
   "codemirror_mode": {
    "name": "ipython",
    "version": 2
   },
   "file_extension": ".py",
   "mimetype": "text/x-python",
   "name": "python",
   "nbconvert_exporter": "python",
   "pygments_lexer": "ipython2",
   "version": "2.7.6"
  }
 },
 "nbformat": 4,
 "nbformat_minor": 0
}
