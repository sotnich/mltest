{
 "cells": [
  {
   "cell_type": "code",
   "execution_count": 1,
   "metadata": {
    "collapsed": true
   },
   "outputs": [],
   "source": [
    "import joblib\n",
    "import pandas as pd\n",
    "from datetime import datetime\n",
    "from feast import FeatureStore\n",
    "from pathlib import Path\n",
    "from sklearn import tree\n",
    "from sklearn.preprocessing import OrdinalEncoder"
   ]
  },
  {
   "cell_type": "code",
   "execution_count": 18,
   "outputs": [],
   "source": [
    "home_dir = str(Path.home())\n",
    "\n",
    "repo_path = home_dir\n",
    "model_filename = f\"{home_dir}/model.bin\"\n",
    "encoder_filename = f\"{home_dir}/encoder.bin\""
   ],
   "metadata": {
    "collapsed": false
   }
  },
  {
   "cell_type": "code",
   "execution_count": 19,
   "outputs": [],
   "source": [
    "# Set up model building\n",
    "classifier = tree.DecisionTreeClassifier()"
   ],
   "metadata": {
    "collapsed": false
   }
  },
  {
   "cell_type": "code",
   "execution_count": 20,
   "outputs": [],
   "source": [
    "# Set up feature store\n",
    "fs = FeatureStore(repo_path=repo_path)"
   ],
   "metadata": {
    "collapsed": false
   }
  },
  {
   "cell_type": "code",
   "execution_count": 28,
   "outputs": [],
   "source": [
    "loans = pd.read_parquet(f\"{home_dir}/loan_table.parquet\") # load base for the train dataset"
   ],
   "metadata": {
    "collapsed": false
   }
  },
  {
   "cell_type": "code",
   "execution_count": 29,
   "outputs": [
    {
     "data": {
      "text/plain": "   loan_id        dob_ssn  zipcode  person_age  person_income  \\\n0    10000  19530219_5179    76104          22          59000   \n1    10001  19520816_8737    70380          21           9600   \n2    10002  19860413_2537    97039          25           9600   \n3    10003  19760701_8090    63785          23          65500   \n4    10004  19830125_8297    82223          24          54400   \n\n  person_home_ownership  person_emp_length loan_intent  loan_amnt  \\\n0                  RENT              123.0    PERSONAL      35000   \n1                   OWN                5.0   EDUCATION       1000   \n2              MORTGAGE                1.0     MEDICAL       5500   \n3                  RENT                4.0     MEDICAL      35000   \n4                  RENT                8.0     MEDICAL      35000   \n\n   loan_int_rate  loan_status                  event_timestamp  \\\n0          16.02            1 2021-08-25 20:34:41.361000+00:00   \n1          11.14            0 2021-08-25 20:16:20.128000+00:00   \n2          12.87            1 2021-08-25 19:57:58.896000+00:00   \n3          15.23            1 2021-08-25 19:39:37.663000+00:00   \n4          14.27            1 2021-08-25 19:21:16.430000+00:00   \n\n                 created_timestamp  \n0 2021-08-25 20:34:41.361000+00:00  \n1 2021-08-25 20:16:20.128000+00:00  \n2 2021-08-25 19:57:58.896000+00:00  \n3 2021-08-25 19:39:37.663000+00:00  \n4 2021-08-25 19:21:16.430000+00:00  ",
      "text/html": "<div>\n<style scoped>\n    .dataframe tbody tr th:only-of-type {\n        vertical-align: middle;\n    }\n\n    .dataframe tbody tr th {\n        vertical-align: top;\n    }\n\n    .dataframe thead th {\n        text-align: right;\n    }\n</style>\n<table border=\"1\" class=\"dataframe\">\n  <thead>\n    <tr style=\"text-align: right;\">\n      <th></th>\n      <th>loan_id</th>\n      <th>dob_ssn</th>\n      <th>zipcode</th>\n      <th>person_age</th>\n      <th>person_income</th>\n      <th>person_home_ownership</th>\n      <th>person_emp_length</th>\n      <th>loan_intent</th>\n      <th>loan_amnt</th>\n      <th>loan_int_rate</th>\n      <th>loan_status</th>\n      <th>event_timestamp</th>\n      <th>created_timestamp</th>\n    </tr>\n  </thead>\n  <tbody>\n    <tr>\n      <th>0</th>\n      <td>10000</td>\n      <td>19530219_5179</td>\n      <td>76104</td>\n      <td>22</td>\n      <td>59000</td>\n      <td>RENT</td>\n      <td>123.0</td>\n      <td>PERSONAL</td>\n      <td>35000</td>\n      <td>16.02</td>\n      <td>1</td>\n      <td>2021-08-25 20:34:41.361000+00:00</td>\n      <td>2021-08-25 20:34:41.361000+00:00</td>\n    </tr>\n    <tr>\n      <th>1</th>\n      <td>10001</td>\n      <td>19520816_8737</td>\n      <td>70380</td>\n      <td>21</td>\n      <td>9600</td>\n      <td>OWN</td>\n      <td>5.0</td>\n      <td>EDUCATION</td>\n      <td>1000</td>\n      <td>11.14</td>\n      <td>0</td>\n      <td>2021-08-25 20:16:20.128000+00:00</td>\n      <td>2021-08-25 20:16:20.128000+00:00</td>\n    </tr>\n    <tr>\n      <th>2</th>\n      <td>10002</td>\n      <td>19860413_2537</td>\n      <td>97039</td>\n      <td>25</td>\n      <td>9600</td>\n      <td>MORTGAGE</td>\n      <td>1.0</td>\n      <td>MEDICAL</td>\n      <td>5500</td>\n      <td>12.87</td>\n      <td>1</td>\n      <td>2021-08-25 19:57:58.896000+00:00</td>\n      <td>2021-08-25 19:57:58.896000+00:00</td>\n    </tr>\n    <tr>\n      <th>3</th>\n      <td>10003</td>\n      <td>19760701_8090</td>\n      <td>63785</td>\n      <td>23</td>\n      <td>65500</td>\n      <td>RENT</td>\n      <td>4.0</td>\n      <td>MEDICAL</td>\n      <td>35000</td>\n      <td>15.23</td>\n      <td>1</td>\n      <td>2021-08-25 19:39:37.663000+00:00</td>\n      <td>2021-08-25 19:39:37.663000+00:00</td>\n    </tr>\n    <tr>\n      <th>4</th>\n      <td>10004</td>\n      <td>19830125_8297</td>\n      <td>82223</td>\n      <td>24</td>\n      <td>54400</td>\n      <td>RENT</td>\n      <td>8.0</td>\n      <td>MEDICAL</td>\n      <td>35000</td>\n      <td>14.27</td>\n      <td>1</td>\n      <td>2021-08-25 19:21:16.430000+00:00</td>\n      <td>2021-08-25 19:21:16.430000+00:00</td>\n    </tr>\n  </tbody>\n</table>\n</div>"
     },
     "execution_count": 29,
     "metadata": {},
     "output_type": "execute_result"
    }
   ],
   "source": [
    "loans.head()"
   ],
   "metadata": {
    "collapsed": false
   }
  },
  {
   "cell_type": "code",
   "execution_count": 35,
   "outputs": [],
   "source": [
    "training_df = fs.get_historical_features(\n",
    "    entity_df=loans, features=[\n",
    "        \"zipcode_features:city\",\n",
    "        \"zipcode_features:state\",\n",
    "        \"zipcode_features:location_type\",\n",
    "        \"zipcode_features:tax_returns_filed\",\n",
    "        \"zipcode_features:population\",\n",
    "        \"zipcode_features:total_wages\",\n",
    "        \"credit_history:credit_card_due\",\n",
    "        \"credit_history:mortgage_due\",\n",
    "        \"credit_history:student_loan_due\",\n",
    "        \"credit_history:vehicle_loan_due\",\n",
    "        \"credit_history:hard_pulls\",\n",
    "        \"credit_history:missed_payments_2y\",\n",
    "        \"credit_history:missed_payments_1y\",\n",
    "        \"credit_history:missed_payments_6m\",\n",
    "        \"credit_history:bankruptcies\",\n",
    "        \"person_home_ownership:person_home_ownership_enc\",\n",
    "        \"loan_intent:loan_intent_enc\",\n",
    "    ]\n",
    ").to_df().drop(['person_home_ownership', 'loan_intent'], axis=1)"
   ],
   "metadata": {
    "collapsed": false
   }
  },
  {
   "cell_type": "code",
   "execution_count": 36,
   "outputs": [
    {
     "data": {
      "text/plain": "   loan_id        dob_ssn  zipcode  person_age  person_income  \\\n0    10005  19620424_2674    49861          21           9900   \n1    10011  19880808_5747    55307          21          10000   \n2    10019  19710322_7014    48827          24          10800   \n3    10023  19980613_9023    17508          24          10980   \n4    10029  19771012_6788    16932          21          11389   \n\n   person_emp_length  loan_amnt  loan_int_rate  loan_status  \\\n0                2.0       2500           7.14            1   \n1                2.0       4500           8.63            1   \n2                8.0       1750          10.99            1   \n3                0.0       1500           7.29            0   \n4                5.0       4000          12.84            1   \n\n          event_timestamp  ... mortgage_due student_loan_due vehicle_loan_due  \\\n0 2021-08-25 19:02:55.198  ...       709259            28836            17248   \n1 2021-08-25 17:12:47.802  ...      1389857            35196             8926   \n2 2021-08-25 14:45:57.940  ...      1035854            27263            29469   \n3 2021-08-25 13:32:33.010  ...       337244            36531             4103   \n4 2021-08-25 11:42:25.614  ...      1940769            24301            18906   \n\n  hard_pulls  missed_payments_2y  missed_payments_1y  missed_payments_6m  \\\n0         10                   4                   2                   0   \n1          9                   1                   1                   1   \n2          9                   1                   1                   1   \n3          6                   4                   0                   0   \n4          7                   3                   2                   0   \n\n   bankruptcies  loan_intent_enc  person_home_ownership_enc  \n0             1                3                          1  \n1             1                4                          1  \n2             0                1                          3  \n3             0                0                          1  \n4             1                1                          3  \n\n[5 rows x 28 columns]",
      "text/html": "<div>\n<style scoped>\n    .dataframe tbody tr th:only-of-type {\n        vertical-align: middle;\n    }\n\n    .dataframe tbody tr th {\n        vertical-align: top;\n    }\n\n    .dataframe thead th {\n        text-align: right;\n    }\n</style>\n<table border=\"1\" class=\"dataframe\">\n  <thead>\n    <tr style=\"text-align: right;\">\n      <th></th>\n      <th>loan_id</th>\n      <th>dob_ssn</th>\n      <th>zipcode</th>\n      <th>person_age</th>\n      <th>person_income</th>\n      <th>person_emp_length</th>\n      <th>loan_amnt</th>\n      <th>loan_int_rate</th>\n      <th>loan_status</th>\n      <th>event_timestamp</th>\n      <th>...</th>\n      <th>mortgage_due</th>\n      <th>student_loan_due</th>\n      <th>vehicle_loan_due</th>\n      <th>hard_pulls</th>\n      <th>missed_payments_2y</th>\n      <th>missed_payments_1y</th>\n      <th>missed_payments_6m</th>\n      <th>bankruptcies</th>\n      <th>loan_intent_enc</th>\n      <th>person_home_ownership_enc</th>\n    </tr>\n  </thead>\n  <tbody>\n    <tr>\n      <th>0</th>\n      <td>10005</td>\n      <td>19620424_2674</td>\n      <td>49861</td>\n      <td>21</td>\n      <td>9900</td>\n      <td>2.0</td>\n      <td>2500</td>\n      <td>7.14</td>\n      <td>1</td>\n      <td>2021-08-25 19:02:55.198</td>\n      <td>...</td>\n      <td>709259</td>\n      <td>28836</td>\n      <td>17248</td>\n      <td>10</td>\n      <td>4</td>\n      <td>2</td>\n      <td>0</td>\n      <td>1</td>\n      <td>3</td>\n      <td>1</td>\n    </tr>\n    <tr>\n      <th>1</th>\n      <td>10011</td>\n      <td>19880808_5747</td>\n      <td>55307</td>\n      <td>21</td>\n      <td>10000</td>\n      <td>2.0</td>\n      <td>4500</td>\n      <td>8.63</td>\n      <td>1</td>\n      <td>2021-08-25 17:12:47.802</td>\n      <td>...</td>\n      <td>1389857</td>\n      <td>35196</td>\n      <td>8926</td>\n      <td>9</td>\n      <td>1</td>\n      <td>1</td>\n      <td>1</td>\n      <td>1</td>\n      <td>4</td>\n      <td>1</td>\n    </tr>\n    <tr>\n      <th>2</th>\n      <td>10019</td>\n      <td>19710322_7014</td>\n      <td>48827</td>\n      <td>24</td>\n      <td>10800</td>\n      <td>8.0</td>\n      <td>1750</td>\n      <td>10.99</td>\n      <td>1</td>\n      <td>2021-08-25 14:45:57.940</td>\n      <td>...</td>\n      <td>1035854</td>\n      <td>27263</td>\n      <td>29469</td>\n      <td>9</td>\n      <td>1</td>\n      <td>1</td>\n      <td>1</td>\n      <td>0</td>\n      <td>1</td>\n      <td>3</td>\n    </tr>\n    <tr>\n      <th>3</th>\n      <td>10023</td>\n      <td>19980613_9023</td>\n      <td>17508</td>\n      <td>24</td>\n      <td>10980</td>\n      <td>0.0</td>\n      <td>1500</td>\n      <td>7.29</td>\n      <td>0</td>\n      <td>2021-08-25 13:32:33.010</td>\n      <td>...</td>\n      <td>337244</td>\n      <td>36531</td>\n      <td>4103</td>\n      <td>6</td>\n      <td>4</td>\n      <td>0</td>\n      <td>0</td>\n      <td>0</td>\n      <td>0</td>\n      <td>1</td>\n    </tr>\n    <tr>\n      <th>4</th>\n      <td>10029</td>\n      <td>19771012_6788</td>\n      <td>16932</td>\n      <td>21</td>\n      <td>11389</td>\n      <td>5.0</td>\n      <td>4000</td>\n      <td>12.84</td>\n      <td>1</td>\n      <td>2021-08-25 11:42:25.614</td>\n      <td>...</td>\n      <td>1940769</td>\n      <td>24301</td>\n      <td>18906</td>\n      <td>7</td>\n      <td>3</td>\n      <td>2</td>\n      <td>0</td>\n      <td>1</td>\n      <td>1</td>\n      <td>3</td>\n    </tr>\n  </tbody>\n</table>\n<p>5 rows × 28 columns</p>\n</div>"
     },
     "execution_count": 36,
     "metadata": {},
     "output_type": "execute_result"
    }
   ],
   "source": [
    "training_df.head()"
   ],
   "metadata": {
    "collapsed": false
   }
  },
  {
   "cell_type": "code",
   "execution_count": 37,
   "outputs": [
    {
     "data": {
      "text/plain": "['/Users/sotnich/encoder.bin']"
     },
     "execution_count": 37,
     "metadata": {},
     "output_type": "execute_result"
    }
   ],
   "source": [
    "# Transform some categorical features from the original dataset to numerical ones\n",
    "# It is necessary for the correct model training (some models do not understand categorical features)\n",
    "# TODO: It is better to make such transformations through Feature Store\n",
    "# TODO: city, state, location_type are already in FS, just need to encode them before writing to FS\n",
    "\n",
    "categorical_features = [\n",
    "    \"city\",\n",
    "    \"state\",\n",
    "    \"location_type\",\n",
    "]\n",
    "encoder = OrdinalEncoder(handle_unknown='use_encoded_value', unknown_value=-1)\n",
    "\n",
    "# fit encoder\n",
    "encoder.fit(training_df[categorical_features])\n",
    "\n",
    "# apply encoding\n",
    "training_df[categorical_features] = encoder.transform(training_df[categorical_features])\n",
    "\n",
    "# save encoder\n",
    "joblib.dump(encoder, encoder_filename)"
   ],
   "metadata": {
    "collapsed": false
   }
  },
  {
   "cell_type": "code",
   "execution_count": 38,
   "outputs": [
    {
     "data": {
      "text/plain": "   loan_id        dob_ssn  zipcode  person_age  person_income  \\\n0    10005  19620424_2674    49861          21           9900   \n1    10011  19880808_5747    55307          21          10000   \n2    10019  19710322_7014    48827          24          10800   \n3    10023  19980613_9023    17508          24          10980   \n4    10029  19771012_6788    16932          21          11389   \n\n   person_emp_length  loan_amnt  loan_int_rate  loan_status  \\\n0                2.0       2500           7.14            1   \n1                2.0       4500           8.63            1   \n2                8.0       1750          10.99            1   \n3                0.0       1500           7.29            0   \n4                5.0       4000          12.84            1   \n\n          event_timestamp  ... mortgage_due  student_loan_due  \\\n0 2021-08-25 19:02:55.198  ...       709259             28836   \n1 2021-08-25 17:12:47.802  ...      1389857             35196   \n2 2021-08-25 14:45:57.940  ...      1035854             27263   \n3 2021-08-25 13:32:33.010  ...       337244             36531   \n4 2021-08-25 11:42:25.614  ...      1940769             24301   \n\n   vehicle_loan_due  hard_pulls  missed_payments_2y  missed_payments_1y  \\\n0             17248          10                   4                   2   \n1              8926           9                   1                   1   \n2             29469           9                   1                   1   \n3              4103           6                   4                   0   \n4             18906           7                   3                   2   \n\n   missed_payments_6m  bankruptcies  loan_intent_enc  \\\n0                   0             1                3   \n1                   1             1                4   \n2                   1             0                1   \n3                   0             0                0   \n4                   0             1                1   \n\n   person_home_ownership_enc  \n0                          1  \n1                          1  \n2                          3  \n3                          1  \n4                          3  \n\n[5 rows x 28 columns]",
      "text/html": "<div>\n<style scoped>\n    .dataframe tbody tr th:only-of-type {\n        vertical-align: middle;\n    }\n\n    .dataframe tbody tr th {\n        vertical-align: top;\n    }\n\n    .dataframe thead th {\n        text-align: right;\n    }\n</style>\n<table border=\"1\" class=\"dataframe\">\n  <thead>\n    <tr style=\"text-align: right;\">\n      <th></th>\n      <th>loan_id</th>\n      <th>dob_ssn</th>\n      <th>zipcode</th>\n      <th>person_age</th>\n      <th>person_income</th>\n      <th>person_emp_length</th>\n      <th>loan_amnt</th>\n      <th>loan_int_rate</th>\n      <th>loan_status</th>\n      <th>event_timestamp</th>\n      <th>...</th>\n      <th>mortgage_due</th>\n      <th>student_loan_due</th>\n      <th>vehicle_loan_due</th>\n      <th>hard_pulls</th>\n      <th>missed_payments_2y</th>\n      <th>missed_payments_1y</th>\n      <th>missed_payments_6m</th>\n      <th>bankruptcies</th>\n      <th>loan_intent_enc</th>\n      <th>person_home_ownership_enc</th>\n    </tr>\n  </thead>\n  <tbody>\n    <tr>\n      <th>0</th>\n      <td>10005</td>\n      <td>19620424_2674</td>\n      <td>49861</td>\n      <td>21</td>\n      <td>9900</td>\n      <td>2.0</td>\n      <td>2500</td>\n      <td>7.14</td>\n      <td>1</td>\n      <td>2021-08-25 19:02:55.198</td>\n      <td>...</td>\n      <td>709259</td>\n      <td>28836</td>\n      <td>17248</td>\n      <td>10</td>\n      <td>4</td>\n      <td>2</td>\n      <td>0</td>\n      <td>1</td>\n      <td>3</td>\n      <td>1</td>\n    </tr>\n    <tr>\n      <th>1</th>\n      <td>10011</td>\n      <td>19880808_5747</td>\n      <td>55307</td>\n      <td>21</td>\n      <td>10000</td>\n      <td>2.0</td>\n      <td>4500</td>\n      <td>8.63</td>\n      <td>1</td>\n      <td>2021-08-25 17:12:47.802</td>\n      <td>...</td>\n      <td>1389857</td>\n      <td>35196</td>\n      <td>8926</td>\n      <td>9</td>\n      <td>1</td>\n      <td>1</td>\n      <td>1</td>\n      <td>1</td>\n      <td>4</td>\n      <td>1</td>\n    </tr>\n    <tr>\n      <th>2</th>\n      <td>10019</td>\n      <td>19710322_7014</td>\n      <td>48827</td>\n      <td>24</td>\n      <td>10800</td>\n      <td>8.0</td>\n      <td>1750</td>\n      <td>10.99</td>\n      <td>1</td>\n      <td>2021-08-25 14:45:57.940</td>\n      <td>...</td>\n      <td>1035854</td>\n      <td>27263</td>\n      <td>29469</td>\n      <td>9</td>\n      <td>1</td>\n      <td>1</td>\n      <td>1</td>\n      <td>0</td>\n      <td>1</td>\n      <td>3</td>\n    </tr>\n    <tr>\n      <th>3</th>\n      <td>10023</td>\n      <td>19980613_9023</td>\n      <td>17508</td>\n      <td>24</td>\n      <td>10980</td>\n      <td>0.0</td>\n      <td>1500</td>\n      <td>7.29</td>\n      <td>0</td>\n      <td>2021-08-25 13:32:33.010</td>\n      <td>...</td>\n      <td>337244</td>\n      <td>36531</td>\n      <td>4103</td>\n      <td>6</td>\n      <td>4</td>\n      <td>0</td>\n      <td>0</td>\n      <td>0</td>\n      <td>0</td>\n      <td>1</td>\n    </tr>\n    <tr>\n      <th>4</th>\n      <td>10029</td>\n      <td>19771012_6788</td>\n      <td>16932</td>\n      <td>21</td>\n      <td>11389</td>\n      <td>5.0</td>\n      <td>4000</td>\n      <td>12.84</td>\n      <td>1</td>\n      <td>2021-08-25 11:42:25.614</td>\n      <td>...</td>\n      <td>1940769</td>\n      <td>24301</td>\n      <td>18906</td>\n      <td>7</td>\n      <td>3</td>\n      <td>2</td>\n      <td>0</td>\n      <td>1</td>\n      <td>1</td>\n      <td>3</td>\n    </tr>\n  </tbody>\n</table>\n<p>5 rows × 28 columns</p>\n</div>"
     },
     "execution_count": 38,
     "metadata": {},
     "output_type": "execute_result"
    }
   ],
   "source": [
    "training_df.head()"
   ],
   "metadata": {
    "collapsed": false
   }
  },
  {
   "cell_type": "code",
   "execution_count": 79,
   "outputs": [
    {
     "data": {
      "text/plain": "['/Users/sotnich/model.bin']"
     },
     "execution_count": 79,
     "metadata": {},
     "output_type": "execute_result"
    }
   ],
   "source": [
    "# Train and save model\n",
    "\n",
    "target = \"loan_status\"\n",
    "\n",
    "train_x = training_df[\n",
    "    training_df.columns.drop(target)\n",
    "    .drop(\"event_timestamp\")\n",
    "    .drop(\"created_timestamp\")\n",
    "    .drop(\"loan_id\")\n",
    "    .drop(\"zipcode\")\n",
    "    .drop(\"dob_ssn\")\n",
    "]\n",
    "train_x = train_x.reindex(sorted(train_x.columns), axis=1)\n",
    "train_y = training_df.loc[:, target]\n",
    "\n",
    "classifier.fit(train_x[sorted(train_x)], train_y)\n",
    "joblib.dump(classifier, model_filename)"
   ],
   "metadata": {
    "collapsed": false
   }
  },
  {
   "cell_type": "code",
   "execution_count": 6,
   "outputs": [
    {
     "name": "stdout",
     "output_type": "stream",
     "text": [
      "Materializing \u001B[1m\u001B[32m2\u001B[0m feature views from \u001B[1m\u001B[32m2013-01-01 00:00:00+00:00\u001B[0m to \u001B[1m\u001B[32m2023-01-09 16:39:35+00:00\u001B[0m into the \u001B[1m\u001B[32mdynamodb\u001B[0m online store.\n",
      "\n",
      "\u001B[1m\u001B[32mcredit_history\u001B[0m:\n"
     ]
    },
    {
     "name": "stderr",
     "output_type": "stream",
     "text": [
      "100%|████████████████████████████████████████████████████████| 28633/28633 [00:49<00:00, 581.46it/s]\n"
     ]
    },
    {
     "name": "stdout",
     "output_type": "stream",
     "text": [
      "\u001B[1m\u001B[32mzipcode_features\u001B[0m:\n"
     ]
    },
    {
     "name": "stderr",
     "output_type": "stream",
     "text": [
      "100%|████████████████████████████████████████████████████████| 28844/28844 [00:48<00:00, 589.25it/s]\n"
     ]
    }
   ],
   "source": [
    "# This is not the part of the model training!\n",
    "# But this step is necessary for online prediction\n",
    "# This is moving features from batch to online store\n",
    "\n",
    "fs.materialize(start_date=datetime(year=2013, month=1, day=1), end_date=datetime.now())"
   ],
   "metadata": {
    "collapsed": false
   }
  },
  {
   "cell_type": "code",
   "execution_count": null,
   "outputs": [],
   "source": [],
   "metadata": {
    "collapsed": false
   }
  }
 ],
 "metadata": {
  "kernelspec": {
   "display_name": "Python 3",
   "language": "python",
   "name": "python3"
  },
  "language_info": {
   "codemirror_mode": {
    "name": "ipython",
    "version": 2
   },
   "file_extension": ".py",
   "mimetype": "text/x-python",
   "name": "python",
   "nbconvert_exporter": "python",
   "pygments_lexer": "ipython2",
   "version": "2.7.6"
  }
 },
 "nbformat": 4,
 "nbformat_minor": 0
}
