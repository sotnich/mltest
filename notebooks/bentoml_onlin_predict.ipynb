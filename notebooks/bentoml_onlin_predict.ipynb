{
 "cells": [
  {
   "cell_type": "code",
   "execution_count": 226,
   "outputs": [],
   "source": [
    "import json\n",
    "import requests"
   ],
   "metadata": {
    "collapsed": false
   }
  },
  {
   "cell_type": "code",
   "execution_count": 251,
   "outputs": [],
   "source": [
    "# replace host address with an actual one\n",
    "# URL = \"http://test2-yatai.13.39.60.211.sslip.io/classify\"\n",
    "URL = \"http://127.0.0.1:3000/classify\""
   ],
   "metadata": {
    "collapsed": false
   }
  },
  {
   "cell_type": "code",
   "execution_count": 276,
   "outputs": [],
   "source": [
    "features_dict = {\n",
    "    'bankruptcies': 0,\n",
    "    'city': 8385.0,\n",
    "    'credit_card_due': 3343,\n",
    "    'hard_pulls': 1,\n",
    "    'loan_amnt': 35000,\n",
    "    'loan_int_rate': 16.02,\n",
    "    'loan_intent_enc': -1.0,\n",
    "    'location_type': -1.0,\n",
    "    'missed_payments_1y': 0,\n",
    "    'missed_payments_2y': 0,\n",
    "    'missed_payments_6m': 0,\n",
    "    'mortgage_due': 378847,\n",
    "    'person_age': 44,\n",
    "    'person_emp_length': 13.0,\n",
    "    'person_home_ownership_enc': -1.0,\n",
    "    'person_income': 59000,\n",
    "    'population': 26964,\n",
    "    'state': 37.0,\n",
    "    'student_loan_due': 44375,\n",
    "    'tax_returns_filed': 6058,\n",
    "    'total_wages': 497389354,\n",
    "    'vehicle_loan_due': 11506\n",
    "}"
   ],
   "metadata": {
    "collapsed": false
   }
  },
  {
   "cell_type": "code",
   "execution_count": 282,
   "outputs": [],
   "source": [
    "request = requests.post(\n",
    "    url = URL,\n",
    "    headers={\"content-type\": \"application/json\"},\n",
    "    data = \"[\" + json.dumps(features_dict) + \"]\"\n",
    ")\n",
    "result = request.json()['prediction']"
   ],
   "metadata": {
    "collapsed": false
   }
  },
  {
   "cell_type": "code",
   "execution_count": 283,
   "outputs": [
    {
     "name": "stdout",
     "output_type": "stream",
     "text": [
      "Loan approved!\n"
     ]
    }
   ],
   "source": [
    "if result == 0:\n",
    "    print(\"Loan approved!\")\n",
    "elif result == 1:\n",
    "    print(\"Loan rejected!\")"
   ],
   "metadata": {
    "collapsed": false
   }
  }
 ],
 "metadata": {
  "kernelspec": {
   "display_name": "Python 3",
   "language": "python",
   "name": "python3"
  },
  "language_info": {
   "codemirror_mode": {
    "name": "ipython",
    "version": 2
   },
   "file_extension": ".py",
   "mimetype": "text/x-python",
   "name": "python",
   "nbconvert_exporter": "python",
   "pygments_lexer": "ipython2",
   "version": "2.7.6"
  }
 },
 "nbformat": 4,
 "nbformat_minor": 0
}
