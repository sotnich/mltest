{
 "cells": [
  {
   "cell_type": "code",
   "execution_count": 60,
   "outputs": [],
   "source": [
    "import os\n",
    "import pandas as pd\n",
    "import neptune.new as neptune\n",
    "from pathlib import Path\n",
    "from sklearn import tree\n",
    "from sklearn.metrics import f1_score\n",
    "from getpass import getpass\n",
    "from sklearn_genetic import GASearchCV\n",
    "from sklearn_genetic.space import Integer\n",
    "from sklearn.model_selection import train_test_split, StratifiedKFold\n",
    "from sklearn_genetic.callbacks.base import BaseCallback"
   ],
   "metadata": {
    "collapsed": false
   }
  },
  {
   "cell_type": "code",
   "execution_count": 61,
   "outputs": [],
   "source": [
    "if \"NEPTUNE_API_TOKEN\" not in os.environ.keys() or os.environ[\"NEPTUNE_API_TOKEN\"] == '':\n",
    "    os.environ[\"NEPTUNE_API_TOKEN\"] = getpass(\"Enter your Neptune API token: \")"
   ],
   "metadata": {
    "collapsed": false
   }
  },
  {
   "cell_type": "code",
   "execution_count": 62,
   "outputs": [],
   "source": [
    "home_dir = str(Path.home())"
   ],
   "metadata": {
    "collapsed": false
   }
  },
  {
   "cell_type": "code",
   "execution_count": 63,
   "outputs": [],
   "source": [
    "training_df = pd.read_parquet(f\"{home_dir}/loan_table_training.parquet\") # load train dataset"
   ],
   "metadata": {
    "collapsed": false
   }
  },
  {
   "cell_type": "code",
   "execution_count": 64,
   "outputs": [],
   "source": [
    "target = \"loan_status\"\n",
    "\n",
    "x = training_df[\n",
    "    training_df.columns.drop(target)\n",
    "    .drop(\"event_timestamp\")\n",
    "    .drop(\"created_timestamp\")\n",
    "    .drop(\"loan_id\")\n",
    "    .drop(\"zipcode\")\n",
    "    .drop(\"dob_ssn\")\n",
    "]\n",
    "X = x.reindex(sorted(x.columns), axis=1)\n",
    "y = training_df.loc[:, target]"
   ],
   "metadata": {
    "collapsed": false
   }
  },
  {
   "cell_type": "code",
   "execution_count": 65,
   "outputs": [],
   "source": [
    "X_train, X_test, y_train, y_test = train_test_split(\n",
    "    X, y, test_size=0.4, random_state=1234\n",
    ")"
   ],
   "metadata": {
    "collapsed": false
   }
  },
  {
   "cell_type": "code",
   "execution_count": 66,
   "outputs": [
    {
     "name": "stdout",
     "output_type": "stream",
     "text": [
      "https://app.neptune.ai/zsotnich/mltest/e/MLTES-28\n",
      "Remember to stop your run once you’ve finished logging your metadata (https://docs.neptune.ai/api/run#stop). It will be stopped automatically only when the notebook kernel/interactive console is terminated.\n"
     ]
    }
   ],
   "source": [
    "run = neptune.init_run(\n",
    "    source_files=['neptune_experiment.ipynb'],\n",
    "    project=\"zsotnich/mltest\"\n",
    ")"
   ],
   "metadata": {
    "collapsed": false
   }
  },
  {
   "cell_type": "code",
   "execution_count": 67,
   "outputs": [],
   "source": [
    "classifier = tree.DecisionTreeClassifier()"
   ],
   "metadata": {
    "collapsed": false
   }
  },
  {
   "cell_type": "code",
   "execution_count": 69,
   "outputs": [],
   "source": [
    "cv = StratifiedKFold(n_splits=3, shuffle=True)"
   ],
   "metadata": {
    "collapsed": false
   }
  },
  {
   "cell_type": "code",
   "execution_count": 70,
   "outputs": [],
   "source": [
    "param_grid = {\n",
    "    \"max_depth\": Integer(5, 20),\n",
    "    'max_leaf_nodes': Integer(5, 20)\n",
    "}"
   ],
   "metadata": {
    "collapsed": false
   }
  },
  {
   "cell_type": "code",
   "execution_count": 71,
   "outputs": [],
   "source": [
    "class NeptuneCallback(BaseCallback):\n",
    "    def __init__(self, neptune_run):\n",
    "        self.epoc = 0\n",
    "        self.neptune_run = neptune_run\n",
    "\n",
    "    def on_step(self, record=None, logbook=None, estimator=None):\n",
    "        self.neptune_run['accuracy'].append(record['fitness'])\n",
    "        return False"
   ],
   "metadata": {
    "collapsed": false
   }
  },
  {
   "cell_type": "code",
   "execution_count": 72,
   "outputs": [],
   "source": [
    "evolved_estimator = GASearchCV(\n",
    "    estimator=classifier,\n",
    "    cv=cv,\n",
    "    scoring='accuracy',\n",
    "    param_grid=param_grid,\n",
    "    n_jobs=-1,\n",
    "    verbose=True,\n",
    ")"
   ],
   "metadata": {
    "collapsed": false
   }
  },
  {
   "cell_type": "code",
   "execution_count": 74,
   "outputs": [
    {
     "name": "stdout",
     "output_type": "stream",
     "text": [
      "gen\tnevals\tfitness\tfitness_std\tfitness_max\tfitness_min\n",
      "0  \t50    \t0.86487\t0.0166308  \t0.886956   \t0.823307   \n",
      "1  \t100   \t0.878228\t0.00766693 \t0.888236   \t0.852455   \n",
      "2  \t100   \t0.882508\t0.00395099 \t0.888236   \t0.872469   \n",
      "3  \t100   \t0.884762\t0.00212494 \t0.888236   \t0.878229   \n",
      "4  \t100   \t0.885561\t0.00167193 \t0.888236   \t0.880905   \n",
      "5  \t100   \t0.885973\t0.00108913 \t0.888236   \t0.882301   \n",
      "6  \t100   \t0.885469\t0.00187353 \t0.887596   \t0.877531   \n",
      "7  \t100   \t0.885789\t0.00170404 \t0.887596   \t0.877356   \n",
      "8  \t100   \t0.885567\t0.0027715  \t0.888469   \t0.873225   \n",
      "9  \t100   \t0.885802\t0.00233534 \t0.888469   \t0.874273   \n",
      "10 \t100   \t0.88556 \t0.00197853 \t0.888469   \t0.880614   \n",
      "11 \t100   \t0.885455\t0.00213582 \t0.888469   \t0.876833   \n",
      "12 \t100   \t0.88581 \t0.00232036 \t0.888469   \t0.873225   \n",
      "13 \t100   \t0.886235\t0.00149992 \t0.888469   \t0.882185   \n",
      "14 \t100   \t0.88532 \t0.00259582 \t0.888469   \t0.872935   \n",
      "15 \t100   \t0.885683\t0.00204072 \t0.888469   \t0.876483   \n",
      "16 \t100   \t0.886587\t0.00128799 \t0.88876    \t0.882477   \n",
      "17 \t100   \t0.886509\t0.00198106 \t0.88876    \t0.87852    \n",
      "18 \t100   \t0.8865  \t0.00147646 \t0.88876    \t0.881778   \n",
      "19 \t100   \t0.885981\t0.00550229 \t0.888469   \t0.848673   \n",
      "20 \t100   \t0.886516\t0.00203977 \t0.888469   \t0.879858   \n",
      "21 \t100   \t0.886224\t0.00214021 \t0.888585   \t0.879101   \n",
      "22 \t100   \t0.886515\t0.00240883 \t0.888585   \t0.876716   \n",
      "23 \t100   \t0.88647 \t0.0021295  \t0.888818   \t0.87788    \n",
      "24 \t100   \t0.886758\t0.00199211 \t0.888818   \t0.876543   \n",
      "25 \t100   \t0.886624\t0.00177277 \t0.888818   \t0.880032   \n",
      "26 \t100   \t0.885827\t0.00370383 \t0.888585   \t0.862346   \n",
      "27 \t100   \t0.885632\t0.00365125 \t0.888469   \t0.86572    \n",
      "28 \t100   \t0.885108\t0.00443908 \t0.888469   \t0.867815   \n",
      "29 \t100   \t0.88508 \t0.0036978  \t0.888469   \t0.869269   \n",
      "30 \t100   \t0.885077\t0.0037344  \t0.887829   \t0.869502   \n",
      "31 \t100   \t0.884099\t0.00472623 \t0.887829   \t0.867407   \n",
      "32 \t100   \t0.88498 \t0.00375449 \t0.887829   \t0.868338   \n",
      "33 \t100   \t0.884613\t0.00452769 \t0.887829   \t0.866186   \n",
      "34 \t100   \t0.885882\t0.00219276 \t0.888876   \t0.875669   \n",
      "35 \t100   \t0.886479\t0.00150459 \t0.888876   \t0.880207   \n"
     ]
    },
    {
     "name": "stderr",
     "output_type": "stream",
     "text": [
      "/opt/homebrew/Caskroom/miniconda/base/envs/mltest/lib/python3.9/site-packages/joblib/externals/loky/process_executor.py:702: UserWarning: A worker stopped while some jobs were given to the executor. This can be caused by a too short worker timeout or by a memory leak.\n",
      "  warnings.warn(\n"
     ]
    },
    {
     "name": "stdout",
     "output_type": "stream",
     "text": [
      "36 \t100   \t0.884892\t0.00441712 \t0.888876   \t0.858331   \n",
      "37 \t100   \t0.885704\t0.00328809 \t0.888876   \t0.867232   \n",
      "38 \t100   \t0.88619 \t0.00238943 \t0.888876   \t0.875727   \n",
      "39 \t100   \t0.88597 \t0.00289551 \t0.888876   \t0.872644   \n",
      "40 \t100   \t0.886043\t0.00281143 \t0.888876   \t0.871771   \n",
      "41 \t100   \t0.885792\t0.00237556 \t0.888876   \t0.8766     \n",
      "42 \t100   \t0.885706\t0.00557884 \t0.888876   \t0.848324   \n",
      "43 \t100   \t0.886066\t0.00196205 \t0.888178   \t0.876193   \n",
      "44 \t100   \t0.885602\t0.00265193 \t0.887654   \t0.876425   \n",
      "45 \t100   \t0.885532\t0.00298192 \t0.887654   \t0.870433   \n",
      "46 \t100   \t0.885916\t0.00254207 \t0.888644   \t0.875786   \n",
      "47 \t100   \t0.885754\t0.00217481 \t0.888644   \t0.878229   \n",
      "48 \t100   \t0.885471\t0.00262562 \t0.888644   \t0.871596   \n",
      "49 \t100   \t0.885669\t0.0020204  \t0.888644   \t0.877589   \n",
      "50 \t100   \t0.885975\t0.00202717 \t0.888644   \t0.878637   \n",
      "51 \t100   \t0.886119\t0.00294191 \t0.888644   \t0.869618   \n",
      "52 \t100   \t0.886244\t0.00280165 \t0.888644   \t0.873749   \n",
      "53 \t100   \t0.886521\t0.00179991 \t0.888644   \t0.88044    \n",
      "54 \t100   \t0.886329\t0.00197004 \t0.888644   \t0.880789   \n",
      "55 \t100   \t0.885934\t0.00354889 \t0.888644   \t0.867466   \n",
      "56 \t100   \t0.885674\t0.00229264 \t0.888644   \t0.877356   \n",
      "57 \t100   \t0.886087\t0.00188142 \t0.888644   \t0.880673   \n",
      "58 \t100   \t0.88581 \t0.00423094 \t0.888644   \t0.858331   \n",
      "59 \t100   \t0.886367\t0.00188881 \t0.888644   \t0.878113   \n",
      "60 \t100   \t0.88657 \t0.00169215 \t0.888644   \t0.881487   \n",
      "61 \t100   \t0.886038\t0.00326381 \t0.888644   \t0.870549   \n",
      "62 \t100   \t0.886544\t0.00221411 \t0.888644   \t0.878171   \n",
      "63 \t100   \t0.886349\t0.00190569 \t0.888644   \t0.880149   \n",
      "64 \t100   \t0.88645 \t0.00231427 \t0.888644   \t0.876193   \n",
      "65 \t100   \t0.885853\t0.0030282  \t0.888644   \t0.875378   \n",
      "66 \t100   \t0.886424\t0.00215649 \t0.888644   \t0.877182   \n",
      "67 \t100   \t0.886597\t0.00217804 \t0.888644   \t0.877182   \n",
      "68 \t100   \t0.886266\t0.00178706 \t0.888644   \t0.880905   \n",
      "69 \t100   \t0.885838\t0.00297068 \t0.888644   \t0.869909   \n",
      "70 \t100   \t0.886097\t0.00158285 \t0.888644   \t0.882767   \n",
      "71 \t100   \t0.886118\t0.00227175 \t0.888644   \t0.876135   \n",
      "72 \t100   \t0.885592\t0.00312497 \t0.888644   \t0.871189   \n",
      "73 \t100   \t0.885718\t0.00219871 \t0.888644   \t0.876076   \n",
      "74 \t100   \t0.885773\t0.00211691 \t0.888644   \t0.875494   \n",
      "75 \t100   \t0.88598 \t0.00159915 \t0.888644   \t0.881254   \n",
      "76 \t100   \t0.885908\t0.00209336 \t0.888644   \t0.879276   \n",
      "77 \t100   \t0.886076\t0.0016523  \t0.888352   \t0.881719   \n",
      "78 \t100   \t0.885764\t0.00269156 \t0.888352   \t0.870316   \n",
      "79 \t100   \t0.886244\t0.00166662 \t0.888352   \t0.880789   \n",
      "80 \t100   \t0.885514\t0.00336817 \t0.888352   \t0.870957   \n"
     ]
    },
    {
     "data": {
      "text/plain": "GASearchCV(cv=StratifiedKFold(n_splits=3, random_state=None, shuffle=True),\n           estimator=DecisionTreeClassifier(max_depth=8, max_leaf_nodes=20),\n           n_jobs=-1,\n           param_grid={'max_depth': <sklearn_genetic.space.space.Integer object at 0x292a79280>,\n                       'max_leaf_nodes': <sklearn_genetic.space.space.Integer object at 0x292a796a0>},\n           return_train_score=True, scoring='accuracy')",
      "text/html": "<style>#sk-container-id-5 {color: black;background-color: white;}#sk-container-id-5 pre{padding: 0;}#sk-container-id-5 div.sk-toggleable {background-color: white;}#sk-container-id-5 label.sk-toggleable__label {cursor: pointer;display: block;width: 100%;margin-bottom: 0;padding: 0.3em;box-sizing: border-box;text-align: center;}#sk-container-id-5 label.sk-toggleable__label-arrow:before {content: \"▸\";float: left;margin-right: 0.25em;color: #696969;}#sk-container-id-5 label.sk-toggleable__label-arrow:hover:before {color: black;}#sk-container-id-5 div.sk-estimator:hover label.sk-toggleable__label-arrow:before {color: black;}#sk-container-id-5 div.sk-toggleable__content {max-height: 0;max-width: 0;overflow: hidden;text-align: left;background-color: #f0f8ff;}#sk-container-id-5 div.sk-toggleable__content pre {margin: 0.2em;color: black;border-radius: 0.25em;background-color: #f0f8ff;}#sk-container-id-5 input.sk-toggleable__control:checked~div.sk-toggleable__content {max-height: 200px;max-width: 100%;overflow: auto;}#sk-container-id-5 input.sk-toggleable__control:checked~label.sk-toggleable__label-arrow:before {content: \"▾\";}#sk-container-id-5 div.sk-estimator input.sk-toggleable__control:checked~label.sk-toggleable__label {background-color: #d4ebff;}#sk-container-id-5 div.sk-label input.sk-toggleable__control:checked~label.sk-toggleable__label {background-color: #d4ebff;}#sk-container-id-5 input.sk-hidden--visually {border: 0;clip: rect(1px 1px 1px 1px);clip: rect(1px, 1px, 1px, 1px);height: 1px;margin: -1px;overflow: hidden;padding: 0;position: absolute;width: 1px;}#sk-container-id-5 div.sk-estimator {font-family: monospace;background-color: #f0f8ff;border: 1px dotted black;border-radius: 0.25em;box-sizing: border-box;margin-bottom: 0.5em;}#sk-container-id-5 div.sk-estimator:hover {background-color: #d4ebff;}#sk-container-id-5 div.sk-parallel-item::after {content: \"\";width: 100%;border-bottom: 1px solid gray;flex-grow: 1;}#sk-container-id-5 div.sk-label:hover label.sk-toggleable__label {background-color: #d4ebff;}#sk-container-id-5 div.sk-serial::before {content: \"\";position: absolute;border-left: 1px solid gray;box-sizing: border-box;top: 0;bottom: 0;left: 50%;z-index: 0;}#sk-container-id-5 div.sk-serial {display: flex;flex-direction: column;align-items: center;background-color: white;padding-right: 0.2em;padding-left: 0.2em;position: relative;}#sk-container-id-5 div.sk-item {position: relative;z-index: 1;}#sk-container-id-5 div.sk-parallel {display: flex;align-items: stretch;justify-content: center;background-color: white;position: relative;}#sk-container-id-5 div.sk-item::before, #sk-container-id-5 div.sk-parallel-item::before {content: \"\";position: absolute;border-left: 1px solid gray;box-sizing: border-box;top: 0;bottom: 0;left: 50%;z-index: -1;}#sk-container-id-5 div.sk-parallel-item {display: flex;flex-direction: column;z-index: 1;position: relative;background-color: white;}#sk-container-id-5 div.sk-parallel-item:first-child::after {align-self: flex-end;width: 50%;}#sk-container-id-5 div.sk-parallel-item:last-child::after {align-self: flex-start;width: 50%;}#sk-container-id-5 div.sk-parallel-item:only-child::after {width: 0;}#sk-container-id-5 div.sk-dashed-wrapped {border: 1px dashed gray;margin: 0 0.4em 0.5em 0.4em;box-sizing: border-box;padding-bottom: 0.4em;background-color: white;}#sk-container-id-5 div.sk-label label {font-family: monospace;font-weight: bold;display: inline-block;line-height: 1.2em;}#sk-container-id-5 div.sk-label-container {text-align: center;}#sk-container-id-5 div.sk-container {/* jupyter's `normalize.less` sets `[hidden] { display: none; }` but bootstrap.min.css set `[hidden] { display: none !important; }` so we also need the `!important` here to be able to override the default hidden behavior on the sphinx rendered scikit-learn.org. See: https://github.com/scikit-learn/scikit-learn/issues/21755 */display: inline-block !important;position: relative;}#sk-container-id-5 div.sk-text-repr-fallback {display: none;}</style><div id=\"sk-container-id-5\" class=\"sk-top-container\"><div class=\"sk-text-repr-fallback\"><pre>GASearchCV(cv=StratifiedKFold(n_splits=3, random_state=None, shuffle=True),\n           estimator=DecisionTreeClassifier(max_depth=8, max_leaf_nodes=20),\n           n_jobs=-1,\n           param_grid={&#x27;max_depth&#x27;: &lt;sklearn_genetic.space.space.Integer object at 0x292a79280&gt;,\n                       &#x27;max_leaf_nodes&#x27;: &lt;sklearn_genetic.space.space.Integer object at 0x292a796a0&gt;},\n           return_train_score=True, scoring=&#x27;accuracy&#x27;)</pre><b>In a Jupyter environment, please rerun this cell to show the HTML representation or trust the notebook. <br />On GitHub, the HTML representation is unable to render, please try loading this page with nbviewer.org.</b></div><div class=\"sk-container\" hidden><div class=\"sk-item sk-dashed-wrapped\"><div class=\"sk-label-container\"><div class=\"sk-label sk-toggleable\"><input class=\"sk-toggleable__control sk-hidden--visually\" id=\"sk-estimator-id-11\" type=\"checkbox\" ><label for=\"sk-estimator-id-11\" class=\"sk-toggleable__label sk-toggleable__label-arrow\">GASearchCV</label><div class=\"sk-toggleable__content\"><pre>GASearchCV(cv=StratifiedKFold(n_splits=3, random_state=None, shuffle=True),\n           estimator=DecisionTreeClassifier(max_depth=8, max_leaf_nodes=20),\n           n_jobs=-1,\n           param_grid={&#x27;max_depth&#x27;: &lt;sklearn_genetic.space.space.Integer object at 0x292a79280&gt;,\n                       &#x27;max_leaf_nodes&#x27;: &lt;sklearn_genetic.space.space.Integer object at 0x292a796a0&gt;},\n           return_train_score=True, scoring=&#x27;accuracy&#x27;)</pre></div></div></div><div class=\"sk-parallel\"><div class=\"sk-parallel-item\"><div class=\"sk-item\"><div class=\"sk-label-container\"><div class=\"sk-label sk-toggleable\"><input class=\"sk-toggleable__control sk-hidden--visually\" id=\"sk-estimator-id-12\" type=\"checkbox\" ><label for=\"sk-estimator-id-12\" class=\"sk-toggleable__label sk-toggleable__label-arrow\">estimator: DecisionTreeClassifier</label><div class=\"sk-toggleable__content\"><pre>DecisionTreeClassifier(max_depth=8, max_leaf_nodes=20)</pre></div></div></div><div class=\"sk-serial\"><div class=\"sk-item\"><div class=\"sk-estimator sk-toggleable\"><input class=\"sk-toggleable__control sk-hidden--visually\" id=\"sk-estimator-id-13\" type=\"checkbox\" ><label for=\"sk-estimator-id-13\" class=\"sk-toggleable__label sk-toggleable__label-arrow\">DecisionTreeClassifier</label><div class=\"sk-toggleable__content\"><pre>DecisionTreeClassifier(max_depth=8, max_leaf_nodes=20)</pre></div></div></div></div></div></div></div></div></div></div>"
     },
     "execution_count": 74,
     "metadata": {},
     "output_type": "execute_result"
    }
   ],
   "source": [
    "n_callback = NeptuneCallback(run)\n",
    "evolved_estimator.fit(X_train, y_train, callbacks=n_callback)"
   ],
   "metadata": {
    "collapsed": false
   }
  },
  {
   "cell_type": "code",
   "execution_count": 75,
   "outputs": [],
   "source": [
    "score = classifier.score(X_test, y_test)\n",
    "\n",
    "run[\"test/score\"] = evolved_estimator.best_score_"
   ],
   "metadata": {
    "collapsed": false
   }
  },
  {
   "cell_type": "code",
   "execution_count": 76,
   "outputs": [],
   "source": [
    "y_train_pred = evolved_estimator.predict_proba(X_train)\n",
    "y_test_pred = evolved_estimator.predict_proba(X_test)\n",
    "\n",
    "train_f1 = f1_score(y_train, y_train_pred.argmax(axis=1), average=\"macro\")\n",
    "test_f1 = f1_score(y_test, y_test_pred.argmax(axis=1), average=\"macro\")\n",
    "\n",
    "run[\"train/f1\"] = train_f1\n",
    "run[\"test/f1\"] = test_f1"
   ],
   "metadata": {
    "collapsed": false
   }
  },
  {
   "cell_type": "code",
   "execution_count": 77,
   "outputs": [],
   "source": [
    "run[\"model/parameters\"] = evolved_estimator.best_params_"
   ],
   "metadata": {
    "collapsed": false
   }
  },
  {
   "cell_type": "code",
   "execution_count": 78,
   "outputs": [
    {
     "name": "stdout",
     "output_type": "stream",
     "text": [
      "Shutting down background jobs, please wait a moment...\n",
      "Done!\n",
      "Waiting for the remaining 9 operations to synchronize with Neptune. Do not kill this process.\n",
      "All 9 operations synced, thanks for waiting!\n",
      "Explore the metadata in the Neptune app:\n",
      "https://app.neptune.ai/zsotnich/mltest/e/MLTES-28\n"
     ]
    }
   ],
   "source": [
    "run.stop()"
   ],
   "metadata": {
    "collapsed": false
   }
  },
  {
   "cell_type": "code",
   "execution_count": 78,
   "outputs": [],
   "source": [],
   "metadata": {
    "collapsed": false
   }
  }
 ],
 "metadata": {
  "kernelspec": {
   "display_name": "Python 3",
   "language": "python",
   "name": "python3"
  },
  "language_info": {
   "codemirror_mode": {
    "name": "ipython",
    "version": 2
   },
   "file_extension": ".py",
   "mimetype": "text/x-python",
   "name": "python",
   "nbconvert_exporter": "python",
   "pygments_lexer": "ipython2",
   "version": "2.7.6"
  }
 },
 "nbformat": 4,
 "nbformat_minor": 0
}
