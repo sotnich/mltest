{
 "cells": [
  {
   "cell_type": "code",
   "execution_count": 1,
   "outputs": [],
   "source": [
    "import os\n",
    "import pandas as pd\n",
    "import neptune.new as neptune\n",
    "from pathlib import Path\n",
    "from sklearn import tree\n",
    "from sklearn.metrics import f1_score\n",
    "from getpass import getpass\n",
    "from sklearn_genetic import GASearchCV\n",
    "from sklearn_genetic.space import Integer\n",
    "from sklearn.model_selection import train_test_split, StratifiedKFold\n",
    "from sklearn_genetic.callbacks.base import BaseCallback"
   ],
   "metadata": {
    "collapsed": false
   }
  },
  {
   "cell_type": "code",
   "execution_count": 2,
   "outputs": [],
   "source": [
    "if \"NEPTUNE_API_TOKEN\" not in os.environ.keys() or os.environ[\"NEPTUNE_API_TOKEN\"] == '':\n",
    "    os.environ[\"NEPTUNE_API_TOKEN\"] = getpass(\"Enter your Neptune API token: \")"
   ],
   "metadata": {
    "collapsed": false
   }
  },
  {
   "cell_type": "code",
   "execution_count": 3,
   "outputs": [],
   "source": [
    "training_df = pd.read_parquet(f\"../data/loan_table_training.parquet\") # load train dataset"
   ],
   "metadata": {
    "collapsed": false
   }
  },
  {
   "cell_type": "code",
   "execution_count": 4,
   "outputs": [],
   "source": [
    "target = \"loan_status\"\n",
    "\n",
    "x = training_df[\n",
    "    training_df.columns.drop(target)\n",
    "    .drop(\"event_timestamp\")\n",
    "    .drop(\"created_timestamp\")\n",
    "    .drop(\"loan_id\")\n",
    "    .drop(\"zipcode\")\n",
    "    .drop(\"dob_ssn\")\n",
    "]\n",
    "X = x.reindex(sorted(x.columns), axis=1)\n",
    "y = training_df.loc[:, target]"
   ],
   "metadata": {
    "collapsed": false
   }
  },
  {
   "cell_type": "code",
   "execution_count": 5,
   "outputs": [],
   "source": [
    "X_train, X_test, y_train, y_test = train_test_split(\n",
    "    X, y, test_size=0.4, random_state=1234\n",
    ")"
   ],
   "metadata": {
    "collapsed": false
   }
  },
  {
   "cell_type": "code",
   "execution_count": 6,
   "outputs": [
    {
     "name": "stdout",
     "output_type": "stream",
     "text": [
      "https://app.neptune.ai/zsotnich/mltest/e/MLTES-30\n"
     ]
    },
    {
     "name": "stderr",
     "output_type": "stream",
     "text": [
      "Info (NVML): NVML Shared Library Not Found. GPU usage metrics may not be reported. For more information, see https://docs.neptune.ai/help/nvml_error/\n"
     ]
    },
    {
     "name": "stdout",
     "output_type": "stream",
     "text": [
      "Remember to stop your run once you’ve finished logging your metadata (https://docs.neptune.ai/api/run#stop). It will be stopped automatically only when the notebook kernel/interactive console is terminated.\n"
     ]
    }
   ],
   "source": [
    "# start experiment in neptune\n",
    "\n",
    "run = neptune.init_run(\n",
    "    source_files=['neptune_experiment.ipynb'],\n",
    "    project=\"zsotnich/mltest\"\n",
    ")"
   ],
   "metadata": {
    "collapsed": false
   }
  },
  {
   "cell_type": "code",
   "execution_count": 7,
   "outputs": [],
   "source": [
    "classifier = tree.DecisionTreeClassifier()"
   ],
   "metadata": {
    "collapsed": false
   }
  },
  {
   "cell_type": "code",
   "execution_count": 8,
   "outputs": [],
   "source": [
    "cv = StratifiedKFold(n_splits=3, shuffle=True)"
   ],
   "metadata": {
    "collapsed": false
   }
  },
  {
   "cell_type": "code",
   "execution_count": 11,
   "outputs": [],
   "source": [
    "param_grid = {\n",
    "    \"max_depth\": Integer(5, 20),\n",
    "    'max_leaf_nodes': Integer(5, 20)\n",
    "}"
   ],
   "metadata": {
    "collapsed": false
   }
  },
  {
   "cell_type": "code",
   "execution_count": 13,
   "outputs": [],
   "source": [
    "# class to log accuracy in neptune while doing params tuning\n",
    "\n",
    "class NeptuneCallback(BaseCallback):\n",
    "    def __init__(self, neptune_run):\n",
    "        self.epoc = 0\n",
    "        self.neptune_run = neptune_run\n",
    "\n",
    "    def on_step(self, record=None, logbook=None, estimator=None):\n",
    "        self.neptune_run['accuracy'].append(record['fitness'])\n",
    "        return False"
   ],
   "metadata": {
    "collapsed": false
   }
  },
  {
   "cell_type": "code",
   "execution_count": 14,
   "outputs": [],
   "source": [
    "# create params tuning\n",
    "\n",
    "evolved_estimator = GASearchCV(\n",
    "    estimator=classifier,\n",
    "    cv=cv,\n",
    "    scoring='accuracy',\n",
    "    param_grid=param_grid,\n",
    "    n_jobs=-1,\n",
    "    verbose=True,\n",
    ")"
   ],
   "metadata": {
    "collapsed": false
   }
  },
  {
   "cell_type": "code",
   "execution_count": 15,
   "outputs": [
    {
     "name": "stdout",
     "output_type": "stream",
     "text": [
      "gen\tnevals\tfitness \tfitness_std\tfitness_max\tfitness_min\n",
      "0  \t50    \t0.829076\t0.00719423 \t0.842681   \t0.817023   \n",
      "1  \t100   \t0.835314\t0.00431951 \t0.842273   \t0.819816   \n",
      "2  \t100   \t0.836943\t0.00297068 \t0.842273   \t0.823132   \n",
      "3  \t100   \t0.837483\t0.00244798 \t0.842273   \t0.827961   \n",
      "4  \t100   \t0.838828\t0.00167844 \t0.842273   \t0.833837   \n",
      "5  \t100   \t0.838496\t0.00209772 \t0.842274   \t0.830929   \n",
      "6  \t100   \t0.838358\t0.00213081 \t0.842273   \t0.832615   \n",
      "7  \t100   \t0.837803\t0.00241783 \t0.841518   \t0.832615   \n",
      "8  \t100   \t0.837632\t0.0022122  \t0.841518   \t0.831743   \n",
      "9  \t100   \t0.837847\t0.0021935  \t0.841518   \t0.831744   \n",
      "10 \t100   \t0.838228\t0.00209793 \t0.841518   \t0.830522   \n",
      "11 \t100   \t0.837883\t0.00208143 \t0.841518   \t0.830987   \n",
      "12 \t100   \t0.838407\t0.00203439 \t0.841925   \t0.833954   \n",
      "13 \t100   \t0.838543\t0.00275672 \t0.841925   \t0.83151    \n",
      "14 \t100   \t0.837971\t0.00287556 \t0.841925   \t0.831044   \n",
      "15 \t100   \t0.837932\t0.00255751 \t0.841925   \t0.832383   \n",
      "16 \t100   \t0.837943\t0.00309595 \t0.841925   \t0.831219   \n",
      "17 \t100   \t0.838749\t0.00255521 \t0.84239    \t0.832092   \n",
      "18 \t100   \t0.83792 \t0.00300656 \t0.841925   \t0.829707   \n",
      "19 \t100   \t0.839196\t0.00243833 \t0.841925   \t0.833779   \n",
      "20 \t100   \t0.839067\t0.00217943 \t0.8421     \t0.83215    \n",
      "21 \t100   \t0.839651\t0.00227981 \t0.8421     \t0.832907   \n",
      "22 \t100   \t0.839766\t0.00226259 \t0.8421     \t0.834129   \n",
      "23 \t100   \t0.839241\t0.00241201 \t0.8421     \t0.831336   \n",
      "24 \t100   \t0.839305\t0.00264025 \t0.8421     \t0.833547   \n",
      "25 \t100   \t0.838807\t0.0026725  \t0.842157   \t0.833139   \n",
      "26 \t100   \t0.838831\t0.00249051 \t0.842041   \t0.832616   \n",
      "27 \t100   \t0.83885 \t0.00212499 \t0.842041   \t0.833256   \n",
      "28 \t100   \t0.838508\t0.00241894 \t0.841925   \t0.829531   \n",
      "29 \t100   \t0.838778\t0.00276671 \t0.842623   \t0.83151    \n",
      "30 \t100   \t0.839383\t0.00252988 \t0.842623   \t0.834419   \n",
      "31 \t100   \t0.838336\t0.00323263 \t0.842623   \t0.827264   \n",
      "32 \t100   \t0.838817\t0.00249283 \t0.842623   \t0.833954   \n",
      "33 \t100   \t0.838608\t0.00196757 \t0.841925   \t0.834419   \n",
      "34 \t100   \t0.838615\t0.00181641 \t0.841925   \t0.835001   \n",
      "35 \t100   \t0.83894 \t0.00193476 \t0.841925   \t0.83471    \n",
      "36 \t100   \t0.839052\t0.00211646 \t0.84239    \t0.833081   \n",
      "37 \t100   \t0.839075\t0.00204069 \t0.842332   \t0.831685   \n",
      "38 \t100   \t0.838607\t0.0023105  \t0.842332   \t0.831859   \n",
      "39 \t100   \t0.839016\t0.00357103 \t0.842332   \t0.821445   \n",
      "40 \t100   \t0.839111\t0.00241747 \t0.842332   \t0.83407    \n",
      "41 \t100   \t0.839012\t0.00228056 \t0.842332   \t0.834478   \n",
      "42 \t100   \t0.838848\t0.00257876 \t0.842332   \t0.832034   \n",
      "43 \t100   \t0.838144\t0.0024756  \t0.842332   \t0.832674   \n",
      "44 \t100   \t0.838338\t0.00233533 \t0.841925   \t0.831918   \n",
      "45 \t100   \t0.838405\t0.00243065 \t0.841925   \t0.833024   \n",
      "46 \t100   \t0.838136\t0.00316791 \t0.841925   \t0.824761   \n",
      "47 \t100   \t0.838553\t0.0024265  \t0.841925   \t0.829183   \n",
      "48 \t100   \t0.838186\t0.00218702 \t0.841925   \t0.83186    \n",
      "49 \t100   \t0.838643\t0.00183193 \t0.841925   \t0.834419   \n",
      "50 \t100   \t0.838731\t0.001815   \t0.841925   \t0.833895   \n",
      "51 \t100   \t0.838597\t0.00214839 \t0.842855   \t0.83343    \n",
      "52 \t100   \t0.83892 \t0.00227226 \t0.842855   \t0.832383   \n",
      "53 \t100   \t0.83843 \t0.00279351 \t0.842855   \t0.825576   \n",
      "54 \t100   \t0.838064\t0.00296327 \t0.842855   \t0.825576   \n",
      "55 \t100   \t0.838035\t0.00275349 \t0.842855   \t0.825576   \n",
      "56 \t100   \t0.838196\t0.00260588 \t0.842855   \t0.833023   \n",
      "57 \t100   \t0.839077\t0.00234029 \t0.842855   \t0.83407    \n",
      "58 \t100   \t0.839007\t0.00277402 \t0.842855   \t0.830928   \n",
      "59 \t100   \t0.838804\t0.00272116 \t0.842855   \t0.831684   \n",
      "60 \t100   \t0.83816 \t0.00217355 \t0.842855   \t0.833837   \n",
      "61 \t100   \t0.838796\t0.00162968 \t0.842855   \t0.835874   \n",
      "62 \t100   \t0.838762\t0.00179122 \t0.842855   \t0.833663   \n",
      "63 \t100   \t0.838511\t0.00242227 \t0.842855   \t0.831802   \n",
      "64 \t100   \t0.838904\t0.00258253 \t0.842855   \t0.830986   \n",
      "65 \t100   \t0.839266\t0.00245224 \t0.842855   \t0.833255   \n",
      "66 \t100   \t0.839097\t0.00332792 \t0.842855   \t0.822201   \n",
      "67 \t100   \t0.83913 \t0.00234862 \t0.842855   \t0.83471    \n",
      "68 \t100   \t0.838933\t0.00254161 \t0.842855   \t0.831918   \n",
      "69 \t100   \t0.838491\t0.00250262 \t0.842855   \t0.83215    \n",
      "70 \t100   \t0.838144\t0.0024232  \t0.842855   \t0.833373   \n",
      "71 \t100   \t0.837481\t0.00255187 \t0.842855   \t0.829882   \n",
      "72 \t100   \t0.837839\t0.00199344 \t0.842855   \t0.831976   \n",
      "73 \t100   \t0.838404\t0.00193655 \t0.842914   \t0.83442    \n",
      "74 \t100   \t0.838173\t0.00304857 \t0.842914   \t0.825226   \n",
      "75 \t100   \t0.838279\t0.00251652 \t0.842157   \t0.831859   \n",
      "76 \t100   \t0.838876\t0.00246539 \t0.842274   \t0.830638   \n",
      "77 \t100   \t0.838741\t0.0024533  \t0.842274   \t0.829532   \n",
      "78 \t100   \t0.838462\t0.00242841 \t0.842157   \t0.829474   \n",
      "79 \t100   \t0.838762\t0.00220905 \t0.842157   \t0.833081   \n",
      "80 \t100   \t0.838322\t0.00200902 \t0.842157   \t0.834187   \n"
     ]
    },
    {
     "data": {
      "text/plain": "GASearchCV(cv=StratifiedKFold(n_splits=3, random_state=None, shuffle=True),\n           estimator=DecisionTreeClassifier(max_depth=5, max_leaf_nodes=6),\n           n_jobs=-1,\n           param_grid={'max_depth': <sklearn_genetic.space.space.Integer object at 0x16a23b310>,\n                       'max_leaf_nodes': <sklearn_genetic.space.space.Integer object at 0x16a23b370>},\n           return_train_score=True, scoring='accuracy')",
      "text/html": "<style>#sk-container-id-1 {color: black;background-color: white;}#sk-container-id-1 pre{padding: 0;}#sk-container-id-1 div.sk-toggleable {background-color: white;}#sk-container-id-1 label.sk-toggleable__label {cursor: pointer;display: block;width: 100%;margin-bottom: 0;padding: 0.3em;box-sizing: border-box;text-align: center;}#sk-container-id-1 label.sk-toggleable__label-arrow:before {content: \"▸\";float: left;margin-right: 0.25em;color: #696969;}#sk-container-id-1 label.sk-toggleable__label-arrow:hover:before {color: black;}#sk-container-id-1 div.sk-estimator:hover label.sk-toggleable__label-arrow:before {color: black;}#sk-container-id-1 div.sk-toggleable__content {max-height: 0;max-width: 0;overflow: hidden;text-align: left;background-color: #f0f8ff;}#sk-container-id-1 div.sk-toggleable__content pre {margin: 0.2em;color: black;border-radius: 0.25em;background-color: #f0f8ff;}#sk-container-id-1 input.sk-toggleable__control:checked~div.sk-toggleable__content {max-height: 200px;max-width: 100%;overflow: auto;}#sk-container-id-1 input.sk-toggleable__control:checked~label.sk-toggleable__label-arrow:before {content: \"▾\";}#sk-container-id-1 div.sk-estimator input.sk-toggleable__control:checked~label.sk-toggleable__label {background-color: #d4ebff;}#sk-container-id-1 div.sk-label input.sk-toggleable__control:checked~label.sk-toggleable__label {background-color: #d4ebff;}#sk-container-id-1 input.sk-hidden--visually {border: 0;clip: rect(1px 1px 1px 1px);clip: rect(1px, 1px, 1px, 1px);height: 1px;margin: -1px;overflow: hidden;padding: 0;position: absolute;width: 1px;}#sk-container-id-1 div.sk-estimator {font-family: monospace;background-color: #f0f8ff;border: 1px dotted black;border-radius: 0.25em;box-sizing: border-box;margin-bottom: 0.5em;}#sk-container-id-1 div.sk-estimator:hover {background-color: #d4ebff;}#sk-container-id-1 div.sk-parallel-item::after {content: \"\";width: 100%;border-bottom: 1px solid gray;flex-grow: 1;}#sk-container-id-1 div.sk-label:hover label.sk-toggleable__label {background-color: #d4ebff;}#sk-container-id-1 div.sk-serial::before {content: \"\";position: absolute;border-left: 1px solid gray;box-sizing: border-box;top: 0;bottom: 0;left: 50%;z-index: 0;}#sk-container-id-1 div.sk-serial {display: flex;flex-direction: column;align-items: center;background-color: white;padding-right: 0.2em;padding-left: 0.2em;position: relative;}#sk-container-id-1 div.sk-item {position: relative;z-index: 1;}#sk-container-id-1 div.sk-parallel {display: flex;align-items: stretch;justify-content: center;background-color: white;position: relative;}#sk-container-id-1 div.sk-item::before, #sk-container-id-1 div.sk-parallel-item::before {content: \"\";position: absolute;border-left: 1px solid gray;box-sizing: border-box;top: 0;bottom: 0;left: 50%;z-index: -1;}#sk-container-id-1 div.sk-parallel-item {display: flex;flex-direction: column;z-index: 1;position: relative;background-color: white;}#sk-container-id-1 div.sk-parallel-item:first-child::after {align-self: flex-end;width: 50%;}#sk-container-id-1 div.sk-parallel-item:last-child::after {align-self: flex-start;width: 50%;}#sk-container-id-1 div.sk-parallel-item:only-child::after {width: 0;}#sk-container-id-1 div.sk-dashed-wrapped {border: 1px dashed gray;margin: 0 0.4em 0.5em 0.4em;box-sizing: border-box;padding-bottom: 0.4em;background-color: white;}#sk-container-id-1 div.sk-label label {font-family: monospace;font-weight: bold;display: inline-block;line-height: 1.2em;}#sk-container-id-1 div.sk-label-container {text-align: center;}#sk-container-id-1 div.sk-container {/* jupyter's `normalize.less` sets `[hidden] { display: none; }` but bootstrap.min.css set `[hidden] { display: none !important; }` so we also need the `!important` here to be able to override the default hidden behavior on the sphinx rendered scikit-learn.org. See: https://github.com/scikit-learn/scikit-learn/issues/21755 */display: inline-block !important;position: relative;}#sk-container-id-1 div.sk-text-repr-fallback {display: none;}</style><div id=\"sk-container-id-1\" class=\"sk-top-container\"><div class=\"sk-text-repr-fallback\"><pre>GASearchCV(cv=StratifiedKFold(n_splits=3, random_state=None, shuffle=True),\n           estimator=DecisionTreeClassifier(max_depth=5, max_leaf_nodes=6),\n           n_jobs=-1,\n           param_grid={&#x27;max_depth&#x27;: &lt;sklearn_genetic.space.space.Integer object at 0x16a23b310&gt;,\n                       &#x27;max_leaf_nodes&#x27;: &lt;sklearn_genetic.space.space.Integer object at 0x16a23b370&gt;},\n           return_train_score=True, scoring=&#x27;accuracy&#x27;)</pre><b>In a Jupyter environment, please rerun this cell to show the HTML representation or trust the notebook. <br />On GitHub, the HTML representation is unable to render, please try loading this page with nbviewer.org.</b></div><div class=\"sk-container\" hidden><div class=\"sk-item sk-dashed-wrapped\"><div class=\"sk-label-container\"><div class=\"sk-label sk-toggleable\"><input class=\"sk-toggleable__control sk-hidden--visually\" id=\"sk-estimator-id-1\" type=\"checkbox\" ><label for=\"sk-estimator-id-1\" class=\"sk-toggleable__label sk-toggleable__label-arrow\">GASearchCV</label><div class=\"sk-toggleable__content\"><pre>GASearchCV(cv=StratifiedKFold(n_splits=3, random_state=None, shuffle=True),\n           estimator=DecisionTreeClassifier(max_depth=5, max_leaf_nodes=6),\n           n_jobs=-1,\n           param_grid={&#x27;max_depth&#x27;: &lt;sklearn_genetic.space.space.Integer object at 0x16a23b310&gt;,\n                       &#x27;max_leaf_nodes&#x27;: &lt;sklearn_genetic.space.space.Integer object at 0x16a23b370&gt;},\n           return_train_score=True, scoring=&#x27;accuracy&#x27;)</pre></div></div></div><div class=\"sk-parallel\"><div class=\"sk-parallel-item\"><div class=\"sk-item\"><div class=\"sk-label-container\"><div class=\"sk-label sk-toggleable\"><input class=\"sk-toggleable__control sk-hidden--visually\" id=\"sk-estimator-id-2\" type=\"checkbox\" ><label for=\"sk-estimator-id-2\" class=\"sk-toggleable__label sk-toggleable__label-arrow\">estimator: DecisionTreeClassifier</label><div class=\"sk-toggleable__content\"><pre>DecisionTreeClassifier(max_depth=5, max_leaf_nodes=6)</pre></div></div></div><div class=\"sk-serial\"><div class=\"sk-item\"><div class=\"sk-estimator sk-toggleable\"><input class=\"sk-toggleable__control sk-hidden--visually\" id=\"sk-estimator-id-3\" type=\"checkbox\" ><label for=\"sk-estimator-id-3\" class=\"sk-toggleable__label sk-toggleable__label-arrow\">DecisionTreeClassifier</label><div class=\"sk-toggleable__content\"><pre>DecisionTreeClassifier(max_depth=5, max_leaf_nodes=6)</pre></div></div></div></div></div></div></div></div></div></div>"
     },
     "execution_count": 15,
     "metadata": {},
     "output_type": "execute_result"
    }
   ],
   "source": [
    "# execute searching of optimal params\n",
    "\n",
    "n_callback = NeptuneCallback(run)\n",
    "evolved_estimator.fit(X_train, y_train, callbacks=n_callback)"
   ],
   "metadata": {
    "collapsed": false
   }
  },
  {
   "cell_type": "code",
   "execution_count": 16,
   "outputs": [],
   "source": [
    "# log the best score in neptune\n",
    "\n",
    "score = classifier.score(X_test, y_test)\n",
    "\n",
    "run[\"test/score\"] = evolved_estimator.best_score_"
   ],
   "metadata": {
    "collapsed": false
   }
  },
  {
   "cell_type": "code",
   "execution_count": 17,
   "outputs": [],
   "source": [
    "y_train_pred = evolved_estimator.predict_proba(X_train)\n",
    "y_test_pred = evolved_estimator.predict_proba(X_test)\n",
    "\n",
    "train_f1 = f1_score(y_train, y_train_pred.argmax(axis=1), average=\"macro\")\n",
    "test_f1 = f1_score(y_test, y_test_pred.argmax(axis=1), average=\"macro\")\n",
    "\n",
    "run[\"train/f1\"] = train_f1\n",
    "run[\"test/f1\"] = test_f1"
   ],
   "metadata": {
    "collapsed": false
   }
  },
  {
   "cell_type": "code",
   "execution_count": 18,
   "outputs": [],
   "source": [
    "run[\"model/parameters\"] = evolved_estimator.best_params_"
   ],
   "metadata": {
    "collapsed": false
   }
  },
  {
   "cell_type": "code",
   "execution_count": 19,
   "outputs": [
    {
     "name": "stdout",
     "output_type": "stream",
     "text": [
      "Shutting down background jobs, please wait a moment...\n",
      "Done!\n",
      "Waiting for the remaining 19 operations to synchronize with Neptune. Do not kill this process.\n",
      "All 19 operations synced, thanks for waiting!\n",
      "Explore the metadata in the Neptune app:\n",
      "https://app.neptune.ai/zsotnich/mltest/e/MLTES-30\n"
     ]
    }
   ],
   "source": [
    "run.stop()"
   ],
   "metadata": {
    "collapsed": false
   }
  },
  {
   "cell_type": "code",
   "execution_count": 78,
   "outputs": [],
   "source": [],
   "metadata": {
    "collapsed": false
   }
  }
 ],
 "metadata": {
  "kernelspec": {
   "display_name": "Python 3",
   "language": "python",
   "name": "python3"
  },
  "language_info": {
   "codemirror_mode": {
    "name": "ipython",
    "version": 2
   },
   "file_extension": ".py",
   "mimetype": "text/x-python",
   "name": "python",
   "nbconvert_exporter": "python",
   "pygments_lexer": "ipython2",
   "version": "2.7.6"
  }
 },
 "nbformat": 4,
 "nbformat_minor": 0
}
