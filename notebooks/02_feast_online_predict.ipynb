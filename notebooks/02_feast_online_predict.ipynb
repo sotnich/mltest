{
 "cells": [
  {
   "cell_type": "code",
   "execution_count": 1,
   "outputs": [],
   "source": [
    "import joblib\n",
    "import pandas as pd\n",
    "from feast import FeatureStore\n",
    "from pathlib import Path"
   ],
   "metadata": {
    "collapsed": false
   }
  },
  {
   "cell_type": "code",
   "execution_count": 4,
   "outputs": [],
   "source": [
    "# Please set these variables in your local notebook (if you want to run this locally)\n",
    "# import os\n",
    "# os.environ['FEAST_S3_BUCKET']=\"s-mltest2\"\n",
    "# os.environ['FEAST_IAM_ROLE_ARN']=\"arn:aws:iam::834092605248:role/s-mltest2-for-redshift\"\n",
    "# os.environ['FEAST_REDSHIFT_CLUSTER']=\"s-mltest2\"\n",
    "# os.environ['FEAST_REGION']=\"eu-west-3\"\n",
    "# os.environ['AWS_DEFAULT_PROFILE'] = 'gdc'"
   ],
   "metadata": {
    "collapsed": false
   }
  },
  {
   "cell_type": "code",
   "execution_count": 5,
   "outputs": [],
   "source": [
    "repo_path = \"../featurestore/feast/repo\"\n",
    "model_filename = \"model.bin\"\n",
    "encoder_filename = \"encoder.bin\""
   ],
   "metadata": {
    "collapsed": false
   }
  },
  {
   "cell_type": "code",
   "execution_count": 6,
   "outputs": [],
   "source": [
    "# load the model\n",
    "\n",
    "if not Path(model_filename).exists() or not Path(encoder_filename).exists():\n",
    "    print(\"You need to train the model first!\")\n",
    "\n",
    "classifier = joblib.load(model_filename)"
   ],
   "metadata": {
    "collapsed": false
   }
  },
  {
   "cell_type": "code",
   "execution_count": 7,
   "outputs": [
    {
     "name": "stderr",
     "output_type": "stream",
     "text": [
      "/opt/homebrew/Caskroom/miniconda/base/envs/mltest/lib/python3.9/site-packages/botocore/httpsession.py:28: DeprecationWarning: 'urllib3.contrib.pyopenssl' module is deprecated and will be removed in a future release of urllib3 2.x. Read more in this issue: https://github.com/urllib3/urllib3/issues/2680\n",
      "  from urllib3.contrib.pyopenssl import orig_util_SSLContext as SSLContext\n"
     ]
    }
   ],
   "source": [
    "fs = FeatureStore(repo_path=repo_path)   # create Feast object"
   ],
   "metadata": {
    "collapsed": false
   }
  },
  {
   "cell_type": "code",
   "execution_count": 19,
   "outputs": [],
   "source": [
    "# Make online prediction (using DynamoDB for retrieving online features)\n",
    "request = {\n",
    "    \"zipcode\": 76104,\n",
    "    \"dob_ssn\": \"19630621_4278\",\n",
    "    \"person_age\": 33,\n",
    "    \"person_income\": 59000,\n",
    "    \"person_home_ownership\": \"RENT\",\n",
    "    \"person_emp_length\": 12.0,\n",
    "    \"loan_intent\": \"PERSONAL\",\n",
    "    \"loan_amnt\": 35000,\n",
    "    \"loan_int_rate\": 16.02,\n",
    "}"
   ],
   "metadata": {
    "collapsed": false
   }
  },
  {
   "cell_type": "code",
   "execution_count": 20,
   "outputs": [],
   "source": [
    "# Get online features from Feast\n",
    "feature_vector = fs.get_online_features(\n",
    "    entity_rows=[\n",
    "        {\n",
    "            \"zipcode\": request[\"zipcode\"],\n",
    "            \"dob_ssn\": request[\"dob_ssn\"],\n",
    "            \"person_home_ownership\": request[\"person_home_ownership\"],\n",
    "            \"loan_intent\": request[\"loan_intent\"],\n",
    "        }\n",
    "    ],\n",
    "    features=[\n",
    "        \"zipcode_features:city\",\n",
    "        \"zipcode_features:state\",\n",
    "        \"zipcode_features:location_type\",\n",
    "        \"zipcode_features:tax_returns_filed\",\n",
    "        \"zipcode_features:population\",\n",
    "        \"zipcode_features:total_wages\",\n",
    "        \"credit_history:credit_card_due\",\n",
    "        \"credit_history:mortgage_due\",\n",
    "        \"credit_history:student_loan_due\",\n",
    "        \"credit_history:vehicle_loan_due\",\n",
    "        \"credit_history:hard_pulls\",\n",
    "        \"credit_history:missed_payments_2y\",\n",
    "        \"credit_history:missed_payments_1y\",\n",
    "        \"credit_history:missed_payments_6m\",\n",
    "        \"credit_history:bankruptcies\",\n",
    "        \"person_home_ownership:person_home_ownership_enc\",\n",
    "        \"loan_intent:loan_intent_enc\",\n",
    "    ],\n",
    ").to_dict()"
   ],
   "metadata": {
    "collapsed": false
   }
  },
  {
   "cell_type": "code",
   "execution_count": 21,
   "outputs": [
    {
     "name": "stdout",
     "output_type": "stream",
     "text": [
      "{'zipcode': [76104], 'dob_ssn': ['19630621_4278'], 'location_type': ['PRIMARY'], 'city': ['FORT WORTH'], 'population': [10534], 'total_wages': [142325465], 'state': ['TX'], 'tax_returns_filed': [6058], 'credit_card_due': [3343], 'missed_payments_2y': [0], 'missed_payments_6m': [0], 'vehicle_loan_due': [11506], 'hard_pulls': [1], 'student_loan_due': [44375], 'bankruptcies': [0], 'missed_payments_1y': [0], 'mortgage_due': [378847], 'person_home_ownership_enc': [0], 'loan_intent_enc': [0]}\n"
     ]
    }
   ],
   "source": [
    "print(feature_vector)"
   ],
   "metadata": {
    "collapsed": false
   }
  },
  {
   "cell_type": "code",
   "execution_count": 22,
   "outputs": [],
   "source": [
    "# Join features to request features\n",
    "\n",
    "features = request.copy()\n",
    "del features['person_home_ownership']\n",
    "del features['loan_intent']\n",
    "features.update(feature_vector)\n",
    "features_df = pd.DataFrame.from_dict(features)"
   ],
   "metadata": {
    "collapsed": false
   }
  },
  {
   "cell_type": "code",
   "execution_count": 23,
   "outputs": [
    {
     "data": {
      "text/plain": "   zipcode        dob_ssn  person_age  person_income  person_emp_length  \\\n0    76104  19630621_4278          33          59000               12.0   \n\n   loan_amnt  loan_int_rate location_type        city  population  ...  \\\n0      35000          16.02       PRIMARY  FORT WORTH       10534  ...   \n\n   missed_payments_2y missed_payments_6m  vehicle_loan_due  hard_pulls  \\\n0                   0                  0             11506           1   \n\n   student_loan_due  bankruptcies  missed_payments_1y  mortgage_due  \\\n0             44375             0                   0        378847   \n\n   person_home_ownership_enc  loan_intent_enc  \n0                          0                0  \n\n[1 rows x 24 columns]",
      "text/html": "<div>\n<style scoped>\n    .dataframe tbody tr th:only-of-type {\n        vertical-align: middle;\n    }\n\n    .dataframe tbody tr th {\n        vertical-align: top;\n    }\n\n    .dataframe thead th {\n        text-align: right;\n    }\n</style>\n<table border=\"1\" class=\"dataframe\">\n  <thead>\n    <tr style=\"text-align: right;\">\n      <th></th>\n      <th>zipcode</th>\n      <th>dob_ssn</th>\n      <th>person_age</th>\n      <th>person_income</th>\n      <th>person_emp_length</th>\n      <th>loan_amnt</th>\n      <th>loan_int_rate</th>\n      <th>location_type</th>\n      <th>city</th>\n      <th>population</th>\n      <th>...</th>\n      <th>missed_payments_2y</th>\n      <th>missed_payments_6m</th>\n      <th>vehicle_loan_due</th>\n      <th>hard_pulls</th>\n      <th>student_loan_due</th>\n      <th>bankruptcies</th>\n      <th>missed_payments_1y</th>\n      <th>mortgage_due</th>\n      <th>person_home_ownership_enc</th>\n      <th>loan_intent_enc</th>\n    </tr>\n  </thead>\n  <tbody>\n    <tr>\n      <th>0</th>\n      <td>76104</td>\n      <td>19630621_4278</td>\n      <td>33</td>\n      <td>59000</td>\n      <td>12.0</td>\n      <td>35000</td>\n      <td>16.02</td>\n      <td>PRIMARY</td>\n      <td>FORT WORTH</td>\n      <td>10534</td>\n      <td>...</td>\n      <td>0</td>\n      <td>0</td>\n      <td>11506</td>\n      <td>1</td>\n      <td>44375</td>\n      <td>0</td>\n      <td>0</td>\n      <td>378847</td>\n      <td>0</td>\n      <td>0</td>\n    </tr>\n  </tbody>\n</table>\n<p>1 rows × 24 columns</p>\n</div>"
     },
     "execution_count": 23,
     "metadata": {},
     "output_type": "execute_result"
    }
   ],
   "source": [
    "features_df.head()"
   ],
   "metadata": {
    "collapsed": false
   }
  },
  {
   "cell_type": "code",
   "execution_count": 24,
   "outputs": [],
   "source": [
    "# Apply ordinal encoding to categorical features\n",
    "\n",
    "categorical_features = [\n",
    "    \"city\",\n",
    "    \"state\",\n",
    "    \"location_type\",\n",
    "]\n",
    "\n",
    "# load encoder\n",
    "encoder = joblib.load(encoder_filename)\n",
    "\n",
    "# apply encoding\n",
    "features_df[categorical_features] = encoder.transform(\n",
    "    features_df[categorical_features]\n",
    ")"
   ],
   "metadata": {
    "collapsed": false
   }
  },
  {
   "cell_type": "code",
   "execution_count": 25,
   "outputs": [
    {
     "data": {
      "text/plain": "   zipcode        dob_ssn  person_age  person_income  person_emp_length  \\\n0    76104  19630621_4278          33          59000               12.0   \n\n   loan_amnt  loan_int_rate  location_type    city  population  ...  \\\n0      35000          16.02            0.0  3115.0       10534  ...   \n\n   missed_payments_2y  missed_payments_6m  vehicle_loan_due  hard_pulls  \\\n0                   0                   0             11506           1   \n\n   student_loan_due  bankruptcies  missed_payments_1y  mortgage_due  \\\n0             44375             0                   0        378847   \n\n   person_home_ownership_enc  loan_intent_enc  \n0                          0                0  \n\n[1 rows x 24 columns]",
      "text/html": "<div>\n<style scoped>\n    .dataframe tbody tr th:only-of-type {\n        vertical-align: middle;\n    }\n\n    .dataframe tbody tr th {\n        vertical-align: top;\n    }\n\n    .dataframe thead th {\n        text-align: right;\n    }\n</style>\n<table border=\"1\" class=\"dataframe\">\n  <thead>\n    <tr style=\"text-align: right;\">\n      <th></th>\n      <th>zipcode</th>\n      <th>dob_ssn</th>\n      <th>person_age</th>\n      <th>person_income</th>\n      <th>person_emp_length</th>\n      <th>loan_amnt</th>\n      <th>loan_int_rate</th>\n      <th>location_type</th>\n      <th>city</th>\n      <th>population</th>\n      <th>...</th>\n      <th>missed_payments_2y</th>\n      <th>missed_payments_6m</th>\n      <th>vehicle_loan_due</th>\n      <th>hard_pulls</th>\n      <th>student_loan_due</th>\n      <th>bankruptcies</th>\n      <th>missed_payments_1y</th>\n      <th>mortgage_due</th>\n      <th>person_home_ownership_enc</th>\n      <th>loan_intent_enc</th>\n    </tr>\n  </thead>\n  <tbody>\n    <tr>\n      <th>0</th>\n      <td>76104</td>\n      <td>19630621_4278</td>\n      <td>33</td>\n      <td>59000</td>\n      <td>12.0</td>\n      <td>35000</td>\n      <td>16.02</td>\n      <td>0.0</td>\n      <td>3115.0</td>\n      <td>10534</td>\n      <td>...</td>\n      <td>0</td>\n      <td>0</td>\n      <td>11506</td>\n      <td>1</td>\n      <td>44375</td>\n      <td>0</td>\n      <td>0</td>\n      <td>378847</td>\n      <td>0</td>\n      <td>0</td>\n    </tr>\n  </tbody>\n</table>\n<p>1 rows × 24 columns</p>\n</div>"
     },
     "execution_count": 25,
     "metadata": {},
     "output_type": "execute_result"
    }
   ],
   "source": [
    "features_df.head()"
   ],
   "metadata": {
    "collapsed": false
   }
  },
  {
   "cell_type": "code",
   "execution_count": 26,
   "outputs": [],
   "source": [
    "# Sort columns\n",
    "features_df = features_df.reindex(sorted(features_df.columns), axis=1)\n",
    "\n",
    "# Drop unnecessary columns\n",
    "features_df = features_df[features_df.columns.drop(\"zipcode\").drop(\"dob_ssn\")]\n",
    "\n",
    "# Make prediction\n",
    "features_df[\"prediction\"] = classifier.predict(features_df)\n",
    "\n",
    "result = features_df[\"prediction\"].iloc[0]"
   ],
   "metadata": {
    "collapsed": false
   }
  },
  {
   "cell_type": "code",
   "execution_count": 27,
   "outputs": [
    {
     "name": "stdout",
     "output_type": "stream",
     "text": [
      "Loan approved!\n"
     ]
    }
   ],
   "source": [
    "if result == 0:\n",
    "    print(\"Loan approved!\")\n",
    "elif result == 1:\n",
    "    print(\"Loan rejected!\")"
   ],
   "metadata": {
    "collapsed": false
   }
  },
  {
   "cell_type": "code",
   "execution_count": null,
   "outputs": [],
   "source": [],
   "metadata": {
    "collapsed": false
   }
  }
 ],
 "metadata": {
  "kernelspec": {
   "display_name": "Python 3",
   "language": "python",
   "name": "python3"
  },
  "language_info": {
   "codemirror_mode": {
    "name": "ipython",
    "version": 2
   },
   "file_extension": ".py",
   "mimetype": "text/x-python",
   "name": "python",
   "nbconvert_exporter": "python",
   "pygments_lexer": "ipython2",
   "version": "2.7.6"
  }
 },
 "nbformat": 4,
 "nbformat_minor": 0
}
