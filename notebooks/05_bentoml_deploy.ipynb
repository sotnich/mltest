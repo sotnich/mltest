{
 "cells": [
  {
   "cell_type": "code",
   "execution_count": 230,
   "outputs": [],
   "source": [
    "import os\n",
    "import pandas as pd\n",
    "from getpass import getpass\n",
    "from sklearn import tree\n",
    "from sklearn.model_selection import train_test_split\n",
    "import bentoml"
   ],
   "metadata": {
    "collapsed": false
   }
  },
  {
   "cell_type": "code",
   "execution_count": 233,
   "outputs": [],
   "source": [
    "# Please set these variables in your local notebook (if you want to run this locally)\n",
    "# os.environ['YATAI_HOST']=\"a64acbaff7bb1491d88bc34071c375c1-663950777.eu-west-3.elb.amazonaws.com\""
   ],
   "metadata": {
    "collapsed": false
   }
  },
  {
   "cell_type": "code",
   "execution_count": 231,
   "outputs": [],
   "source": [
    "if \"YATAI_TOKEN\" not in os.environ.keys() or os.environ[\"YATAI_TOKEN\"] == '':\n",
    "    os.environ[\"YATAI_TOKEN\"] = getpass(\"Enter your YATAI API token: \")"
   ],
   "metadata": {
    "collapsed": false
   }
  },
  {
   "cell_type": "code",
   "execution_count": 232,
   "outputs": [],
   "source": [
    "SPACE_KEY = \"fa2cbad\"\n",
    "if 'API_KEY' not in locals():\n",
    "    API_KEY = getpass(\"Enter your Arize Api Key: \")\n",
    "os.environ['ARIZE_SPACE_KEY'] = SPACE_KEY\n",
    "os.environ['ARIZE_API_KEY'] = API_KEY"
   ],
   "metadata": {
    "collapsed": false
   }
  },
  {
   "cell_type": "code",
   "execution_count": 234,
   "outputs": [
    {
     "name": "stdout",
     "output_type": "stream",
     "text": [
      "Overriding existing Yatai context config: default\r\n",
      "Successfully logged in as user \"zuehlke\" in organization \"default\".\r\n"
     ]
    }
   ],
   "source": [
    "# login to yatai server\n",
    "\n",
    "! bentoml yatai login --api-token \"$YATAI_TOKEN\" --endpoint \"http://$YATAI_HOST\""
   ],
   "metadata": {
    "collapsed": false
   }
  },
  {
   "cell_type": "code",
   "execution_count": 235,
   "outputs": [
    {
     "data": {
      "text/plain": "DecisionTreeClassifier()",
      "text/html": "<style>#sk-container-id-5 {color: black;background-color: white;}#sk-container-id-5 pre{padding: 0;}#sk-container-id-5 div.sk-toggleable {background-color: white;}#sk-container-id-5 label.sk-toggleable__label {cursor: pointer;display: block;width: 100%;margin-bottom: 0;padding: 0.3em;box-sizing: border-box;text-align: center;}#sk-container-id-5 label.sk-toggleable__label-arrow:before {content: \"▸\";float: left;margin-right: 0.25em;color: #696969;}#sk-container-id-5 label.sk-toggleable__label-arrow:hover:before {color: black;}#sk-container-id-5 div.sk-estimator:hover label.sk-toggleable__label-arrow:before {color: black;}#sk-container-id-5 div.sk-toggleable__content {max-height: 0;max-width: 0;overflow: hidden;text-align: left;background-color: #f0f8ff;}#sk-container-id-5 div.sk-toggleable__content pre {margin: 0.2em;color: black;border-radius: 0.25em;background-color: #f0f8ff;}#sk-container-id-5 input.sk-toggleable__control:checked~div.sk-toggleable__content {max-height: 200px;max-width: 100%;overflow: auto;}#sk-container-id-5 input.sk-toggleable__control:checked~label.sk-toggleable__label-arrow:before {content: \"▾\";}#sk-container-id-5 div.sk-estimator input.sk-toggleable__control:checked~label.sk-toggleable__label {background-color: #d4ebff;}#sk-container-id-5 div.sk-label input.sk-toggleable__control:checked~label.sk-toggleable__label {background-color: #d4ebff;}#sk-container-id-5 input.sk-hidden--visually {border: 0;clip: rect(1px 1px 1px 1px);clip: rect(1px, 1px, 1px, 1px);height: 1px;margin: -1px;overflow: hidden;padding: 0;position: absolute;width: 1px;}#sk-container-id-5 div.sk-estimator {font-family: monospace;background-color: #f0f8ff;border: 1px dotted black;border-radius: 0.25em;box-sizing: border-box;margin-bottom: 0.5em;}#sk-container-id-5 div.sk-estimator:hover {background-color: #d4ebff;}#sk-container-id-5 div.sk-parallel-item::after {content: \"\";width: 100%;border-bottom: 1px solid gray;flex-grow: 1;}#sk-container-id-5 div.sk-label:hover label.sk-toggleable__label {background-color: #d4ebff;}#sk-container-id-5 div.sk-serial::before {content: \"\";position: absolute;border-left: 1px solid gray;box-sizing: border-box;top: 0;bottom: 0;left: 50%;z-index: 0;}#sk-container-id-5 div.sk-serial {display: flex;flex-direction: column;align-items: center;background-color: white;padding-right: 0.2em;padding-left: 0.2em;position: relative;}#sk-container-id-5 div.sk-item {position: relative;z-index: 1;}#sk-container-id-5 div.sk-parallel {display: flex;align-items: stretch;justify-content: center;background-color: white;position: relative;}#sk-container-id-5 div.sk-item::before, #sk-container-id-5 div.sk-parallel-item::before {content: \"\";position: absolute;border-left: 1px solid gray;box-sizing: border-box;top: 0;bottom: 0;left: 50%;z-index: -1;}#sk-container-id-5 div.sk-parallel-item {display: flex;flex-direction: column;z-index: 1;position: relative;background-color: white;}#sk-container-id-5 div.sk-parallel-item:first-child::after {align-self: flex-end;width: 50%;}#sk-container-id-5 div.sk-parallel-item:last-child::after {align-self: flex-start;width: 50%;}#sk-container-id-5 div.sk-parallel-item:only-child::after {width: 0;}#sk-container-id-5 div.sk-dashed-wrapped {border: 1px dashed gray;margin: 0 0.4em 0.5em 0.4em;box-sizing: border-box;padding-bottom: 0.4em;background-color: white;}#sk-container-id-5 div.sk-label label {font-family: monospace;font-weight: bold;display: inline-block;line-height: 1.2em;}#sk-container-id-5 div.sk-label-container {text-align: center;}#sk-container-id-5 div.sk-container {/* jupyter's `normalize.less` sets `[hidden] { display: none; }` but bootstrap.min.css set `[hidden] { display: none !important; }` so we also need the `!important` here to be able to override the default hidden behavior on the sphinx rendered scikit-learn.org. See: https://github.com/scikit-learn/scikit-learn/issues/21755 */display: inline-block !important;position: relative;}#sk-container-id-5 div.sk-text-repr-fallback {display: none;}</style><div id=\"sk-container-id-5\" class=\"sk-top-container\"><div class=\"sk-text-repr-fallback\"><pre>DecisionTreeClassifier()</pre><b>In a Jupyter environment, please rerun this cell to show the HTML representation or trust the notebook. <br />On GitHub, the HTML representation is unable to render, please try loading this page with nbviewer.org.</b></div><div class=\"sk-container\" hidden><div class=\"sk-item\"><div class=\"sk-estimator sk-toggleable\"><input class=\"sk-toggleable__control sk-hidden--visually\" id=\"sk-estimator-id-5\" type=\"checkbox\" checked><label for=\"sk-estimator-id-5\" class=\"sk-toggleable__label sk-toggleable__label-arrow\">DecisionTreeClassifier</label><div class=\"sk-toggleable__content\"><pre>DecisionTreeClassifier()</pre></div></div></div></div></div>"
     },
     "execution_count": 235,
     "metadata": {},
     "output_type": "execute_result"
    }
   ],
   "source": [
    "# model train\n",
    "\n",
    "training_df = pd.read_parquet(f\"../data/loan_table_training.parquet\") # load train dataset\n",
    "target = \"loan_status\"\n",
    "x = training_df[\n",
    "    training_df.columns.drop(target)\n",
    "    .drop(\"event_timestamp\")\n",
    "    .drop(\"created_timestamp\")\n",
    "    .drop(\"loan_id\")\n",
    "    .drop(\"zipcode\")\n",
    "    .drop(\"dob_ssn\")\n",
    "]\n",
    "X = x.reindex(sorted(x.columns), axis=1)\n",
    "y = training_df.loc[:, target]\n",
    "X_train, X_test, y_train, y_test = train_test_split(\n",
    "    X, y, test_size=0.4, random_state=1234\n",
    ")\n",
    "classifier = tree.DecisionTreeClassifier()\n",
    "classifier.fit(X_train[sorted(X_train)], y_train)"
   ],
   "metadata": {
    "collapsed": false
   }
  },
  {
   "cell_type": "code",
   "execution_count": 236,
   "outputs": [
    {
     "data": {
      "text/plain": "Model(tag=\"credit_score:ohqovqe4wk5nuwug\", path=\"/Users/sotnich/bentoml/models/credit_score/ohqovqe4wk5nuwug/\")"
     },
     "execution_count": 236,
     "metadata": {},
     "output_type": "execute_result"
    }
   ],
   "source": [
    "# save model locally to build bento\n",
    "\n",
    "bentoml.sklearn.save_model(\"credit_score\", classifier)"
   ],
   "metadata": {
    "collapsed": false
   }
  },
  {
   "cell_type": "code",
   "execution_count": 237,
   "outputs": [
    {
     "name": "stdout",
     "output_type": "stream",
     "text": [
      "Writing service.py\n"
     ]
    }
   ],
   "source": [
    "%%writefile service.py\n",
    "import bentoml\n",
    "import pandas as pd\n",
    "from bentoml.io import PandasDataFrame, JSON\n",
    "from bentoml._internal.context import trace_context     # hack to return prediction_id\n",
    "from typing import Dict, Any\n",
    "\n",
    "bentoml.load_config(\"bentoml_configuration.yaml\")\n",
    "\n",
    "credit_score_runner = bentoml.sklearn.get(\"credit_score:latest\").to_runner()\n",
    "model_version = credit_score_runner.models[0].info.version\n",
    "\n",
    "svc = bentoml.Service(\"credit_score\", runners=[credit_score_runner])\n",
    "\n",
    "@svc.api(input=PandasDataFrame(), output=JSON())\n",
    "def classify(input_arr: pd.DataFrame) -> Dict[str, Any]:\n",
    "    with bentoml.monitor(\"credit_score_prediction\") as mon:\n",
    "        for feature in input_arr:\n",
    "            mon.log(input_arr[feature][0], name=feature, role=\"feature\", data_type=\"numerical\")\n",
    "\n",
    "        result = credit_score_runner.run(input_arr)\n",
    "\n",
    "        mon.log(str(result[0]), name=\"pred\", role=\"prediction\", data_type=\"categorical\")\n",
    "\n",
    "    request_id = trace_context.request_id\n",
    "    return {\"prediction\": result[0], \"prediction_id\": request_id, \"model_version\": model_version}"
   ],
   "metadata": {
    "collapsed": false
   }
  },
  {
   "cell_type": "code",
   "execution_count": 238,
   "outputs": [
    {
     "name": "stdout",
     "output_type": "stream",
     "text": [
      "Writing bentofile.yaml\n"
     ]
    }
   ],
   "source": [
    "%%writefile bentofile.yaml\n",
    "service: \"service.py:svc\"\n",
    "labels:\n",
    "  owner: bentoml-team\n",
    "  project: gallery\n",
    "include:\n",
    "- \"*.py\"\n",
    "- \"bentoml_configuration.yaml\"\n",
    "python:\n",
    "  packages:\n",
    "    - scikit-learn\n",
    "    - pandas\n",
    "    - bentoml-plugins-arize"
   ],
   "metadata": {
    "collapsed": false
   }
  },
  {
   "cell_type": "code",
   "execution_count": 239,
   "outputs": [
    {
     "name": "stdout",
     "output_type": "stream",
     "text": [
      "Writing bentoml_configuration.yaml\n"
     ]
    }
   ],
   "source": [
    "%%writefile bentoml_configuration.yaml\n",
    "monitoring:\n",
    "  enabled: true\n",
    "  type: bentoml_plugins.arize.ArizeMonitor\n",
    "  options:\n",
    "    space_key: SPACE_KEY\n",
    "    api_key: API_KEY"
   ],
   "metadata": {
    "collapsed": false
   }
  },
  {
   "cell_type": "code",
   "execution_count": 240,
   "outputs": [],
   "source": [
    "! sed -i \"\" \"s/SPACE_KEY/$ARIZE_SPACE_KEY/g\" bentoml_configuration.yaml"
   ],
   "metadata": {
    "collapsed": false
   }
  },
  {
   "cell_type": "code",
   "execution_count": 241,
   "outputs": [],
   "source": [
    "! sed -i \"\" \"s/API_KEY/$ARIZE_API_KEY/g\" bentoml_configuration.yaml"
   ],
   "metadata": {
    "collapsed": false
   }
  },
  {
   "cell_type": "code",
   "execution_count": 242,
   "outputs": [
    {
     "name": "stdout",
     "output_type": "stream",
     "text": [
      "Applying user config override from path: bentoml_configuration.yaml\r\n",
      "Building BentoML service \"credit_score:sppomge4wkjzcwug\" from build context \"/Users/sotnich/Sources/mltest/notebooks\".\r\n",
      "Packing model \"credit_score:ohqovqe4wk5nuwug\"\r\n",
      "Locking PyPI package versions.\r\n",
      "\u001B[33mWARNING: the legacy dependency resolver is deprecated and will be removed in future versions of pip-tools. The default resolver will be changed to 'backtracking' in pip-tools 7.0.0. Specify --resolver=backtracking to silence this warning.\u001B[0m\r\n",
      "\r\n",
      "██████╗░███████╗███╗░░██╗████████╗░█████╗░███╗░░░███╗██╗░░░░░\r\n",
      "██╔══██╗██╔════╝████╗░██║╚══██╔══╝██╔══██╗████╗░████║██║░░░░░\r\n",
      "██████╦╝█████╗░░██╔██╗██║░░░██║░░░██║░░██║██╔████╔██║██║░░░░░\r\n",
      "██╔══██╗██╔══╝░░██║╚████║░░░██║░░░██║░░██║██║╚██╔╝██║██║░░░░░\r\n",
      "██████╦╝███████╗██║░╚███║░░░██║░░░╚█████╔╝██║░╚═╝░██║███████╗\r\n",
      "╚═════╝░╚══════╝╚═╝░░╚══╝░░░╚═╝░���░░╚════╝░╚═╝░░░░░╚═╝╚══════╝\r\n",
      "\r\n",
      "Successfully built Bento(tag=\"credit_score:sppomge4wkjzcwug\").\r\n"
     ]
    }
   ],
   "source": [
    "# build bento locally to push it then to bentoml yatai server\n",
    "\n",
    "!bentoml build"
   ],
   "metadata": {
    "collapsed": false
   }
  },
  {
   "cell_type": "code",
   "execution_count": 243,
   "outputs": [
    {
     "name": "stdout",
     "output_type": "stream",
     "text": [
      "\u001B[?25l╭──────────────────────────────────────────────────────────────────────────────╮\r\n",
      "\u001B[2K\u001B[1A\u001B[2K╭──────────────────────────────────────────────────────────────────────────────╮\r\n",
      "│    \u001B[33m0:00:…\u001B[0m \u001B[1;35mRegistering model \"credit_score:ohqovqe4wk5nuwug\" with Yatai..\u001B[0m \u001B[32m.  \u001B[0m │\r\n",
      "\u001B[2K\u001B[1A\u001B[2K\u001B[1A\u001B[2K╭──────────────────────────────────────────────────────────────────────────────╮\r\n",
      "│    \u001B[33m0:00:…\u001B[0m \u001B[1;35mRegistering model \"credit_score:ohqovqe4wk5nuwug\" with Yatai..\u001B[0m \u001B[32m.  \u001B[0m │\r\n",
      "\u001B[2K\u001B[1A\u001B[2K\u001B[1A\u001B[2K╭──────────────────────────────────────────────────────────────────────────────╮\r\n",
      "╰──────────────────────────────────────────────────────────────────────────────╯\r\n",
      "\u001B[1;34mUploading model \"credit_score:ohqovqe4wk5nuwug\"\u001B[0m \u001B[90m━━━━\u001B[0m \u001B[35m100.0%\u001B[0m • \u001B[32m29.…\u001B[0m • \u001B[31m281…\u001B[0m • \u001B[36m0:0…\u001B[0m\r\n",
      "\u001B[2K\u001B[1A\u001B[2K\u001B[1A\u001B[2K\u001B[1A\u001B[2K╭──────────────────────────────────────────────────────────────────────────────╮\r\n",
      "╰──────────────────────────────────────────────────────────────────────────────╯\r\n",
      "\u001B[1;34mUploading model \"credit_score:ohqovqe4wk5nuwug\"\u001B[0m \u001B[90m━━━━\u001B[0m \u001B[35m100.0%\u001B[0m • \u001B[32m29.…\u001B[0m • \u001B[31m281…\u001B[0m • \u001B[36m0:0…\u001B[0m\r\n",
      "\u001B[2K\u001B[1A\u001B[2K\u001B[1A\u001B[2K\u001B[1A\u001B[2K╭──────────────────────────────────────────────────────────────────────────────╮\r\n",
      "╰──────────────────────────────────────────────────────────────────────────────╯\r\n",
      "\u001B[1;34mUploading model \"credit_score:ohqovqe4wk5nuwug\"\u001B[0m \u001B[90m━━━━\u001B[0m \u001B[35m100.0%\u001B[0m • \u001B[32m29.…\u001B[0m • \u001B[31m281…\u001B[0m • \u001B[36m0:0…\u001B[0m\r\n",
      "\u001B[2K\u001B[1A\u001B[2K\u001B[1A\u001B[2K\u001B[1A\u001B[2K╭──────────────────────────────────────────────────────────────────────────────╮\r\n",
      "╰──────────────────────────────────────────────────────────────────────────────╯\r\n",
      "\u001B[1;34mUploading model \"credit_score:ohqovqe4wk5nuwug\"\u001B[0m \u001B[90m━━━━\u001B[0m \u001B[35m100.0%\u001B[0m • \u001B[32m29.…\u001B[0m • \u001B[31m281…\u001B[0m • \u001B[36m0:0…\u001B[0m\r\n",
      "\u001B[2K\u001B[1A\u001B[2K\u001B[1A\u001B[2K\u001B[1A\u001B[2K╭──────────────────────────────────────────────────────────────────────────────╮\r\n",
      "╰──────────────────────────────────────────────────────────────────────────────╯\r\n",
      "\u001B[1;34mUploading model \"credit_score:ohqovqe4wk5nuwug\"\u001B[0m \u001B[90m━━━━\u001B[0m \u001B[35m100.0%\u001B[0m • \u001B[32m29.…\u001B[0m • \u001B[31m281…\u001B[0m • \u001B[36m0:0…\u001B[0m\r\n",
      "\u001B[2K\u001B[1A\u001B[2K\u001B[1A\u001B[2K\u001B[1A\u001B[2K╭──────────────────────────────────────────────────────────────────────────────╮\r\n",
      "╰──────────────────────────────────────────────────────────────────────────────╯\r\n",
      "\u001B[1;34mUploading model \"credit_score:ohqovqe4wk5nuwug\"\u001B[0m \u001B[90m━━━━\u001B[0m \u001B[35m100.0%\u001B[0m • \u001B[32m29.…\u001B[0m • \u001B[31m281…\u001B[0m • \u001B[36m0:0…\u001B[0m\r\n",
      "\u001B[2K\u001B[1A\u001B[2K\u001B[1A\u001B[2K\u001B[1A\u001B[2K╭──────────────────────────────────────────────────────────────────────────────╮\r\n",
      "│ \u001B[1;32mSuccessfully pushed model \"credit_score:ohqovqe4wk5nuwug\"\u001B[0m                    │\r\n",
      "│    \u001B[33m0:0…\u001B[0m \u001B[1;35mCreating tar archive for bento \"credit_score:sppomge4wkjzcwug\"..\u001B[0m \u001B[32m.. \u001B[0m │\r\n",
      "╰──────────────────────────────────────────────────────────────────────────────╯\r\n",
      "\u001B[1;34mUploading model \"credit_score:ohqovqe4wk5nuwug\"\u001B[0m \u001B[90m━━━━\u001B[0m \u001B[35m100.0%\u001B[0m • \u001B[32m29.…\u001B[0m • \u001B[31m281…\u001B[0m • \u001B[36m0:0…\u001B[0m\r\n",
      "\u001B[2K\u001B[1A\u001B[2K\u001B[1A\u001B[2K\u001B[1A\u001B[2K\u001B[1A\u001B[2K\u001B[1A\u001B[2K╭──────────────────────────────────────────────────────────────────────────────╮\r\n",
      "│ \u001B[1;32mSuccessfully pushed model \"credit_score:ohqovqe4wk5nuwug\"\u001B[0m                    │\r\n",
      "│    \u001B[33m0:00:00\u001B[0m \u001B[1;35mStart uploading bento \"credit_score:sppomge4wkjzcwug\"..\u001B[0m \u001B[32m.. \u001B[0m       │\r\n",
      "╰──────────────────────────────────────────────────────────────────────────────╯\r\n",
      "\u001B[1;34mUploading model \"credit_score:ohqovqe4wk5nuwug\"\u001B[0m \u001B[90m━━━━\u001B[0m \u001B[35m100.0%\u001B[0m • \u001B[32m29.…\u001B[0m • \u001B[31m281…\u001B[0m • \u001B[36m0:0…\u001B[0m\r\n",
      "\u001B[2K\u001B[1A\u001B[2K\u001B[1A\u001B[2K\u001B[1A\u001B[2K\u001B[1A\u001B[2K\u001B[1A\u001B[2K╭──────────────────────────────────────────────────────────────────────────────╮\r\n",
      "│ \u001B[1;32mSuccessfully pushed model \"credit_score:ohqovqe4wk5nuwug\"\u001B[0m                    │\r\n",
      "╰──────────────────────────────────────────────────────────────────────────────╯\r\n",
      "  \u001B[1;34mPushing Bento \"credit_score:sppomge4wkjzcwug\"\u001B[0m \u001B[90m━━━━\u001B[0m \u001B[35m100.0%\u001B[0m • \u001B[32m7.0…\u001B[0m • \u001B[31m?   \u001B[0m • \u001B[36m0:0…\u001B[0m\r\n",
      "                                                              \u001B[32mkB  \u001B[0m              \r\n",
      "\u001B[1;34mUploading model \"credit_score:ohqovqe4wk5nuwug\"\u001B[0m \u001B[90m━━━━\u001B[0m \u001B[35m100.0%\u001B[0m • \u001B[32m29.…\u001B[0m • \u001B[31m281…\u001B[0m • \u001B[36m0:0…\u001B[0m\r\n",
      "\u001B[2K\u001B[1A\u001B[2K\u001B[1A\u001B[2K\u001B[1A\u001B[2K\u001B[1A\u001B[2K\u001B[1A\u001B[2K\u001B[1A\u001B[2K╭──────────────────────────────────────────────────────────────────────────────╮\r\n",
      "│ \u001B[1;32mSuccessfully pushed model \"credit_score:ohqovqe4wk5nuwug\"\u001B[0m                    │\r\n",
      "╰──────────────────────────────────────────────────────────────────────────────╯\r\n",
      "  \u001B[1;34mPushing Bento \"credit_score:sppomge4wkjzcwug\"\u001B[0m \u001B[90m━━━━\u001B[0m \u001B[35m100.0%\u001B[0m • \u001B[32m7.0…\u001B[0m • \u001B[31m?   \u001B[0m • \u001B[36m0:0…\u001B[0m\r\n",
      "                                                              \u001B[32mkB  \u001B[0m              \r\n",
      "\u001B[1;34mUploading model \"credit_score:ohqovqe4wk5nuwug\"\u001B[0m \u001B[90m━━━━\u001B[0m \u001B[35m100.0%\u001B[0m • \u001B[32m29.…\u001B[0m • \u001B[31m281…\u001B[0m • \u001B[36m0:0…\u001B[0m\r\n",
      "\u001B[2K\u001B[1A\u001B[2K\u001B[1A\u001B[2K\u001B[1A\u001B[2K\u001B[1A\u001B[2K\u001B[1A\u001B[2K\u001B[1A\u001B[2K╭──────────────────────────────────────────────────────────────────────────────╮\r\n",
      "│ \u001B[1;32mSuccessfully pushed model \"credit_score:ohqovqe4wk5nuwug\"\u001B[0m                    │\r\n",
      "╰──────────────────────────────────────────────────────────────────────────────╯\r\n",
      "  \u001B[1;34mPushing Bento \"credit_score:sppomge4wkjzcwug\"\u001B[0m \u001B[90m━━━━\u001B[0m \u001B[35m100.0%\u001B[0m • \u001B[32m7.0…\u001B[0m • \u001B[31m?   \u001B[0m • \u001B[36m0:0…\u001B[0m\r\n",
      "                                                              \u001B[32mkB  \u001B[0m              \r\n",
      "\u001B[1;34mUploading model \"credit_score:ohqovqe4wk5nuwug\"\u001B[0m \u001B[90m━━━━\u001B[0m \u001B[35m100.0%\u001B[0m • \u001B[32m29.…\u001B[0m • \u001B[31m281…\u001B[0m • \u001B[36m0:0…\u001B[0m\r\n",
      "\u001B[2K\u001B[1A\u001B[2K\u001B[1A\u001B[2K\u001B[1A\u001B[2K\u001B[1A\u001B[2K\u001B[1A\u001B[2K\u001B[1A\u001B[2K╭──────────────────────────────────────────────────────────────────────────────╮\r\n",
      "│ \u001B[1;32mSuccessfully pushed model \"credit_score:ohqovqe4wk5nuwug\"\u001B[0m                    │\r\n",
      "│ \u001B[1;32mSuccessfully pushed bento \"credit_score:sppomge4wkjzcwug\"\u001B[0m                    │\r\n",
      "╰──────────────────────────────────────────────────────────────────────────────╯\r\n",
      "  \u001B[1;34mPushing Bento \"credit_score:sppomge4wkjzcwug\"\u001B[0m \u001B[90m━━━━\u001B[0m \u001B[35m100.0%\u001B[0m • \u001B[32m7.0…\u001B[0m • \u001B[31m?   \u001B[0m • \u001B[36m0:0…\u001B[0m\r\n",
      "                                                              \u001B[32mkB  \u001B[0m              \r\n",
      "\u001B[1;34mUploading model \"credit_score:ohqovqe4wk5nuwug\"\u001B[0m \u001B[90m━━━━\u001B[0m \u001B[35m100.0%\u001B[0m • \u001B[32m29.…\u001B[0m • \u001B[31m281…\u001B[0m • \u001B[36m0:0…\u001B[0m\r\n",
      "                                                              \u001B[32mkB  \u001B[0m   \u001B[31mMB/s\u001B[0m       \r\n",
      "\u001B[?25h"
     ]
    }
   ],
   "source": [
    "# pushing bento to server\n",
    "# Then you need to go to YATAI UI and make a deployment\n",
    "\n",
    "! bentoml push credit_score"
   ],
   "metadata": {
    "collapsed": false
   }
  },
  {
   "cell_type": "code",
   "execution_count": null,
   "outputs": [],
   "source": [],
   "metadata": {
    "collapsed": false
   }
  }
 ],
 "metadata": {
  "kernelspec": {
   "display_name": "Python 3",
   "language": "python",
   "name": "python3"
  },
  "language_info": {
   "codemirror_mode": {
    "name": "ipython",
    "version": 2
   },
   "file_extension": ".py",
   "mimetype": "text/x-python",
   "name": "python",
   "nbconvert_exporter": "python",
   "pygments_lexer": "ipython2",
   "version": "2.7.6"
  }
 },
 "nbformat": 4,
 "nbformat_minor": 0
}
